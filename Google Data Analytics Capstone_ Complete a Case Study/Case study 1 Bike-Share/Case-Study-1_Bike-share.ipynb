{
 "cells": [
  {
   "cell_type": "markdown",
   "id": "metric-wages",
   "metadata": {},
   "source": [
    "## How Does a Bike-Share Navigate Speedy Success?\n",
    "\n",
    "<img src='logo.png' alt=\"drawing\" width=\"500\">\n"
   ]
  },
  {
   "cell_type": "markdown",
   "id": "medium-executive",
   "metadata": {},
   "source": [
    "# Scenario\n",
    "\n",
    "You are a `junior data analyst` working in the marketing analyst team at `Cyclistic`, a bike-share company in Chicago. The director of marketing believes the company’s future `success` depends on `maximizing the number of annual memberships`. Therefore, your\n",
    "team `wants to understand how casual riders and annual members use Cyclistic bikes differently`. From these insights, your team will design a new marketing strategy `to convert casual riders into annual members`. But first, Cyclistic executives must approve your recommendations, so they must be backed up with compelling data insights and professional data visualizations."
   ]
  },
  {
   "cell_type": "markdown",
   "id": "tight-kelly",
   "metadata": {},
   "source": [
    "## Characters and teams\n",
    "\n",
    "- `Cyclistic`: A `bike-share program` that features more than 5,800 bicycles and 600 docking stations. Cyclistic sets itself apart by also offering reclining bikes, hand tricycles, and cargo bikes, making bike-share more inclusive to people with disabilities and riders who can't use a standard two-wheeled bike. The majority of riders opt for traditional bikes; about 8% of riders use the assistive options. Cyclistic users are more likely to ride for leisure, but about 30% use them to commute to work each day. \n",
    "\n",
    "- `Lily Moreno`: The `director` of marketing and your `manager`. Moreno is `responsible for the development of campaigns and initiatives to promote the bike-share program`. These may include email, social media, and other channels.\n",
    "\n",
    "- `Cyclistic marketing analytics team`: A `team of data analysts` who are `responsible` for collecting, analyzing, and reporting data that helps guide Cyclistic marketing strategy. You joined this team six months ago and have been busy learning about Cyclistic’s mission and business goals — as well as how you, as a junior data analyst, can help Cyclistic achieve them.\n",
    "\n",
    "- `Cyclistic executive team`: The notoriously detail-oriented executive team will `decide whether to approve the\n",
    "recommended marketing program`."
   ]
  },
  {
   "cell_type": "markdown",
   "id": "national-ranking",
   "metadata": {},
   "source": [
    "## About the company\n",
    "\n",
    "In 2016, Cyclistic launched a successful bike-share offering. Since then, the program has grown to a fleet of 5,824 bicycles that are geotracked and locked into a network of 692 stations across Chicago. The bikes can be unlocked from one station and returned to any other station in the system anytime.\n",
    "Until now, Cyclistic’s marketing strategy relied on building general awareness and appealing to broad consumer segments. One approach that helped make these things possible was the flexibility of its pricing plans: `single-ride passes, full-day passes, and annual memberships`. Customers who purchase single-ride or full-day passes are referred to as casual riders. Customers who purchase annual memberships are Cyclistic members. \n",
    "\n",
    "Cyclistic’s finance analysts have `concluded that annual members are much more profitable than casual riders`. Although the pricing flexibility helps Cyclistic attract more customers, `Moreno believes that ` `maximizing` the number of annual members will be key to `future growth`. Rather than creating a marketing campaign that targets all-new customers, `Moreno believes there is a very good chance to convert casual riders into members`. She notes that casual riders are already aware of the Cyclistic program and have chosen Cyclistic for their mobility needs. \n",
    "\n",
    "<b> Moreno has set a clear goal: </b>\n",
    "\n",
    "- Design marketing strategies aimed at `converting casual riders into annual members`. In order to do that, however, the marketing analyst team needs to better understand `how annual members and casual riders differ`, `why casual riders would buy a membership`, and `how digital media could affect their marketing tactics`. Moreno and her team are interested in analyzing the Cyclistic historical bike trip data to identify trends."
   ]
  },
  {
   "cell_type": "markdown",
   "id": "charitable-wings",
   "metadata": {},
   "source": [
    "# Roadmap For Data Analysis Process\n",
    "<img src = 'https://lh5.googleusercontent.com/R04kRGnrDkkbLOKhuZT_lB73Bv_nt_TC99VxOywWQnSz3_54EkXg_dDyGdlnFXiE37F6Rz2ulPump6xdxqOPprHCuCPaqmh6-5X6psfS_SEHEjhgzwzon1HAV4_0DJZwtF66c9mx=w945-h600-p-k-no-nu'>\n"
   ]
  },
  {
   "cell_type": "markdown",
   "id": "finished-final",
   "metadata": {},
   "source": [
    "## Three questions will guide the future marketing program:\n",
    "1. How do annual members and casual riders use Cyclistic bikes differently?\n",
    "2. Why would casual riders buy Cyclistic annual memberships?\n",
    "3. How can Cyclistic use digital media to influence casual riders to become members?"
   ]
  },
  {
   "cell_type": "markdown",
   "id": "discrete-scheme",
   "metadata": {},
   "source": [
    "### You will produce a report with the following deliverables:\n",
    "1. A clear statement of the business task\n",
    "2. A description of all data sources used \n",
    "3. Documentation of any cleaning or manipulation of data \n",
    "4. A summary of your analysis \n",
    "5. Supporting visualizations and key findings\n",
    "6. Your top three recommendations based on your analysis"
   ]
  },
  {
   "cell_type": "markdown",
   "id": "chicken-statistics",
   "metadata": {},
   "source": [
    "# Ask \n",
    "### Guiding questions\n",
    "- what is the problem you are trying to solve?\n",
    "- How can your insights drive business decisions?\n",
    "\n",
    "### Key tasks\n",
    "- Identify the business task\n",
    "- Consider key stackholders"
   ]
  },
  {
   "cell_type": "markdown",
   "id": "healthy-climate",
   "metadata": {},
   "source": [
    "<b>Moreno has assigned you the first question to answer: <br>\n",
    "    `How do annual members and casual riders use Cyclistic bikes diferently`.</b>\n",
    "\n",
    "So our problem which we are trying to solve is \n",
    "- How do annual members and casual riders use Cyclistic bikes diferently?\n",
    "\n",
    "If we answer this question we can help Moreno weather her claim is valid or not. `Because Moreno believes there is a very good chance to convert casual riders into members` she also believes that  maximizing the number of annual members will be key to future growth. \n",
    "\n",
    "#### Key stackholders\n",
    "\n",
    "includes Cyclistic executive team, Director of Marketing (Lily Moreno), Marketing Analytics team."
   ]
  },
  {
   "cell_type": "markdown",
   "id": "hungarian-purpose",
   "metadata": {},
   "source": [
    "Now the business task is clear what we suppose to do and the we knows who are the stackholders.\n",
    "\n",
    "Let's go to the next step of data analysis process."
   ]
  },
  {
   "cell_type": "markdown",
   "id": "quantitative-expert",
   "metadata": {},
   "source": [
    "# Prepare\n"
   ]
  },
  {
   "cell_type": "markdown",
   "id": "economic-roommate",
   "metadata": {},
   "source": [
    "You will use Cyclistic’s historical trip data to analyze and identify trends. <a href='https://divvy-tripdata.s3.amazonaws.com/index.html'>Download the previous 12 months of Cyclistic trip data here</a>.  Download from the <a href='https://divvy-tripdata.s3.amazonaws.com/202004-divvy-tripdata.zip'> 202004-divvy-tripdata.zip<a/> to <a href='https://divvy-tripdata.s3.amazonaws.com/202103-divvy-tripdata.zip'>202103-divvy-tripdata.zip <a/> all the 12 zip files.\n",
    "\n",
    "(Note: The datasets have a different name because Cyclistic is a fictional company. For the purposes of this case study, the datasets are appropriate and will enable you to answer the business questions. The data has been made available by Motivate International Inc. under this <a href='https://www.divvybikes.com/data-license-agreement'>license</a>.) This is public data that you can use to explore how different customer types are using Cyclistic bikes. But note that data-privacy issues prohibit you from using riders’ personally identifiable information. This means that you won’t be able to connect pass purchases to credit card numbers to determine if casual riders live in the Cyclistic service area or if they have purchased multiple single passes."
   ]
  },
  {
   "cell_type": "markdown",
   "id": "earlier-identity",
   "metadata": {},
   "source": [
    "### Now, prepare your data for analysis using the following Case Study Roadmap as a guide:\n",
    "\n",
    "## Prepare\n",
    "\n",
    "### Guiding question\n",
    "\n",
    "- Where is your data located? \n",
    "- How is the data organized?\n",
    "- Are there issues with bias or credibility in this data?\n",
    "- Does your data <a href='https://www.coursera.org/learn/data-preparation/lecture/lHirM/what-is-bad-data'>ROCCC</a>? \n",
    "- How are you addressing licensing, privacy, security, and accessibility? \n",
    "- How did you verify the data’s integrity? \n",
    "- How does it help you answer your question? \n",
    "- Are there any problems with the data?\n"
   ]
  },
  {
   "cell_type": "markdown",
   "id": "interim-mustang",
   "metadata": {},
   "source": [
    "### Key tasks\n",
    "\n",
    "- Download data and store it appropriately.\n",
    "- Identify how it’s organized.\n",
    "- Sort and filter the data.\n",
    "- Determine the credibility of the data. \n",
    "\n",
    "### Deliverable\n",
    "- A description of all data sources used"
   ]
  },
  {
   "cell_type": "markdown",
   "id": "white-somewhere",
   "metadata": {},
   "source": [
    "Key tasks:\n",
    "- The data has been downloaded from <a href='https://divvy-tripdata.s3.amazonaws.com/index.html'> Motivate International Inc</a>and store appropriately in my local computer and google drive.\n",
    "\n",
    "- identify how the data is orgamized.\n",
    "\n",
    "Let's do this"
   ]
  },
  {
   "cell_type": "code",
   "execution_count": 1,
   "id": "instructional-ordinance",
   "metadata": {},
   "outputs": [
    {
     "data": {
      "text/plain": [
       "Index(['ride_id', 'rideable_type', 'started_at', 'ended_at',\n",
       "       'start_station_name', 'start_station_id', 'end_station_name',\n",
       "       'end_station_id', 'start_lat', 'start_lng', 'end_lat', 'end_lng',\n",
       "       'member_casual'],\n",
       "      dtype='object')"
      ]
     },
     "execution_count": 1,
     "metadata": {},
     "output_type": "execute_result"
    }
   ],
   "source": [
    "import pandas as pd\n",
    "y20_4 = pd.read_csv('202004-divvy-tripdata.csv')\n",
    "y20_4.columns"
   ]
  },
  {
   "cell_type": "code",
   "execution_count": 2,
   "id": "accessible-provincial",
   "metadata": {},
   "outputs": [
    {
     "data": {
      "text/plain": [
       "Index(['ride_id', 'rideable_type', 'started_at', 'ended_at',\n",
       "       'start_station_name', 'start_station_id', 'end_station_name',\n",
       "       'end_station_id', 'start_lat', 'start_lng', 'end_lat', 'end_lng',\n",
       "       'member_casual'],\n",
       "      dtype='object')"
      ]
     },
     "execution_count": 2,
     "metadata": {},
     "output_type": "execute_result"
    }
   ],
   "source": [
    "import pandas as pd\n",
    "y21_3 = pd.read_csv('202103-divvy-tripdata.csv')\n",
    "y21_3.columns"
   ]
  },
  {
   "cell_type": "markdown",
   "id": "entire-seven",
   "metadata": {},
   "source": [
    "Let's check few record from the dataset."
   ]
  },
  {
   "cell_type": "code",
   "execution_count": 3,
   "id": "polar-coordinate",
   "metadata": {},
   "outputs": [
    {
     "data": {
      "text/html": [
       "<div>\n",
       "<style scoped>\n",
       "    .dataframe tbody tr th:only-of-type {\n",
       "        vertical-align: middle;\n",
       "    }\n",
       "\n",
       "    .dataframe tbody tr th {\n",
       "        vertical-align: top;\n",
       "    }\n",
       "\n",
       "    .dataframe thead th {\n",
       "        text-align: right;\n",
       "    }\n",
       "</style>\n",
       "<table border=\"1\" class=\"dataframe\">\n",
       "  <thead>\n",
       "    <tr style=\"text-align: right;\">\n",
       "      <th></th>\n",
       "      <th>ride_id</th>\n",
       "      <th>rideable_type</th>\n",
       "      <th>started_at</th>\n",
       "      <th>ended_at</th>\n",
       "      <th>start_station_name</th>\n",
       "      <th>start_station_id</th>\n",
       "      <th>end_station_name</th>\n",
       "      <th>end_station_id</th>\n",
       "      <th>start_lat</th>\n",
       "      <th>start_lng</th>\n",
       "      <th>end_lat</th>\n",
       "      <th>end_lng</th>\n",
       "      <th>member_casual</th>\n",
       "    </tr>\n",
       "  </thead>\n",
       "  <tbody>\n",
       "    <tr>\n",
       "      <th>0</th>\n",
       "      <td>CFA86D4455AA1030</td>\n",
       "      <td>classic_bike</td>\n",
       "      <td>2021-03-16 08:32:30</td>\n",
       "      <td>2021-03-16 08:36:34</td>\n",
       "      <td>Humboldt Blvd &amp; Armitage Ave</td>\n",
       "      <td>15651</td>\n",
       "      <td>Stave St &amp; Armitage Ave</td>\n",
       "      <td>13266</td>\n",
       "      <td>41.917513</td>\n",
       "      <td>-87.701809</td>\n",
       "      <td>41.917741</td>\n",
       "      <td>-87.691392</td>\n",
       "      <td>casual</td>\n",
       "    </tr>\n",
       "    <tr>\n",
       "      <th>1</th>\n",
       "      <td>30D9DC61227D1AF3</td>\n",
       "      <td>classic_bike</td>\n",
       "      <td>2021-03-28 01:26:28</td>\n",
       "      <td>2021-03-28 01:36:55</td>\n",
       "      <td>Humboldt Blvd &amp; Armitage Ave</td>\n",
       "      <td>15651</td>\n",
       "      <td>Central Park Ave &amp; Bloomingdale Ave</td>\n",
       "      <td>18017</td>\n",
       "      <td>41.917513</td>\n",
       "      <td>-87.701809</td>\n",
       "      <td>41.914166</td>\n",
       "      <td>-87.716755</td>\n",
       "      <td>casual</td>\n",
       "    </tr>\n",
       "    <tr>\n",
       "      <th>2</th>\n",
       "      <td>846D87A15682A284</td>\n",
       "      <td>classic_bike</td>\n",
       "      <td>2021-03-11 21:17:29</td>\n",
       "      <td>2021-03-11 21:33:53</td>\n",
       "      <td>Shields Ave &amp; 28th Pl</td>\n",
       "      <td>15443</td>\n",
       "      <td>Halsted St &amp; 35th St</td>\n",
       "      <td>TA1308000043</td>\n",
       "      <td>41.842733</td>\n",
       "      <td>-87.635491</td>\n",
       "      <td>41.830661</td>\n",
       "      <td>-87.647172</td>\n",
       "      <td>casual</td>\n",
       "    </tr>\n",
       "    <tr>\n",
       "      <th>3</th>\n",
       "      <td>994D05AA75A168F2</td>\n",
       "      <td>classic_bike</td>\n",
       "      <td>2021-03-11 13:26:42</td>\n",
       "      <td>2021-03-11 13:55:41</td>\n",
       "      <td>Winthrop Ave &amp; Lawrence Ave</td>\n",
       "      <td>TA1308000021</td>\n",
       "      <td>Broadway &amp; Sheridan Rd</td>\n",
       "      <td>13323</td>\n",
       "      <td>41.968812</td>\n",
       "      <td>-87.657659</td>\n",
       "      <td>41.952833</td>\n",
       "      <td>-87.649993</td>\n",
       "      <td>casual</td>\n",
       "    </tr>\n",
       "    <tr>\n",
       "      <th>4</th>\n",
       "      <td>DF7464FBE92D8308</td>\n",
       "      <td>classic_bike</td>\n",
       "      <td>2021-03-21 09:09:37</td>\n",
       "      <td>2021-03-21 09:27:33</td>\n",
       "      <td>Glenwood Ave &amp; Touhy Ave</td>\n",
       "      <td>525</td>\n",
       "      <td>Chicago Ave &amp; Sheridan Rd</td>\n",
       "      <td>E008</td>\n",
       "      <td>42.012701</td>\n",
       "      <td>-87.666058</td>\n",
       "      <td>42.050491</td>\n",
       "      <td>-87.677821</td>\n",
       "      <td>casual</td>\n",
       "    </tr>\n",
       "  </tbody>\n",
       "</table>\n",
       "</div>"
      ],
      "text/plain": [
       "            ride_id rideable_type           started_at             ended_at  \\\n",
       "0  CFA86D4455AA1030  classic_bike  2021-03-16 08:32:30  2021-03-16 08:36:34   \n",
       "1  30D9DC61227D1AF3  classic_bike  2021-03-28 01:26:28  2021-03-28 01:36:55   \n",
       "2  846D87A15682A284  classic_bike  2021-03-11 21:17:29  2021-03-11 21:33:53   \n",
       "3  994D05AA75A168F2  classic_bike  2021-03-11 13:26:42  2021-03-11 13:55:41   \n",
       "4  DF7464FBE92D8308  classic_bike  2021-03-21 09:09:37  2021-03-21 09:27:33   \n",
       "\n",
       "             start_station_name start_station_id  \\\n",
       "0  Humboldt Blvd & Armitage Ave            15651   \n",
       "1  Humboldt Blvd & Armitage Ave            15651   \n",
       "2         Shields Ave & 28th Pl            15443   \n",
       "3   Winthrop Ave & Lawrence Ave     TA1308000021   \n",
       "4      Glenwood Ave & Touhy Ave              525   \n",
       "\n",
       "                      end_station_name end_station_id  start_lat  start_lng  \\\n",
       "0              Stave St & Armitage Ave          13266  41.917513 -87.701809   \n",
       "1  Central Park Ave & Bloomingdale Ave          18017  41.917513 -87.701809   \n",
       "2                 Halsted St & 35th St   TA1308000043  41.842733 -87.635491   \n",
       "3               Broadway & Sheridan Rd          13323  41.968812 -87.657659   \n",
       "4            Chicago Ave & Sheridan Rd           E008  42.012701 -87.666058   \n",
       "\n",
       "     end_lat    end_lng member_casual  \n",
       "0  41.917741 -87.691392        casual  \n",
       "1  41.914166 -87.716755        casual  \n",
       "2  41.830661 -87.647172        casual  \n",
       "3  41.952833 -87.649993        casual  \n",
       "4  42.050491 -87.677821        casual  "
      ]
     },
     "execution_count": 3,
     "metadata": {},
     "output_type": "execute_result"
    }
   ],
   "source": [
    "y21_3.head()"
   ]
  },
  {
   "cell_type": "markdown",
   "id": "lovely-chase",
   "metadata": {},
   "source": [
    "All trip data is in comma-delimited (.CSV) format with 13 columns, including: \n",
    "\n",
    "`'ride_id', 'rideable_type', 'started_at', 'ended_at',\n",
    "       'start_station_name', 'start_station_id', 'end_station_name',\n",
    "       'end_station_id', 'start_lat', 'start_lng', 'end_lat', 'end_lng',\n",
    "       'member_casual'`\n",
    "       \n",
    "### Determine the credibility of the data.  \n",
    "Due to the fact that this is a case study using public data, and the data is recommended by well know organization <a href='https://www.google.co.in/'>Google</a> so we are going to assume the data is credible."
   ]
  },
  {
   "cell_type": "markdown",
   "id": "dated-literature",
   "metadata": {},
   "source": [
    "#### Let's move on to the next step of data analysis process."
   ]
  },
  {
   "cell_type": "markdown",
   "id": "objective-middle",
   "metadata": {},
   "source": [
    "# Process\n",
    "\n",
    "### Guiding questions\n",
    "\n",
    "- What tools are you choosing and why?\n",
    "- Have you ensured your data’s integrity?\n",
    "- What steps have you taken to ensure that your data is clean?\n",
    "- How can you verify that your data is clean and ready to analyze?\n",
    "- Have you documented your cleaning process so you can review and share those results?\n",
    "\n",
    "### Key tasks\n",
    "- Check the data for errors.\n",
    "- Choose your tools.\n",
    "- Transform the data so you can work with it effectively. \n",
    "- Document the cleaning process.\n",
    "\n",
    "## Deliverable\n",
    "\n",
    "- Documentation of any cleaning or manipulation of data"
   ]
  },
  {
   "cell_type": "markdown",
   "id": "tender-mixture",
   "metadata": {},
   "source": [
    "### Follow these steps:\n",
    "\n",
    "- Follow these instructions for either Excel (a) or Google Sheets (b)\n",
    "\n",
    "- Create a column called “ride_length.” Calculate the length of each ride by subtracting the column “started_at” from the column “ended_at” (for example, =ended_at-started_at). \n",
    "\n",
    "- Create a column called “day_of_week,” and calculate the day of the week that each ride that 1 Sunday and 7 = Saturday.\n",
    "- Proceed to the analyze step.\n"
   ]
  },
  {
   "cell_type": "markdown",
   "id": "altered-baker",
   "metadata": {},
   "source": [
    "## Key tasks\n",
    "\n",
    "1. Check the data for errors.\n",
    "\n",
    "The code chunk below will import 12 individual .csv files as data frames, each representing 1 of the last 12 months of trip data. Some parsing errors persist, however, they represent less 0.25% of the data set, so this is still a representative sample."
   ]
  },
  {
   "cell_type": "code",
   "execution_count": 4,
   "id": "uniform-darwin",
   "metadata": {},
   "outputs": [],
   "source": [
    "import pandas as pd         # pandas is mainly used for data analysis importing data from various file formats such as comma-separated values, JSON, SQL, Microsoft Excel."
   ]
  },
  {
   "cell_type": "code",
   "execution_count": 5,
   "id": "confident-organization",
   "metadata": {},
   "outputs": [],
   "source": [
    "y20_4 = pd.read_csv('202004-divvy-tripdata.csv')      # the variable y20_4 represent year_2020_April\n",
    "y20_5 = pd.read_csv('202005-divvy-tripdata.csv')\n",
    "y20_6 = pd.read_csv('202006-divvy-tripdata.csv')\n",
    "y20_7 = pd.read_csv('202007-divvy-tripdata.csv')\n",
    "y20_8 = pd.read_csv('202008-divvy-tripdata.csv')\n",
    "y20_9 = pd.read_csv('202009-divvy-tripdata.csv')\n",
    "y20_10 = pd.read_csv('202010-divvy-tripdata.csv')\n",
    "y20_11 = pd.read_csv('202011-divvy-tripdata.csv')\n",
    "y20_12 = pd.read_csv('202012-divvy-tripdata.csv')\n",
    "y21_1 = pd.read_csv('202101-divvy-tripdata.csv')\n",
    "y21_2 = pd.read_csv('202102-divvy-tripdata.csv')\n",
    "y21_3 = pd.read_csv('202103-divvy-tripdata.csv')"
   ]
  },
  {
   "cell_type": "markdown",
   "id": "copyrighted-juvenile",
   "metadata": {},
   "source": [
    "2. Choose your tools\n",
    "\n",
    "For this analysis, we will be using `SQL` and `Python` for it's easy statistical analysis tools and data visualizations."
   ]
  },
  {
   "cell_type": "markdown",
   "id": "lightweight-tower",
   "metadata": {},
   "source": [
    "3. Transform the data so you can work with it effectively.\n",
    "\n",
    "Let's check the data type."
   ]
  },
  {
   "cell_type": "code",
   "execution_count": 6,
   "id": "above-mexico",
   "metadata": {},
   "outputs": [
    {
     "name": "stdout",
     "output_type": "stream",
     "text": [
      "year 2020 April:\n",
      " ride_id                object\n",
      "rideable_type          object\n",
      "started_at             object\n",
      "ended_at               object\n",
      "start_station_name     object\n",
      "start_station_id      float64\n",
      "end_station_name       object\n",
      "end_station_id        float64\n",
      "start_lat             float64\n",
      "start_lng             float64\n",
      "end_lat               float64\n",
      "end_lng               float64\n",
      "member_casual          object\n",
      "dtype: object\n",
      "\n",
      "year 2021 Jan:\n",
      " ride_id                object\n",
      "rideable_type          object\n",
      "started_at             object\n",
      "ended_at               object\n",
      "start_station_name     object\n",
      "start_station_id       object\n",
      "end_station_name       object\n",
      "end_station_id         object\n",
      "start_lat             float64\n",
      "start_lng             float64\n",
      "end_lat               float64\n",
      "end_lng               float64\n",
      "member_casual          object\n",
      "dtype: object\n"
     ]
    }
   ],
   "source": [
    "print(\"year 2020 April:\\n\",y20_7.dtypes)\n",
    "print()\n",
    "print(\"year 2021 Jan:\\n\",y21_2.dtypes)"
   ]
  },
  {
   "cell_type": "code",
   "execution_count": 7,
   "id": "infinite-pledge",
   "metadata": {},
   "outputs": [
    {
     "name": "stdout",
     "output_type": "stream",
     "text": [
      "float64\n"
     ]
    }
   ],
   "source": [
    "print(y20_4['end_station_id'].dtypes)"
   ]
  },
  {
   "cell_type": "code",
   "execution_count": 8,
   "id": "dutch-affair",
   "metadata": {},
   "outputs": [
    {
     "name": "stdout",
     "output_type": "stream",
     "text": [
      "object\n"
     ]
    }
   ],
   "source": [
    "print(y21_1['end_station_id'].dtypes)"
   ]
  },
  {
   "cell_type": "code",
   "execution_count": 9,
   "id": "amazing-eating",
   "metadata": {},
   "outputs": [
    {
     "name": "stdout",
     "output_type": "stream",
     "text": [
      "object\n"
     ]
    }
   ],
   "source": [
    "print(y21_1['start_station_id'].dtypes)"
   ]
  },
  {
   "cell_type": "code",
   "execution_count": 10,
   "id": "biblical-saying",
   "metadata": {},
   "outputs": [
    {
     "name": "stdout",
     "output_type": "stream",
     "text": [
      "int64\n"
     ]
    }
   ],
   "source": [
    "print(y20_4['start_station_id'].dtypes)"
   ]
  },
  {
   "cell_type": "code",
   "execution_count": 11,
   "id": "lesbian-vanilla",
   "metadata": {},
   "outputs": [
    {
     "name": "stdout",
     "output_type": "stream",
     "text": [
      "float64\n"
     ]
    }
   ],
   "source": [
    "print(y20_7['start_station_id'].dtypes)"
   ]
  },
  {
   "cell_type": "markdown",
   "id": "cubic-greene",
   "metadata": {},
   "source": [
    "We can see that the the start_station_id and the end_station_id  data type have some probem in some dataset it data type is float in some it's datatype is object or int, and we need to make sure that the data type in all the datasets are the same and then we will make one large datast to perform our analysis."
   ]
  },
  {
   "cell_type": "markdown",
   "id": "liable-percentage",
   "metadata": {},
   "source": [
    "Let's convert the end_station_id and start_station_id to int type in all the datasets to make it unique data type."
   ]
  },
  {
   "cell_type": "code",
   "execution_count": 13,
   "id": "biblical-premium",
   "metadata": {},
   "outputs": [
    {
     "name": "stdout",
     "output_type": "stream",
     "text": [
      "float64\n",
      "int64\n"
     ]
    },
    {
     "ename": "ValueError",
     "evalue": "Cannot convert non-finite values (NA or inf) to integer",
     "output_type": "error",
     "traceback": [
      "\u001b[1;31m---------------------------------------------------------------------------\u001b[0m",
      "\u001b[1;31mValueError\u001b[0m                                Traceback (most recent call last)",
      "\u001b[1;32m<ipython-input-13-4ace45e85ff4>\u001b[0m in \u001b[0;36m<module>\u001b[1;34m\u001b[0m\n\u001b[0;32m      1\u001b[0m \u001b[0mprint\u001b[0m\u001b[1;33m(\u001b[0m\u001b[0my20_4\u001b[0m\u001b[1;33m[\u001b[0m\u001b[1;34m'end_station_id'\u001b[0m\u001b[1;33m]\u001b[0m\u001b[1;33m.\u001b[0m\u001b[0mdtypes\u001b[0m\u001b[1;33m)\u001b[0m\u001b[1;33m\u001b[0m\u001b[1;33m\u001b[0m\u001b[0m\n\u001b[0;32m      2\u001b[0m \u001b[0mprint\u001b[0m\u001b[1;33m(\u001b[0m\u001b[0my20_4\u001b[0m\u001b[1;33m[\u001b[0m\u001b[1;34m'start_station_id'\u001b[0m\u001b[1;33m]\u001b[0m\u001b[1;33m.\u001b[0m\u001b[0mdtypes\u001b[0m\u001b[1;33m)\u001b[0m\u001b[1;33m\u001b[0m\u001b[1;33m\u001b[0m\u001b[0m\n\u001b[1;32m----> 3\u001b[1;33m \u001b[0my20_4\u001b[0m\u001b[1;33m[\u001b[0m\u001b[1;33m[\u001b[0m\u001b[1;34m'end_station_id'\u001b[0m\u001b[1;33m,\u001b[0m \u001b[1;34m'start_station_id'\u001b[0m\u001b[1;33m]\u001b[0m\u001b[1;33m]\u001b[0m \u001b[1;33m=\u001b[0m \u001b[0my20_4\u001b[0m\u001b[1;33m[\u001b[0m\u001b[1;33m[\u001b[0m\u001b[1;34m'end_station_id'\u001b[0m\u001b[1;33m,\u001b[0m \u001b[1;34m'start_station_id'\u001b[0m\u001b[1;33m]\u001b[0m\u001b[1;33m]\u001b[0m\u001b[1;33m.\u001b[0m\u001b[0mastype\u001b[0m\u001b[1;33m(\u001b[0m\u001b[0mint\u001b[0m\u001b[1;33m)\u001b[0m\u001b[1;33m\u001b[0m\u001b[1;33m\u001b[0m\u001b[0m\n\u001b[0m",
      "\u001b[1;32m~\\anaconda3\\lib\\site-packages\\pandas\\core\\generic.py\u001b[0m in \u001b[0;36mastype\u001b[1;34m(self, dtype, copy, errors)\u001b[0m\n\u001b[0;32m   5875\u001b[0m         \u001b[1;32melse\u001b[0m\u001b[1;33m:\u001b[0m\u001b[1;33m\u001b[0m\u001b[1;33m\u001b[0m\u001b[0m\n\u001b[0;32m   5876\u001b[0m             \u001b[1;31m# else, only a single dtype is given\u001b[0m\u001b[1;33m\u001b[0m\u001b[1;33m\u001b[0m\u001b[1;33m\u001b[0m\u001b[0m\n\u001b[1;32m-> 5877\u001b[1;33m             \u001b[0mnew_data\u001b[0m \u001b[1;33m=\u001b[0m \u001b[0mself\u001b[0m\u001b[1;33m.\u001b[0m\u001b[0m_mgr\u001b[0m\u001b[1;33m.\u001b[0m\u001b[0mastype\u001b[0m\u001b[1;33m(\u001b[0m\u001b[0mdtype\u001b[0m\u001b[1;33m=\u001b[0m\u001b[0mdtype\u001b[0m\u001b[1;33m,\u001b[0m \u001b[0mcopy\u001b[0m\u001b[1;33m=\u001b[0m\u001b[0mcopy\u001b[0m\u001b[1;33m,\u001b[0m \u001b[0merrors\u001b[0m\u001b[1;33m=\u001b[0m\u001b[0merrors\u001b[0m\u001b[1;33m)\u001b[0m\u001b[1;33m\u001b[0m\u001b[1;33m\u001b[0m\u001b[0m\n\u001b[0m\u001b[0;32m   5878\u001b[0m             \u001b[1;32mreturn\u001b[0m \u001b[0mself\u001b[0m\u001b[1;33m.\u001b[0m\u001b[0m_constructor\u001b[0m\u001b[1;33m(\u001b[0m\u001b[0mnew_data\u001b[0m\u001b[1;33m)\u001b[0m\u001b[1;33m.\u001b[0m\u001b[0m__finalize__\u001b[0m\u001b[1;33m(\u001b[0m\u001b[0mself\u001b[0m\u001b[1;33m,\u001b[0m \u001b[0mmethod\u001b[0m\u001b[1;33m=\u001b[0m\u001b[1;34m\"astype\"\u001b[0m\u001b[1;33m)\u001b[0m\u001b[1;33m\u001b[0m\u001b[1;33m\u001b[0m\u001b[0m\n\u001b[0;32m   5879\u001b[0m \u001b[1;33m\u001b[0m\u001b[0m\n",
      "\u001b[1;32m~\\anaconda3\\lib\\site-packages\\pandas\\core\\internals\\managers.py\u001b[0m in \u001b[0;36mastype\u001b[1;34m(self, dtype, copy, errors)\u001b[0m\n\u001b[0;32m    629\u001b[0m         \u001b[0mself\u001b[0m\u001b[1;33m,\u001b[0m \u001b[0mdtype\u001b[0m\u001b[1;33m,\u001b[0m \u001b[0mcopy\u001b[0m\u001b[1;33m:\u001b[0m \u001b[0mbool\u001b[0m \u001b[1;33m=\u001b[0m \u001b[1;32mFalse\u001b[0m\u001b[1;33m,\u001b[0m \u001b[0merrors\u001b[0m\u001b[1;33m:\u001b[0m \u001b[0mstr\u001b[0m \u001b[1;33m=\u001b[0m \u001b[1;34m\"raise\"\u001b[0m\u001b[1;33m\u001b[0m\u001b[1;33m\u001b[0m\u001b[0m\n\u001b[0;32m    630\u001b[0m     ) -> \"BlockManager\":\n\u001b[1;32m--> 631\u001b[1;33m         \u001b[1;32mreturn\u001b[0m \u001b[0mself\u001b[0m\u001b[1;33m.\u001b[0m\u001b[0mapply\u001b[0m\u001b[1;33m(\u001b[0m\u001b[1;34m\"astype\"\u001b[0m\u001b[1;33m,\u001b[0m \u001b[0mdtype\u001b[0m\u001b[1;33m=\u001b[0m\u001b[0mdtype\u001b[0m\u001b[1;33m,\u001b[0m \u001b[0mcopy\u001b[0m\u001b[1;33m=\u001b[0m\u001b[0mcopy\u001b[0m\u001b[1;33m,\u001b[0m \u001b[0merrors\u001b[0m\u001b[1;33m=\u001b[0m\u001b[0merrors\u001b[0m\u001b[1;33m)\u001b[0m\u001b[1;33m\u001b[0m\u001b[1;33m\u001b[0m\u001b[0m\n\u001b[0m\u001b[0;32m    632\u001b[0m \u001b[1;33m\u001b[0m\u001b[0m\n\u001b[0;32m    633\u001b[0m     def convert(\n",
      "\u001b[1;32m~\\anaconda3\\lib\\site-packages\\pandas\\core\\internals\\managers.py\u001b[0m in \u001b[0;36mapply\u001b[1;34m(self, f, align_keys, ignore_failures, **kwargs)\u001b[0m\n\u001b[0;32m    425\u001b[0m                     \u001b[0mapplied\u001b[0m \u001b[1;33m=\u001b[0m \u001b[0mb\u001b[0m\u001b[1;33m.\u001b[0m\u001b[0mapply\u001b[0m\u001b[1;33m(\u001b[0m\u001b[0mf\u001b[0m\u001b[1;33m,\u001b[0m \u001b[1;33m**\u001b[0m\u001b[0mkwargs\u001b[0m\u001b[1;33m)\u001b[0m\u001b[1;33m\u001b[0m\u001b[1;33m\u001b[0m\u001b[0m\n\u001b[0;32m    426\u001b[0m                 \u001b[1;32melse\u001b[0m\u001b[1;33m:\u001b[0m\u001b[1;33m\u001b[0m\u001b[1;33m\u001b[0m\u001b[0m\n\u001b[1;32m--> 427\u001b[1;33m                     \u001b[0mapplied\u001b[0m \u001b[1;33m=\u001b[0m \u001b[0mgetattr\u001b[0m\u001b[1;33m(\u001b[0m\u001b[0mb\u001b[0m\u001b[1;33m,\u001b[0m \u001b[0mf\u001b[0m\u001b[1;33m)\u001b[0m\u001b[1;33m(\u001b[0m\u001b[1;33m**\u001b[0m\u001b[0mkwargs\u001b[0m\u001b[1;33m)\u001b[0m\u001b[1;33m\u001b[0m\u001b[1;33m\u001b[0m\u001b[0m\n\u001b[0m\u001b[0;32m    428\u001b[0m             \u001b[1;32mexcept\u001b[0m \u001b[1;33m(\u001b[0m\u001b[0mTypeError\u001b[0m\u001b[1;33m,\u001b[0m \u001b[0mNotImplementedError\u001b[0m\u001b[1;33m)\u001b[0m\u001b[1;33m:\u001b[0m\u001b[1;33m\u001b[0m\u001b[1;33m\u001b[0m\u001b[0m\n\u001b[0;32m    429\u001b[0m                 \u001b[1;32mif\u001b[0m \u001b[1;32mnot\u001b[0m \u001b[0mignore_failures\u001b[0m\u001b[1;33m:\u001b[0m\u001b[1;33m\u001b[0m\u001b[1;33m\u001b[0m\u001b[0m\n",
      "\u001b[1;32m~\\anaconda3\\lib\\site-packages\\pandas\\core\\internals\\blocks.py\u001b[0m in \u001b[0;36mastype\u001b[1;34m(self, dtype, copy, errors)\u001b[0m\n\u001b[0;32m    671\u001b[0m             \u001b[0mvals1d\u001b[0m \u001b[1;33m=\u001b[0m \u001b[0mvalues\u001b[0m\u001b[1;33m.\u001b[0m\u001b[0mravel\u001b[0m\u001b[1;33m(\u001b[0m\u001b[1;33m)\u001b[0m\u001b[1;33m\u001b[0m\u001b[1;33m\u001b[0m\u001b[0m\n\u001b[0;32m    672\u001b[0m             \u001b[1;32mtry\u001b[0m\u001b[1;33m:\u001b[0m\u001b[1;33m\u001b[0m\u001b[1;33m\u001b[0m\u001b[0m\n\u001b[1;32m--> 673\u001b[1;33m                 \u001b[0mvalues\u001b[0m \u001b[1;33m=\u001b[0m \u001b[0mastype_nansafe\u001b[0m\u001b[1;33m(\u001b[0m\u001b[0mvals1d\u001b[0m\u001b[1;33m,\u001b[0m \u001b[0mdtype\u001b[0m\u001b[1;33m,\u001b[0m \u001b[0mcopy\u001b[0m\u001b[1;33m=\u001b[0m\u001b[1;32mTrue\u001b[0m\u001b[1;33m)\u001b[0m\u001b[1;33m\u001b[0m\u001b[1;33m\u001b[0m\u001b[0m\n\u001b[0m\u001b[0;32m    674\u001b[0m             \u001b[1;32mexcept\u001b[0m \u001b[1;33m(\u001b[0m\u001b[0mValueError\u001b[0m\u001b[1;33m,\u001b[0m \u001b[0mTypeError\u001b[0m\u001b[1;33m)\u001b[0m\u001b[1;33m:\u001b[0m\u001b[1;33m\u001b[0m\u001b[1;33m\u001b[0m\u001b[0m\n\u001b[0;32m    675\u001b[0m                 \u001b[1;31m# e.g. astype_nansafe can fail on object-dtype of strings\u001b[0m\u001b[1;33m\u001b[0m\u001b[1;33m\u001b[0m\u001b[1;33m\u001b[0m\u001b[0m\n",
      "\u001b[1;32m~\\anaconda3\\lib\\site-packages\\pandas\\core\\dtypes\\cast.py\u001b[0m in \u001b[0;36mastype_nansafe\u001b[1;34m(arr, dtype, copy, skipna)\u001b[0m\n\u001b[0;32m   1066\u001b[0m \u001b[1;33m\u001b[0m\u001b[0m\n\u001b[0;32m   1067\u001b[0m         \u001b[1;32mif\u001b[0m \u001b[1;32mnot\u001b[0m \u001b[0mnp\u001b[0m\u001b[1;33m.\u001b[0m\u001b[0misfinite\u001b[0m\u001b[1;33m(\u001b[0m\u001b[0marr\u001b[0m\u001b[1;33m)\u001b[0m\u001b[1;33m.\u001b[0m\u001b[0mall\u001b[0m\u001b[1;33m(\u001b[0m\u001b[1;33m)\u001b[0m\u001b[1;33m:\u001b[0m\u001b[1;33m\u001b[0m\u001b[1;33m\u001b[0m\u001b[0m\n\u001b[1;32m-> 1068\u001b[1;33m             \u001b[1;32mraise\u001b[0m \u001b[0mValueError\u001b[0m\u001b[1;33m(\u001b[0m\u001b[1;34m\"Cannot convert non-finite values (NA or inf) to integer\"\u001b[0m\u001b[1;33m)\u001b[0m\u001b[1;33m\u001b[0m\u001b[1;33m\u001b[0m\u001b[0m\n\u001b[0m\u001b[0;32m   1069\u001b[0m \u001b[1;33m\u001b[0m\u001b[0m\n\u001b[0;32m   1070\u001b[0m     \u001b[1;32melif\u001b[0m \u001b[0mis_object_dtype\u001b[0m\u001b[1;33m(\u001b[0m\u001b[0marr\u001b[0m\u001b[1;33m)\u001b[0m\u001b[1;33m:\u001b[0m\u001b[1;33m\u001b[0m\u001b[1;33m\u001b[0m\u001b[0m\n",
      "\u001b[1;31mValueError\u001b[0m: Cannot convert non-finite values (NA or inf) to integer"
     ]
    }
   ],
   "source": [
    "print(y20_4['end_station_id'].dtypes)\n",
    "print(y20_4['start_station_id'].dtypes)\n",
    "y20_4[['end_station_id', 'start_station_id']] = y20_4[['end_station_id', 'start_station_id']].astype(int)"
   ]
  },
  {
   "cell_type": "code",
   "execution_count": 14,
   "id": "boxed-locator",
   "metadata": {},
   "outputs": [
    {
     "name": "stdout",
     "output_type": "stream",
     "text": [
      "float64\n",
      "int64\n"
     ]
    },
    {
     "ename": "ValueError",
     "evalue": "Cannot convert non-finite values (NA or inf) to integer",
     "output_type": "error",
     "traceback": [
      "\u001b[1;31m---------------------------------------------------------------------------\u001b[0m",
      "\u001b[1;31mValueError\u001b[0m                                Traceback (most recent call last)",
      "\u001b[1;32m<ipython-input-14-965775f3e58d>\u001b[0m in \u001b[0;36m<module>\u001b[1;34m\u001b[0m\n\u001b[0;32m      1\u001b[0m \u001b[0mprint\u001b[0m\u001b[1;33m(\u001b[0m\u001b[0my20_5\u001b[0m\u001b[1;33m[\u001b[0m\u001b[1;34m'end_station_id'\u001b[0m\u001b[1;33m]\u001b[0m\u001b[1;33m.\u001b[0m\u001b[0mdtypes\u001b[0m\u001b[1;33m)\u001b[0m\u001b[1;33m\u001b[0m\u001b[1;33m\u001b[0m\u001b[0m\n\u001b[0;32m      2\u001b[0m \u001b[0mprint\u001b[0m\u001b[1;33m(\u001b[0m\u001b[0my20_5\u001b[0m\u001b[1;33m[\u001b[0m\u001b[1;34m'start_station_id'\u001b[0m\u001b[1;33m]\u001b[0m\u001b[1;33m.\u001b[0m\u001b[0mdtypes\u001b[0m\u001b[1;33m)\u001b[0m\u001b[1;33m\u001b[0m\u001b[1;33m\u001b[0m\u001b[0m\n\u001b[1;32m----> 3\u001b[1;33m \u001b[0my20_5\u001b[0m\u001b[1;33m[\u001b[0m\u001b[1;33m[\u001b[0m\u001b[1;34m'end_station_id'\u001b[0m\u001b[1;33m,\u001b[0m \u001b[1;34m'start_station_id'\u001b[0m\u001b[1;33m]\u001b[0m\u001b[1;33m]\u001b[0m \u001b[1;33m=\u001b[0m \u001b[0my20_5\u001b[0m\u001b[1;33m[\u001b[0m\u001b[1;33m[\u001b[0m\u001b[1;34m'end_station_id'\u001b[0m\u001b[1;33m,\u001b[0m \u001b[1;34m'start_station_id'\u001b[0m\u001b[1;33m]\u001b[0m\u001b[1;33m]\u001b[0m\u001b[1;33m.\u001b[0m\u001b[0mastype\u001b[0m\u001b[1;33m(\u001b[0m\u001b[0mint\u001b[0m\u001b[1;33m)\u001b[0m\u001b[1;33m\u001b[0m\u001b[1;33m\u001b[0m\u001b[0m\n\u001b[0m",
      "\u001b[1;32m~\\anaconda3\\lib\\site-packages\\pandas\\core\\generic.py\u001b[0m in \u001b[0;36mastype\u001b[1;34m(self, dtype, copy, errors)\u001b[0m\n\u001b[0;32m   5875\u001b[0m         \u001b[1;32melse\u001b[0m\u001b[1;33m:\u001b[0m\u001b[1;33m\u001b[0m\u001b[1;33m\u001b[0m\u001b[0m\n\u001b[0;32m   5876\u001b[0m             \u001b[1;31m# else, only a single dtype is given\u001b[0m\u001b[1;33m\u001b[0m\u001b[1;33m\u001b[0m\u001b[1;33m\u001b[0m\u001b[0m\n\u001b[1;32m-> 5877\u001b[1;33m             \u001b[0mnew_data\u001b[0m \u001b[1;33m=\u001b[0m \u001b[0mself\u001b[0m\u001b[1;33m.\u001b[0m\u001b[0m_mgr\u001b[0m\u001b[1;33m.\u001b[0m\u001b[0mastype\u001b[0m\u001b[1;33m(\u001b[0m\u001b[0mdtype\u001b[0m\u001b[1;33m=\u001b[0m\u001b[0mdtype\u001b[0m\u001b[1;33m,\u001b[0m \u001b[0mcopy\u001b[0m\u001b[1;33m=\u001b[0m\u001b[0mcopy\u001b[0m\u001b[1;33m,\u001b[0m \u001b[0merrors\u001b[0m\u001b[1;33m=\u001b[0m\u001b[0merrors\u001b[0m\u001b[1;33m)\u001b[0m\u001b[1;33m\u001b[0m\u001b[1;33m\u001b[0m\u001b[0m\n\u001b[0m\u001b[0;32m   5878\u001b[0m             \u001b[1;32mreturn\u001b[0m \u001b[0mself\u001b[0m\u001b[1;33m.\u001b[0m\u001b[0m_constructor\u001b[0m\u001b[1;33m(\u001b[0m\u001b[0mnew_data\u001b[0m\u001b[1;33m)\u001b[0m\u001b[1;33m.\u001b[0m\u001b[0m__finalize__\u001b[0m\u001b[1;33m(\u001b[0m\u001b[0mself\u001b[0m\u001b[1;33m,\u001b[0m \u001b[0mmethod\u001b[0m\u001b[1;33m=\u001b[0m\u001b[1;34m\"astype\"\u001b[0m\u001b[1;33m)\u001b[0m\u001b[1;33m\u001b[0m\u001b[1;33m\u001b[0m\u001b[0m\n\u001b[0;32m   5879\u001b[0m \u001b[1;33m\u001b[0m\u001b[0m\n",
      "\u001b[1;32m~\\anaconda3\\lib\\site-packages\\pandas\\core\\internals\\managers.py\u001b[0m in \u001b[0;36mastype\u001b[1;34m(self, dtype, copy, errors)\u001b[0m\n\u001b[0;32m    629\u001b[0m         \u001b[0mself\u001b[0m\u001b[1;33m,\u001b[0m \u001b[0mdtype\u001b[0m\u001b[1;33m,\u001b[0m \u001b[0mcopy\u001b[0m\u001b[1;33m:\u001b[0m \u001b[0mbool\u001b[0m \u001b[1;33m=\u001b[0m \u001b[1;32mFalse\u001b[0m\u001b[1;33m,\u001b[0m \u001b[0merrors\u001b[0m\u001b[1;33m:\u001b[0m \u001b[0mstr\u001b[0m \u001b[1;33m=\u001b[0m \u001b[1;34m\"raise\"\u001b[0m\u001b[1;33m\u001b[0m\u001b[1;33m\u001b[0m\u001b[0m\n\u001b[0;32m    630\u001b[0m     ) -> \"BlockManager\":\n\u001b[1;32m--> 631\u001b[1;33m         \u001b[1;32mreturn\u001b[0m \u001b[0mself\u001b[0m\u001b[1;33m.\u001b[0m\u001b[0mapply\u001b[0m\u001b[1;33m(\u001b[0m\u001b[1;34m\"astype\"\u001b[0m\u001b[1;33m,\u001b[0m \u001b[0mdtype\u001b[0m\u001b[1;33m=\u001b[0m\u001b[0mdtype\u001b[0m\u001b[1;33m,\u001b[0m \u001b[0mcopy\u001b[0m\u001b[1;33m=\u001b[0m\u001b[0mcopy\u001b[0m\u001b[1;33m,\u001b[0m \u001b[0merrors\u001b[0m\u001b[1;33m=\u001b[0m\u001b[0merrors\u001b[0m\u001b[1;33m)\u001b[0m\u001b[1;33m\u001b[0m\u001b[1;33m\u001b[0m\u001b[0m\n\u001b[0m\u001b[0;32m    632\u001b[0m \u001b[1;33m\u001b[0m\u001b[0m\n\u001b[0;32m    633\u001b[0m     def convert(\n",
      "\u001b[1;32m~\\anaconda3\\lib\\site-packages\\pandas\\core\\internals\\managers.py\u001b[0m in \u001b[0;36mapply\u001b[1;34m(self, f, align_keys, ignore_failures, **kwargs)\u001b[0m\n\u001b[0;32m    425\u001b[0m                     \u001b[0mapplied\u001b[0m \u001b[1;33m=\u001b[0m \u001b[0mb\u001b[0m\u001b[1;33m.\u001b[0m\u001b[0mapply\u001b[0m\u001b[1;33m(\u001b[0m\u001b[0mf\u001b[0m\u001b[1;33m,\u001b[0m \u001b[1;33m**\u001b[0m\u001b[0mkwargs\u001b[0m\u001b[1;33m)\u001b[0m\u001b[1;33m\u001b[0m\u001b[1;33m\u001b[0m\u001b[0m\n\u001b[0;32m    426\u001b[0m                 \u001b[1;32melse\u001b[0m\u001b[1;33m:\u001b[0m\u001b[1;33m\u001b[0m\u001b[1;33m\u001b[0m\u001b[0m\n\u001b[1;32m--> 427\u001b[1;33m                     \u001b[0mapplied\u001b[0m \u001b[1;33m=\u001b[0m \u001b[0mgetattr\u001b[0m\u001b[1;33m(\u001b[0m\u001b[0mb\u001b[0m\u001b[1;33m,\u001b[0m \u001b[0mf\u001b[0m\u001b[1;33m)\u001b[0m\u001b[1;33m(\u001b[0m\u001b[1;33m**\u001b[0m\u001b[0mkwargs\u001b[0m\u001b[1;33m)\u001b[0m\u001b[1;33m\u001b[0m\u001b[1;33m\u001b[0m\u001b[0m\n\u001b[0m\u001b[0;32m    428\u001b[0m             \u001b[1;32mexcept\u001b[0m \u001b[1;33m(\u001b[0m\u001b[0mTypeError\u001b[0m\u001b[1;33m,\u001b[0m \u001b[0mNotImplementedError\u001b[0m\u001b[1;33m)\u001b[0m\u001b[1;33m:\u001b[0m\u001b[1;33m\u001b[0m\u001b[1;33m\u001b[0m\u001b[0m\n\u001b[0;32m    429\u001b[0m                 \u001b[1;32mif\u001b[0m \u001b[1;32mnot\u001b[0m \u001b[0mignore_failures\u001b[0m\u001b[1;33m:\u001b[0m\u001b[1;33m\u001b[0m\u001b[1;33m\u001b[0m\u001b[0m\n",
      "\u001b[1;32m~\\anaconda3\\lib\\site-packages\\pandas\\core\\internals\\blocks.py\u001b[0m in \u001b[0;36mastype\u001b[1;34m(self, dtype, copy, errors)\u001b[0m\n\u001b[0;32m    671\u001b[0m             \u001b[0mvals1d\u001b[0m \u001b[1;33m=\u001b[0m \u001b[0mvalues\u001b[0m\u001b[1;33m.\u001b[0m\u001b[0mravel\u001b[0m\u001b[1;33m(\u001b[0m\u001b[1;33m)\u001b[0m\u001b[1;33m\u001b[0m\u001b[1;33m\u001b[0m\u001b[0m\n\u001b[0;32m    672\u001b[0m             \u001b[1;32mtry\u001b[0m\u001b[1;33m:\u001b[0m\u001b[1;33m\u001b[0m\u001b[1;33m\u001b[0m\u001b[0m\n\u001b[1;32m--> 673\u001b[1;33m                 \u001b[0mvalues\u001b[0m \u001b[1;33m=\u001b[0m \u001b[0mastype_nansafe\u001b[0m\u001b[1;33m(\u001b[0m\u001b[0mvals1d\u001b[0m\u001b[1;33m,\u001b[0m \u001b[0mdtype\u001b[0m\u001b[1;33m,\u001b[0m \u001b[0mcopy\u001b[0m\u001b[1;33m=\u001b[0m\u001b[1;32mTrue\u001b[0m\u001b[1;33m)\u001b[0m\u001b[1;33m\u001b[0m\u001b[1;33m\u001b[0m\u001b[0m\n\u001b[0m\u001b[0;32m    674\u001b[0m             \u001b[1;32mexcept\u001b[0m \u001b[1;33m(\u001b[0m\u001b[0mValueError\u001b[0m\u001b[1;33m,\u001b[0m \u001b[0mTypeError\u001b[0m\u001b[1;33m)\u001b[0m\u001b[1;33m:\u001b[0m\u001b[1;33m\u001b[0m\u001b[1;33m\u001b[0m\u001b[0m\n\u001b[0;32m    675\u001b[0m                 \u001b[1;31m# e.g. astype_nansafe can fail on object-dtype of strings\u001b[0m\u001b[1;33m\u001b[0m\u001b[1;33m\u001b[0m\u001b[1;33m\u001b[0m\u001b[0m\n",
      "\u001b[1;32m~\\anaconda3\\lib\\site-packages\\pandas\\core\\dtypes\\cast.py\u001b[0m in \u001b[0;36mastype_nansafe\u001b[1;34m(arr, dtype, copy, skipna)\u001b[0m\n\u001b[0;32m   1066\u001b[0m \u001b[1;33m\u001b[0m\u001b[0m\n\u001b[0;32m   1067\u001b[0m         \u001b[1;32mif\u001b[0m \u001b[1;32mnot\u001b[0m \u001b[0mnp\u001b[0m\u001b[1;33m.\u001b[0m\u001b[0misfinite\u001b[0m\u001b[1;33m(\u001b[0m\u001b[0marr\u001b[0m\u001b[1;33m)\u001b[0m\u001b[1;33m.\u001b[0m\u001b[0mall\u001b[0m\u001b[1;33m(\u001b[0m\u001b[1;33m)\u001b[0m\u001b[1;33m:\u001b[0m\u001b[1;33m\u001b[0m\u001b[1;33m\u001b[0m\u001b[0m\n\u001b[1;32m-> 1068\u001b[1;33m             \u001b[1;32mraise\u001b[0m \u001b[0mValueError\u001b[0m\u001b[1;33m(\u001b[0m\u001b[1;34m\"Cannot convert non-finite values (NA or inf) to integer\"\u001b[0m\u001b[1;33m)\u001b[0m\u001b[1;33m\u001b[0m\u001b[1;33m\u001b[0m\u001b[0m\n\u001b[0m\u001b[0;32m   1069\u001b[0m \u001b[1;33m\u001b[0m\u001b[0m\n\u001b[0;32m   1070\u001b[0m     \u001b[1;32melif\u001b[0m \u001b[0mis_object_dtype\u001b[0m\u001b[1;33m(\u001b[0m\u001b[0marr\u001b[0m\u001b[1;33m)\u001b[0m\u001b[1;33m:\u001b[0m\u001b[1;33m\u001b[0m\u001b[1;33m\u001b[0m\u001b[0m\n",
      "\u001b[1;31mValueError\u001b[0m: Cannot convert non-finite values (NA or inf) to integer"
     ]
    }
   ],
   "source": [
    "print(y20_5['end_station_id'].dtypes)\n",
    "print(y20_5['start_station_id'].dtypes)\n",
    "y20_5[['end_station_id', 'start_station_id']] = y20_5[['end_station_id', 'start_station_id']].astype(int)"
   ]
  },
  {
   "cell_type": "markdown",
   "id": "prescribed-appendix",
   "metadata": {},
   "source": [
    "You can see that we have problem \n",
    "\n",
    "`ValueError: Cannot convert non-finite values (NA or inf) to integer`\n",
    "\n",
    "It seems that we have some missing values in our dataset to solve this problem here I am going to simply dorop the missing values from our datasets.\n",
    "\n",
    "let's do this. "
   ]
  },
  {
   "cell_type": "code",
   "execution_count": 15,
   "id": "ultimate-physics",
   "metadata": {},
   "outputs": [
    {
     "data": {
      "text/plain": [
       "ride_id                 0\n",
       "rideable_type           0\n",
       "started_at              0\n",
       "ended_at                0\n",
       "start_station_name      0\n",
       "start_station_id        0\n",
       "end_station_name      321\n",
       "end_station_id        321\n",
       "start_lat               0\n",
       "start_lng               0\n",
       "end_lat               321\n",
       "end_lng               321\n",
       "member_casual           0\n",
       "dtype: int64"
      ]
     },
     "execution_count": 15,
     "metadata": {},
     "output_type": "execute_result"
    }
   ],
   "source": [
    "y20_5.isnull().sum()"
   ]
  },
  {
   "cell_type": "markdown",
   "id": "twenty-command",
   "metadata": {},
   "source": [
    "We can see that we have 321 missing values in 4 different columns let's drop this."
   ]
  },
  {
   "cell_type": "code",
   "execution_count": 16,
   "id": "italian-behavior",
   "metadata": {},
   "outputs": [],
   "source": [
    "y20_5.dropna(inplace=True) # to drop all the missing vlaues from our dataset, inplace=True  do operation inplace and return None."
   ]
  },
  {
   "cell_type": "markdown",
   "id": "shared-vector",
   "metadata": {},
   "source": [
    "Now let's check our dataset."
   ]
  },
  {
   "cell_type": "code",
   "execution_count": 17,
   "id": "eleven-isaac",
   "metadata": {},
   "outputs": [
    {
     "data": {
      "text/plain": [
       "ride_id               0\n",
       "rideable_type         0\n",
       "started_at            0\n",
       "ended_at              0\n",
       "start_station_name    0\n",
       "start_station_id      0\n",
       "end_station_name      0\n",
       "end_station_id        0\n",
       "start_lat             0\n",
       "start_lng             0\n",
       "end_lat               0\n",
       "end_lng               0\n",
       "member_casual         0\n",
       "dtype: int64"
      ]
     },
     "execution_count": 17,
     "metadata": {},
     "output_type": "execute_result"
    }
   ],
   "source": [
    "y20_5.isnull().sum()"
   ]
  },
  {
   "cell_type": "markdown",
   "id": "sorted-miami",
   "metadata": {},
   "source": [
    "`Note`: there are different way you can handle missing values but for now we just droping all the missing values."
   ]
  },
  {
   "cell_type": "markdown",
   "id": "straight-portsmouth",
   "metadata": {},
   "source": [
    "Now let's convert the datatype to int. "
   ]
  },
  {
   "cell_type": "code",
   "execution_count": 18,
   "id": "accessory-weapon",
   "metadata": {},
   "outputs": [],
   "source": [
    "y20_5[['end_station_id', 'start_station_id']] = y20_5[['end_station_id', 'start_station_id']].astype(int)"
   ]
  },
  {
   "cell_type": "code",
   "execution_count": 19,
   "id": "metric-soviet",
   "metadata": {},
   "outputs": [
    {
     "name": "stdout",
     "output_type": "stream",
     "text": [
      "int32\n",
      "int32\n"
     ]
    }
   ],
   "source": [
    "print(y20_5['end_station_id'].dtypes)\n",
    "print(y20_5['start_station_id'].dtypes)"
   ]
  },
  {
   "cell_type": "markdown",
   "id": "electoral-testament",
   "metadata": {},
   "source": [
    "Let's do this for all the dataset. "
   ]
  },
  {
   "cell_type": "code",
   "execution_count": 20,
   "id": "athletic-submission",
   "metadata": {},
   "outputs": [],
   "source": [
    "y20_6.dropna(inplace=True)\n",
    "y20_7.dropna(inplace=True)\n",
    "y20_8.dropna(inplace=True)\n",
    "y20_9.dropna(inplace=True)\n",
    "y20_10.dropna(inplace=True)\n",
    "y20_11.dropna(inplace=True)\n",
    "y20_12.dropna(inplace=True)\n",
    "y21_1.dropna(inplace=True)\n",
    "y21_2.dropna(inplace=True)\n",
    "y21_3.dropna(inplace=True)"
   ]
  },
  {
   "cell_type": "markdown",
   "id": "correct-complement",
   "metadata": {},
   "source": [
    "you may use another method to handle the missing values you are free to do. you may create a function to drop all the missing values instead of doing manually. \n",
    "\n",
    "Now let's change the dataype of start_station_id and end_station_id to int."
   ]
  },
  {
   "cell_type": "code",
   "execution_count": 21,
   "id": "precious-philadelphia",
   "metadata": {},
   "outputs": [
    {
     "ename": "ValueError",
     "evalue": "invalid literal for int() with base 10: 'TA1306000003'",
     "output_type": "error",
     "traceback": [
      "\u001b[1;31m---------------------------------------------------------------------------\u001b[0m",
      "\u001b[1;31mValueError\u001b[0m                                Traceback (most recent call last)",
      "\u001b[1;32m<ipython-input-21-9cf38a3f75cc>\u001b[0m in \u001b[0;36m<module>\u001b[1;34m\u001b[0m\n\u001b[0;32m      6\u001b[0m \u001b[0my20_10\u001b[0m\u001b[1;33m[\u001b[0m\u001b[1;33m[\u001b[0m\u001b[1;34m'end_station_id'\u001b[0m\u001b[1;33m,\u001b[0m \u001b[1;34m'start_station_id'\u001b[0m\u001b[1;33m]\u001b[0m\u001b[1;33m]\u001b[0m \u001b[1;33m=\u001b[0m \u001b[0my20_10\u001b[0m\u001b[1;33m[\u001b[0m\u001b[1;33m[\u001b[0m\u001b[1;34m'end_station_id'\u001b[0m\u001b[1;33m,\u001b[0m \u001b[1;34m'start_station_id'\u001b[0m\u001b[1;33m]\u001b[0m\u001b[1;33m]\u001b[0m\u001b[1;33m.\u001b[0m\u001b[0mastype\u001b[0m\u001b[1;33m(\u001b[0m\u001b[0mint\u001b[0m\u001b[1;33m)\u001b[0m\u001b[1;33m\u001b[0m\u001b[1;33m\u001b[0m\u001b[0m\n\u001b[0;32m      7\u001b[0m \u001b[0my20_11\u001b[0m\u001b[1;33m[\u001b[0m\u001b[1;33m[\u001b[0m\u001b[1;34m'end_station_id'\u001b[0m\u001b[1;33m,\u001b[0m \u001b[1;34m'start_station_id'\u001b[0m\u001b[1;33m]\u001b[0m\u001b[1;33m]\u001b[0m \u001b[1;33m=\u001b[0m \u001b[0my20_11\u001b[0m\u001b[1;33m[\u001b[0m\u001b[1;33m[\u001b[0m\u001b[1;34m'end_station_id'\u001b[0m\u001b[1;33m,\u001b[0m \u001b[1;34m'start_station_id'\u001b[0m\u001b[1;33m]\u001b[0m\u001b[1;33m]\u001b[0m\u001b[1;33m.\u001b[0m\u001b[0mastype\u001b[0m\u001b[1;33m(\u001b[0m\u001b[0mint\u001b[0m\u001b[1;33m)\u001b[0m\u001b[1;33m\u001b[0m\u001b[1;33m\u001b[0m\u001b[0m\n\u001b[1;32m----> 8\u001b[1;33m \u001b[0my20_12\u001b[0m\u001b[1;33m[\u001b[0m\u001b[1;33m[\u001b[0m\u001b[1;34m'end_station_id'\u001b[0m\u001b[1;33m,\u001b[0m \u001b[1;34m'start_station_id'\u001b[0m\u001b[1;33m]\u001b[0m\u001b[1;33m]\u001b[0m \u001b[1;33m=\u001b[0m \u001b[0my20_12\u001b[0m\u001b[1;33m[\u001b[0m\u001b[1;33m[\u001b[0m\u001b[1;34m'end_station_id'\u001b[0m\u001b[1;33m,\u001b[0m \u001b[1;34m'start_station_id'\u001b[0m\u001b[1;33m]\u001b[0m\u001b[1;33m]\u001b[0m\u001b[1;33m.\u001b[0m\u001b[0mastype\u001b[0m\u001b[1;33m(\u001b[0m\u001b[0mint\u001b[0m\u001b[1;33m)\u001b[0m\u001b[1;33m\u001b[0m\u001b[1;33m\u001b[0m\u001b[0m\n\u001b[0m\u001b[0;32m      9\u001b[0m \u001b[0my21_1\u001b[0m\u001b[1;33m[\u001b[0m\u001b[1;33m[\u001b[0m\u001b[1;34m'end_station_id'\u001b[0m\u001b[1;33m,\u001b[0m \u001b[1;34m'start_station_id'\u001b[0m\u001b[1;33m]\u001b[0m\u001b[1;33m]\u001b[0m \u001b[1;33m=\u001b[0m \u001b[0my21_1\u001b[0m\u001b[1;33m[\u001b[0m\u001b[1;33m[\u001b[0m\u001b[1;34m'end_station_id'\u001b[0m\u001b[1;33m,\u001b[0m \u001b[1;34m'start_station_id'\u001b[0m\u001b[1;33m]\u001b[0m\u001b[1;33m]\u001b[0m\u001b[1;33m.\u001b[0m\u001b[0mastype\u001b[0m\u001b[1;33m(\u001b[0m\u001b[0mint\u001b[0m\u001b[1;33m)\u001b[0m\u001b[1;33m\u001b[0m\u001b[1;33m\u001b[0m\u001b[0m\n\u001b[0;32m     10\u001b[0m \u001b[0my21_2\u001b[0m\u001b[1;33m[\u001b[0m\u001b[1;33m[\u001b[0m\u001b[1;34m'end_station_id'\u001b[0m\u001b[1;33m,\u001b[0m \u001b[1;34m'start_station_id'\u001b[0m\u001b[1;33m]\u001b[0m\u001b[1;33m]\u001b[0m \u001b[1;33m=\u001b[0m \u001b[0my21_2\u001b[0m\u001b[1;33m[\u001b[0m\u001b[1;33m[\u001b[0m\u001b[1;34m'end_station_id'\u001b[0m\u001b[1;33m,\u001b[0m \u001b[1;34m'start_station_id'\u001b[0m\u001b[1;33m]\u001b[0m\u001b[1;33m]\u001b[0m\u001b[1;33m.\u001b[0m\u001b[0mastype\u001b[0m\u001b[1;33m(\u001b[0m\u001b[0mint\u001b[0m\u001b[1;33m)\u001b[0m\u001b[1;33m\u001b[0m\u001b[1;33m\u001b[0m\u001b[0m\n",
      "\u001b[1;32m~\\anaconda3\\lib\\site-packages\\pandas\\core\\generic.py\u001b[0m in \u001b[0;36mastype\u001b[1;34m(self, dtype, copy, errors)\u001b[0m\n\u001b[0;32m   5875\u001b[0m         \u001b[1;32melse\u001b[0m\u001b[1;33m:\u001b[0m\u001b[1;33m\u001b[0m\u001b[1;33m\u001b[0m\u001b[0m\n\u001b[0;32m   5876\u001b[0m             \u001b[1;31m# else, only a single dtype is given\u001b[0m\u001b[1;33m\u001b[0m\u001b[1;33m\u001b[0m\u001b[1;33m\u001b[0m\u001b[0m\n\u001b[1;32m-> 5877\u001b[1;33m             \u001b[0mnew_data\u001b[0m \u001b[1;33m=\u001b[0m \u001b[0mself\u001b[0m\u001b[1;33m.\u001b[0m\u001b[0m_mgr\u001b[0m\u001b[1;33m.\u001b[0m\u001b[0mastype\u001b[0m\u001b[1;33m(\u001b[0m\u001b[0mdtype\u001b[0m\u001b[1;33m=\u001b[0m\u001b[0mdtype\u001b[0m\u001b[1;33m,\u001b[0m \u001b[0mcopy\u001b[0m\u001b[1;33m=\u001b[0m\u001b[0mcopy\u001b[0m\u001b[1;33m,\u001b[0m \u001b[0merrors\u001b[0m\u001b[1;33m=\u001b[0m\u001b[0merrors\u001b[0m\u001b[1;33m)\u001b[0m\u001b[1;33m\u001b[0m\u001b[1;33m\u001b[0m\u001b[0m\n\u001b[0m\u001b[0;32m   5878\u001b[0m             \u001b[1;32mreturn\u001b[0m \u001b[0mself\u001b[0m\u001b[1;33m.\u001b[0m\u001b[0m_constructor\u001b[0m\u001b[1;33m(\u001b[0m\u001b[0mnew_data\u001b[0m\u001b[1;33m)\u001b[0m\u001b[1;33m.\u001b[0m\u001b[0m__finalize__\u001b[0m\u001b[1;33m(\u001b[0m\u001b[0mself\u001b[0m\u001b[1;33m,\u001b[0m \u001b[0mmethod\u001b[0m\u001b[1;33m=\u001b[0m\u001b[1;34m\"astype\"\u001b[0m\u001b[1;33m)\u001b[0m\u001b[1;33m\u001b[0m\u001b[1;33m\u001b[0m\u001b[0m\n\u001b[0;32m   5879\u001b[0m \u001b[1;33m\u001b[0m\u001b[0m\n",
      "\u001b[1;32m~\\anaconda3\\lib\\site-packages\\pandas\\core\\internals\\managers.py\u001b[0m in \u001b[0;36mastype\u001b[1;34m(self, dtype, copy, errors)\u001b[0m\n\u001b[0;32m    629\u001b[0m         \u001b[0mself\u001b[0m\u001b[1;33m,\u001b[0m \u001b[0mdtype\u001b[0m\u001b[1;33m,\u001b[0m \u001b[0mcopy\u001b[0m\u001b[1;33m:\u001b[0m \u001b[0mbool\u001b[0m \u001b[1;33m=\u001b[0m \u001b[1;32mFalse\u001b[0m\u001b[1;33m,\u001b[0m \u001b[0merrors\u001b[0m\u001b[1;33m:\u001b[0m \u001b[0mstr\u001b[0m \u001b[1;33m=\u001b[0m \u001b[1;34m\"raise\"\u001b[0m\u001b[1;33m\u001b[0m\u001b[1;33m\u001b[0m\u001b[0m\n\u001b[0;32m    630\u001b[0m     ) -> \"BlockManager\":\n\u001b[1;32m--> 631\u001b[1;33m         \u001b[1;32mreturn\u001b[0m \u001b[0mself\u001b[0m\u001b[1;33m.\u001b[0m\u001b[0mapply\u001b[0m\u001b[1;33m(\u001b[0m\u001b[1;34m\"astype\"\u001b[0m\u001b[1;33m,\u001b[0m \u001b[0mdtype\u001b[0m\u001b[1;33m=\u001b[0m\u001b[0mdtype\u001b[0m\u001b[1;33m,\u001b[0m \u001b[0mcopy\u001b[0m\u001b[1;33m=\u001b[0m\u001b[0mcopy\u001b[0m\u001b[1;33m,\u001b[0m \u001b[0merrors\u001b[0m\u001b[1;33m=\u001b[0m\u001b[0merrors\u001b[0m\u001b[1;33m)\u001b[0m\u001b[1;33m\u001b[0m\u001b[1;33m\u001b[0m\u001b[0m\n\u001b[0m\u001b[0;32m    632\u001b[0m \u001b[1;33m\u001b[0m\u001b[0m\n\u001b[0;32m    633\u001b[0m     def convert(\n",
      "\u001b[1;32m~\\anaconda3\\lib\\site-packages\\pandas\\core\\internals\\managers.py\u001b[0m in \u001b[0;36mapply\u001b[1;34m(self, f, align_keys, ignore_failures, **kwargs)\u001b[0m\n\u001b[0;32m    425\u001b[0m                     \u001b[0mapplied\u001b[0m \u001b[1;33m=\u001b[0m \u001b[0mb\u001b[0m\u001b[1;33m.\u001b[0m\u001b[0mapply\u001b[0m\u001b[1;33m(\u001b[0m\u001b[0mf\u001b[0m\u001b[1;33m,\u001b[0m \u001b[1;33m**\u001b[0m\u001b[0mkwargs\u001b[0m\u001b[1;33m)\u001b[0m\u001b[1;33m\u001b[0m\u001b[1;33m\u001b[0m\u001b[0m\n\u001b[0;32m    426\u001b[0m                 \u001b[1;32melse\u001b[0m\u001b[1;33m:\u001b[0m\u001b[1;33m\u001b[0m\u001b[1;33m\u001b[0m\u001b[0m\n\u001b[1;32m--> 427\u001b[1;33m                     \u001b[0mapplied\u001b[0m \u001b[1;33m=\u001b[0m \u001b[0mgetattr\u001b[0m\u001b[1;33m(\u001b[0m\u001b[0mb\u001b[0m\u001b[1;33m,\u001b[0m \u001b[0mf\u001b[0m\u001b[1;33m)\u001b[0m\u001b[1;33m(\u001b[0m\u001b[1;33m**\u001b[0m\u001b[0mkwargs\u001b[0m\u001b[1;33m)\u001b[0m\u001b[1;33m\u001b[0m\u001b[1;33m\u001b[0m\u001b[0m\n\u001b[0m\u001b[0;32m    428\u001b[0m             \u001b[1;32mexcept\u001b[0m \u001b[1;33m(\u001b[0m\u001b[0mTypeError\u001b[0m\u001b[1;33m,\u001b[0m \u001b[0mNotImplementedError\u001b[0m\u001b[1;33m)\u001b[0m\u001b[1;33m:\u001b[0m\u001b[1;33m\u001b[0m\u001b[1;33m\u001b[0m\u001b[0m\n\u001b[0;32m    429\u001b[0m                 \u001b[1;32mif\u001b[0m \u001b[1;32mnot\u001b[0m \u001b[0mignore_failures\u001b[0m\u001b[1;33m:\u001b[0m\u001b[1;33m\u001b[0m\u001b[1;33m\u001b[0m\u001b[0m\n",
      "\u001b[1;32m~\\anaconda3\\lib\\site-packages\\pandas\\core\\internals\\blocks.py\u001b[0m in \u001b[0;36mastype\u001b[1;34m(self, dtype, copy, errors)\u001b[0m\n\u001b[0;32m    671\u001b[0m             \u001b[0mvals1d\u001b[0m \u001b[1;33m=\u001b[0m \u001b[0mvalues\u001b[0m\u001b[1;33m.\u001b[0m\u001b[0mravel\u001b[0m\u001b[1;33m(\u001b[0m\u001b[1;33m)\u001b[0m\u001b[1;33m\u001b[0m\u001b[1;33m\u001b[0m\u001b[0m\n\u001b[0;32m    672\u001b[0m             \u001b[1;32mtry\u001b[0m\u001b[1;33m:\u001b[0m\u001b[1;33m\u001b[0m\u001b[1;33m\u001b[0m\u001b[0m\n\u001b[1;32m--> 673\u001b[1;33m                 \u001b[0mvalues\u001b[0m \u001b[1;33m=\u001b[0m \u001b[0mastype_nansafe\u001b[0m\u001b[1;33m(\u001b[0m\u001b[0mvals1d\u001b[0m\u001b[1;33m,\u001b[0m \u001b[0mdtype\u001b[0m\u001b[1;33m,\u001b[0m \u001b[0mcopy\u001b[0m\u001b[1;33m=\u001b[0m\u001b[1;32mTrue\u001b[0m\u001b[1;33m)\u001b[0m\u001b[1;33m\u001b[0m\u001b[1;33m\u001b[0m\u001b[0m\n\u001b[0m\u001b[0;32m    674\u001b[0m             \u001b[1;32mexcept\u001b[0m \u001b[1;33m(\u001b[0m\u001b[0mValueError\u001b[0m\u001b[1;33m,\u001b[0m \u001b[0mTypeError\u001b[0m\u001b[1;33m)\u001b[0m\u001b[1;33m:\u001b[0m\u001b[1;33m\u001b[0m\u001b[1;33m\u001b[0m\u001b[0m\n\u001b[0;32m    675\u001b[0m                 \u001b[1;31m# e.g. astype_nansafe can fail on object-dtype of strings\u001b[0m\u001b[1;33m\u001b[0m\u001b[1;33m\u001b[0m\u001b[1;33m\u001b[0m\u001b[0m\n",
      "\u001b[1;32m~\\anaconda3\\lib\\site-packages\\pandas\\core\\dtypes\\cast.py\u001b[0m in \u001b[0;36mastype_nansafe\u001b[1;34m(arr, dtype, copy, skipna)\u001b[0m\n\u001b[0;32m   1072\u001b[0m         \u001b[1;31m# work around NumPy brokenness, #1987\u001b[0m\u001b[1;33m\u001b[0m\u001b[1;33m\u001b[0m\u001b[1;33m\u001b[0m\u001b[0m\n\u001b[0;32m   1073\u001b[0m         \u001b[1;32mif\u001b[0m \u001b[0mnp\u001b[0m\u001b[1;33m.\u001b[0m\u001b[0missubdtype\u001b[0m\u001b[1;33m(\u001b[0m\u001b[0mdtype\u001b[0m\u001b[1;33m.\u001b[0m\u001b[0mtype\u001b[0m\u001b[1;33m,\u001b[0m \u001b[0mnp\u001b[0m\u001b[1;33m.\u001b[0m\u001b[0minteger\u001b[0m\u001b[1;33m)\u001b[0m\u001b[1;33m:\u001b[0m\u001b[1;33m\u001b[0m\u001b[1;33m\u001b[0m\u001b[0m\n\u001b[1;32m-> 1074\u001b[1;33m             \u001b[1;32mreturn\u001b[0m \u001b[0mlib\u001b[0m\u001b[1;33m.\u001b[0m\u001b[0mastype_intsafe\u001b[0m\u001b[1;33m(\u001b[0m\u001b[0marr\u001b[0m\u001b[1;33m.\u001b[0m\u001b[0mravel\u001b[0m\u001b[1;33m(\u001b[0m\u001b[1;33m)\u001b[0m\u001b[1;33m,\u001b[0m \u001b[0mdtype\u001b[0m\u001b[1;33m)\u001b[0m\u001b[1;33m.\u001b[0m\u001b[0mreshape\u001b[0m\u001b[1;33m(\u001b[0m\u001b[0marr\u001b[0m\u001b[1;33m.\u001b[0m\u001b[0mshape\u001b[0m\u001b[1;33m)\u001b[0m\u001b[1;33m\u001b[0m\u001b[1;33m\u001b[0m\u001b[0m\n\u001b[0m\u001b[0;32m   1075\u001b[0m \u001b[1;33m\u001b[0m\u001b[0m\n\u001b[0;32m   1076\u001b[0m         \u001b[1;31m# if we have a datetime/timedelta array of objects\u001b[0m\u001b[1;33m\u001b[0m\u001b[1;33m\u001b[0m\u001b[1;33m\u001b[0m\u001b[0m\n",
      "\u001b[1;32mpandas\\_libs\\lib.pyx\u001b[0m in \u001b[0;36mpandas._libs.lib.astype_intsafe\u001b[1;34m()\u001b[0m\n",
      "\u001b[1;31mValueError\u001b[0m: invalid literal for int() with base 10: 'TA1306000003'"
     ]
    }
   ],
   "source": [
    "# we change the datatype of y20_4 and y20_5 already so we don't need to do it.\n",
    "y20_6[['end_station_id', 'start_station_id']] = y20_6[['end_station_id', 'start_station_id']].astype(int)\n",
    "y20_7[['end_station_id', 'start_station_id']] = y20_7[['end_station_id', 'start_station_id']].astype(int)\n",
    "y20_8[['end_station_id', 'start_station_id']] = y20_8[['end_station_id', 'start_station_id']].astype(int)\n",
    "y20_9[['end_station_id', 'start_station_id']] = y20_9[['end_station_id', 'start_station_id']].astype(int)\n",
    "y20_10[['end_station_id', 'start_station_id']] = y20_10[['end_station_id', 'start_station_id']].astype(int)\n",
    "y20_11[['end_station_id', 'start_station_id']] = y20_11[['end_station_id', 'start_station_id']].astype(int)\n",
    "y20_12[['end_station_id', 'start_station_id']] = y20_12[['end_station_id', 'start_station_id']].astype(int)\n",
    "y21_1[['end_station_id', 'start_station_id']] = y21_1[['end_station_id', 'start_station_id']].astype(int)\n",
    "y21_2[['end_station_id', 'start_station_id']] = y21_2[['end_station_id', 'start_station_id']].astype(int)\n",
    "y21_3[['end_station_id', 'start_station_id']] = y21_3[['end_station_id', 'start_station_id']].astype(int)"
   ]
  },
  {
   "cell_type": "markdown",
   "id": "emotional-inspector",
   "metadata": {},
   "source": [
    "We face a problem let's solve this problem.\n",
    "\n",
    "`ValueError: invalid literal for int() with base 10: 'TA1306000003'`"
   ]
  },
  {
   "cell_type": "markdown",
   "id": "excellent-master",
   "metadata": {},
   "source": [
    "from the error message we can see that the probem is in `y20_12`. "
   ]
  },
  {
   "cell_type": "code",
   "execution_count": null,
   "id": "primary-hypothetical",
   "metadata": {},
   "outputs": [],
   "source": [
    "print(y20_12['start_station_id'].dtypes)\n",
    "print(y21_1['start_station_id'].dtypes)\n",
    "print(y21_2['start_station_id'].dtypes)\n",
    "print(y21_3['start_station_id'].dtypes)"
   ]
  },
  {
   "cell_type": "markdown",
   "id": "animated-incentive",
   "metadata": {},
   "source": [
    "Data type inconsistencies exist `start/end_station_id(12,01,02,03)`. \n",
    "\n",
    "The start_station_id and end_station_id fields in 4 of the .csv files imported as the 'character' data type when they should have been numbers (y2020_12, y2021_01, y2021_02, y2021_03).\n"
   ]
  },
  {
   "cell_type": "markdown",
   "id": "optional-replacement",
   "metadata": {},
   "source": [
    "We will analyze these 4 files speratly."
   ]
  },
  {
   "cell_type": "markdown",
   "id": "lesbian-corps",
   "metadata": {},
   "source": [
    "You can use some technique to combine these datasets but I will analyze separte. "
   ]
  },
  {
   "cell_type": "markdown",
   "id": "nuclear-trouble",
   "metadata": {},
   "source": [
    "so we don't need to change the data type of this. \n",
    "\n",
    "we will do for the remaining."
   ]
  },
  {
   "cell_type": "code",
   "execution_count": 22,
   "id": "gorgeous-samba",
   "metadata": {},
   "outputs": [],
   "source": [
    "y20_6[['end_station_id', 'start_station_id']] = y20_6[['end_station_id', 'start_station_id']].astype(int)\n",
    "y20_7[['end_station_id', 'start_station_id']] = y20_7[['end_station_id', 'start_station_id']].astype(int)\n",
    "y20_8[['end_station_id', 'start_station_id']] = y20_8[['end_station_id', 'start_station_id']].astype(int)\n",
    "y20_9[['end_station_id', 'start_station_id']] = y20_9[['end_station_id', 'start_station_id']].astype(int)\n",
    "y20_10[['end_station_id', 'start_station_id']] = y20_10[['end_station_id', 'start_station_id']].astype(int)\n",
    "y20_11[['end_station_id', 'start_station_id']] = y20_11[['end_station_id', 'start_station_id']].astype(int)"
   ]
  },
  {
   "cell_type": "markdown",
   "id": "aggressive-consciousness",
   "metadata": {},
   "source": [
    "Now let's combine y20_4 to y20_11 into one dataset, and y20_12 to y21_3 to another dataset."
   ]
  },
  {
   "cell_type": "code",
   "execution_count": 23,
   "id": "theoretical-commission",
   "metadata": {},
   "outputs": [],
   "source": [
    "# use this syntx \n",
    "# bigdata = pd.concat([data1, data2], ignore_index=True, sort=False)\n",
    "tripdata1 = y20_4.append([y20_5,y20_6,y20_7,y20_8,y20_9,y20_10,y20_11], ignore_index=True)\n",
    "tripdata2 = y20_12.append([y21_1,y21_2,y21_3], ignore_index=True)"
   ]
  },
  {
   "cell_type": "code",
   "execution_count": 24,
   "id": "confused-kinase",
   "metadata": {},
   "outputs": [
    {
     "data": {
      "text/html": [
       "<div>\n",
       "<style scoped>\n",
       "    .dataframe tbody tr th:only-of-type {\n",
       "        vertical-align: middle;\n",
       "    }\n",
       "\n",
       "    .dataframe tbody tr th {\n",
       "        vertical-align: top;\n",
       "    }\n",
       "\n",
       "    .dataframe thead th {\n",
       "        text-align: right;\n",
       "    }\n",
       "</style>\n",
       "<table border=\"1\" class=\"dataframe\">\n",
       "  <thead>\n",
       "    <tr style=\"text-align: right;\">\n",
       "      <th></th>\n",
       "      <th>ride_id</th>\n",
       "      <th>rideable_type</th>\n",
       "      <th>started_at</th>\n",
       "      <th>ended_at</th>\n",
       "      <th>start_station_name</th>\n",
       "      <th>start_station_id</th>\n",
       "      <th>end_station_name</th>\n",
       "      <th>end_station_id</th>\n",
       "      <th>start_lat</th>\n",
       "      <th>start_lng</th>\n",
       "      <th>end_lat</th>\n",
       "      <th>end_lng</th>\n",
       "      <th>member_casual</th>\n",
       "    </tr>\n",
       "  </thead>\n",
       "  <tbody>\n",
       "    <tr>\n",
       "      <th>0</th>\n",
       "      <td>A847FADBBC638E45</td>\n",
       "      <td>docked_bike</td>\n",
       "      <td>2020-04-26 17:45:14</td>\n",
       "      <td>2020-04-26 18:12:03</td>\n",
       "      <td>Eckhart Park</td>\n",
       "      <td>86</td>\n",
       "      <td>Lincoln Ave &amp; Diversey Pkwy</td>\n",
       "      <td>152.0</td>\n",
       "      <td>41.8964</td>\n",
       "      <td>-87.6610</td>\n",
       "      <td>41.9322</td>\n",
       "      <td>-87.6586</td>\n",
       "      <td>member</td>\n",
       "    </tr>\n",
       "    <tr>\n",
       "      <th>1</th>\n",
       "      <td>5405B80E996FF60D</td>\n",
       "      <td>docked_bike</td>\n",
       "      <td>2020-04-17 17:08:54</td>\n",
       "      <td>2020-04-17 17:17:03</td>\n",
       "      <td>Drake Ave &amp; Fullerton Ave</td>\n",
       "      <td>503</td>\n",
       "      <td>Kosciuszko Park</td>\n",
       "      <td>499.0</td>\n",
       "      <td>41.9244</td>\n",
       "      <td>-87.7154</td>\n",
       "      <td>41.9306</td>\n",
       "      <td>-87.7238</td>\n",
       "      <td>member</td>\n",
       "    </tr>\n",
       "  </tbody>\n",
       "</table>\n",
       "</div>"
      ],
      "text/plain": [
       "            ride_id rideable_type           started_at             ended_at  \\\n",
       "0  A847FADBBC638E45   docked_bike  2020-04-26 17:45:14  2020-04-26 18:12:03   \n",
       "1  5405B80E996FF60D   docked_bike  2020-04-17 17:08:54  2020-04-17 17:17:03   \n",
       "\n",
       "          start_station_name  start_station_id             end_station_name  \\\n",
       "0               Eckhart Park                86  Lincoln Ave & Diversey Pkwy   \n",
       "1  Drake Ave & Fullerton Ave               503              Kosciuszko Park   \n",
       "\n",
       "   end_station_id  start_lat  start_lng  end_lat  end_lng member_casual  \n",
       "0           152.0    41.8964   -87.6610  41.9322 -87.6586        member  \n",
       "1           499.0    41.9244   -87.7154  41.9306 -87.7238        member  "
      ]
     },
     "execution_count": 24,
     "metadata": {},
     "output_type": "execute_result"
    }
   ],
   "source": [
    "tripdata1.head(2)"
   ]
  },
  {
   "cell_type": "markdown",
   "id": "first-brass",
   "metadata": {},
   "source": [
    "Create a column called “ride_length.” Calculate the length of each ride by subtracting the column “started_at” from the column “ended_at” (for example, =ended_at-started_at)."
   ]
  },
  {
   "cell_type": "markdown",
   "id": "nominated-procurement",
   "metadata": {},
   "source": [
    "Let's first check the datatype of started_at and ended_at column."
   ]
  },
  {
   "cell_type": "code",
   "execution_count": 25,
   "id": "conventional-placement",
   "metadata": {},
   "outputs": [
    {
     "name": "stdout",
     "output_type": "stream",
     "text": [
      "started_at dataType: object\n",
      "ended_at dataType: object\n"
     ]
    }
   ],
   "source": [
    "print(\"started_at dataType:\",tripdata1['started_at'].dtype)\n",
    "print(\"ended_at dataType:\",tripdata1['ended_at'].dtype)"
   ]
  },
  {
   "cell_type": "markdown",
   "id": "informative-refrigerator",
   "metadata": {},
   "source": [
    "we can see that both are object let's perform the `ended_at - started_at` operation to create a new coloumn `ride_length`."
   ]
  },
  {
   "cell_type": "code",
   "execution_count": 26,
   "id": "focal-print",
   "metadata": {},
   "outputs": [
    {
     "ename": "TypeError",
     "evalue": "unsupported operand type(s) for -: 'str' and 'str'",
     "output_type": "error",
     "traceback": [
      "\u001b[1;31m---------------------------------------------------------------------------\u001b[0m",
      "\u001b[1;31mTypeError\u001b[0m                                 Traceback (most recent call last)",
      "\u001b[1;32m~\\anaconda3\\lib\\site-packages\\pandas\\core\\ops\\array_ops.py\u001b[0m in \u001b[0;36m_na_arithmetic_op\u001b[1;34m(left, right, op, is_cmp)\u001b[0m\n\u001b[0;32m    141\u001b[0m     \u001b[1;32mtry\u001b[0m\u001b[1;33m:\u001b[0m\u001b[1;33m\u001b[0m\u001b[1;33m\u001b[0m\u001b[0m\n\u001b[1;32m--> 142\u001b[1;33m         \u001b[0mresult\u001b[0m \u001b[1;33m=\u001b[0m \u001b[0mexpressions\u001b[0m\u001b[1;33m.\u001b[0m\u001b[0mevaluate\u001b[0m\u001b[1;33m(\u001b[0m\u001b[0mop\u001b[0m\u001b[1;33m,\u001b[0m \u001b[0mleft\u001b[0m\u001b[1;33m,\u001b[0m \u001b[0mright\u001b[0m\u001b[1;33m)\u001b[0m\u001b[1;33m\u001b[0m\u001b[1;33m\u001b[0m\u001b[0m\n\u001b[0m\u001b[0;32m    143\u001b[0m     \u001b[1;32mexcept\u001b[0m \u001b[0mTypeError\u001b[0m\u001b[1;33m:\u001b[0m\u001b[1;33m\u001b[0m\u001b[1;33m\u001b[0m\u001b[0m\n",
      "\u001b[1;32m~\\anaconda3\\lib\\site-packages\\pandas\\core\\computation\\expressions.py\u001b[0m in \u001b[0;36mevaluate\u001b[1;34m(op, a, b, use_numexpr)\u001b[0m\n\u001b[0;32m    234\u001b[0m             \u001b[1;31m# error: \"None\" not callable\u001b[0m\u001b[1;33m\u001b[0m\u001b[1;33m\u001b[0m\u001b[1;33m\u001b[0m\u001b[0m\n\u001b[1;32m--> 235\u001b[1;33m             \u001b[1;32mreturn\u001b[0m \u001b[0m_evaluate\u001b[0m\u001b[1;33m(\u001b[0m\u001b[0mop\u001b[0m\u001b[1;33m,\u001b[0m \u001b[0mop_str\u001b[0m\u001b[1;33m,\u001b[0m \u001b[0ma\u001b[0m\u001b[1;33m,\u001b[0m \u001b[0mb\u001b[0m\u001b[1;33m)\u001b[0m  \u001b[1;31m# type: ignore[misc]\u001b[0m\u001b[1;33m\u001b[0m\u001b[1;33m\u001b[0m\u001b[0m\n\u001b[0m\u001b[0;32m    236\u001b[0m     \u001b[1;32mreturn\u001b[0m \u001b[0m_evaluate_standard\u001b[0m\u001b[1;33m(\u001b[0m\u001b[0mop\u001b[0m\u001b[1;33m,\u001b[0m \u001b[0mop_str\u001b[0m\u001b[1;33m,\u001b[0m \u001b[0ma\u001b[0m\u001b[1;33m,\u001b[0m \u001b[0mb\u001b[0m\u001b[1;33m)\u001b[0m\u001b[1;33m\u001b[0m\u001b[1;33m\u001b[0m\u001b[0m\n",
      "\u001b[1;32m~\\anaconda3\\lib\\site-packages\\pandas\\core\\computation\\expressions.py\u001b[0m in \u001b[0;36m_evaluate_numexpr\u001b[1;34m(op, op_str, a, b)\u001b[0m\n\u001b[0;32m    119\u001b[0m     \u001b[1;32mif\u001b[0m \u001b[0mresult\u001b[0m \u001b[1;32mis\u001b[0m \u001b[1;32mNone\u001b[0m\u001b[1;33m:\u001b[0m\u001b[1;33m\u001b[0m\u001b[1;33m\u001b[0m\u001b[0m\n\u001b[1;32m--> 120\u001b[1;33m         \u001b[0mresult\u001b[0m \u001b[1;33m=\u001b[0m \u001b[0m_evaluate_standard\u001b[0m\u001b[1;33m(\u001b[0m\u001b[0mop\u001b[0m\u001b[1;33m,\u001b[0m \u001b[0mop_str\u001b[0m\u001b[1;33m,\u001b[0m \u001b[0ma\u001b[0m\u001b[1;33m,\u001b[0m \u001b[0mb\u001b[0m\u001b[1;33m)\u001b[0m\u001b[1;33m\u001b[0m\u001b[1;33m\u001b[0m\u001b[0m\n\u001b[0m\u001b[0;32m    121\u001b[0m \u001b[1;33m\u001b[0m\u001b[0m\n",
      "\u001b[1;32m~\\anaconda3\\lib\\site-packages\\pandas\\core\\computation\\expressions.py\u001b[0m in \u001b[0;36m_evaluate_standard\u001b[1;34m(op, op_str, a, b)\u001b[0m\n\u001b[0;32m     68\u001b[0m     \u001b[1;32mwith\u001b[0m \u001b[0mnp\u001b[0m\u001b[1;33m.\u001b[0m\u001b[0merrstate\u001b[0m\u001b[1;33m(\u001b[0m\u001b[0mall\u001b[0m\u001b[1;33m=\u001b[0m\u001b[1;34m\"ignore\"\u001b[0m\u001b[1;33m)\u001b[0m\u001b[1;33m:\u001b[0m\u001b[1;33m\u001b[0m\u001b[1;33m\u001b[0m\u001b[0m\n\u001b[1;32m---> 69\u001b[1;33m         \u001b[1;32mreturn\u001b[0m \u001b[0mop\u001b[0m\u001b[1;33m(\u001b[0m\u001b[0ma\u001b[0m\u001b[1;33m,\u001b[0m \u001b[0mb\u001b[0m\u001b[1;33m)\u001b[0m\u001b[1;33m\u001b[0m\u001b[1;33m\u001b[0m\u001b[0m\n\u001b[0m\u001b[0;32m     70\u001b[0m \u001b[1;33m\u001b[0m\u001b[0m\n",
      "\u001b[1;31mTypeError\u001b[0m: unsupported operand type(s) for -: 'str' and 'str'",
      "\nDuring handling of the above exception, another exception occurred:\n",
      "\u001b[1;31mTypeError\u001b[0m                                 Traceback (most recent call last)",
      "\u001b[1;32m<ipython-input-26-0a8ed9b343e6>\u001b[0m in \u001b[0;36m<module>\u001b[1;34m\u001b[0m\n\u001b[1;32m----> 1\u001b[1;33m \u001b[0mtripdata1\u001b[0m\u001b[1;33m[\u001b[0m\u001b[1;34m'ride_length'\u001b[0m\u001b[1;33m]\u001b[0m \u001b[1;33m=\u001b[0m \u001b[0mtripdata1\u001b[0m\u001b[1;33m[\u001b[0m\u001b[1;34m'ended_at'\u001b[0m\u001b[1;33m]\u001b[0m \u001b[1;33m-\u001b[0m \u001b[0mtripdata1\u001b[0m\u001b[1;33m[\u001b[0m\u001b[1;34m'started_at'\u001b[0m\u001b[1;33m]\u001b[0m\u001b[1;33m\u001b[0m\u001b[1;33m\u001b[0m\u001b[0m\n\u001b[0m",
      "\u001b[1;32m~\\anaconda3\\lib\\site-packages\\pandas\\core\\ops\\common.py\u001b[0m in \u001b[0;36mnew_method\u001b[1;34m(self, other)\u001b[0m\n\u001b[0;32m     63\u001b[0m         \u001b[0mother\u001b[0m \u001b[1;33m=\u001b[0m \u001b[0mitem_from_zerodim\u001b[0m\u001b[1;33m(\u001b[0m\u001b[0mother\u001b[0m\u001b[1;33m)\u001b[0m\u001b[1;33m\u001b[0m\u001b[1;33m\u001b[0m\u001b[0m\n\u001b[0;32m     64\u001b[0m \u001b[1;33m\u001b[0m\u001b[0m\n\u001b[1;32m---> 65\u001b[1;33m         \u001b[1;32mreturn\u001b[0m \u001b[0mmethod\u001b[0m\u001b[1;33m(\u001b[0m\u001b[0mself\u001b[0m\u001b[1;33m,\u001b[0m \u001b[0mother\u001b[0m\u001b[1;33m)\u001b[0m\u001b[1;33m\u001b[0m\u001b[1;33m\u001b[0m\u001b[0m\n\u001b[0m\u001b[0;32m     66\u001b[0m \u001b[1;33m\u001b[0m\u001b[0m\n\u001b[0;32m     67\u001b[0m     \u001b[1;32mreturn\u001b[0m \u001b[0mnew_method\u001b[0m\u001b[1;33m\u001b[0m\u001b[1;33m\u001b[0m\u001b[0m\n",
      "\u001b[1;32m~\\anaconda3\\lib\\site-packages\\pandas\\core\\arraylike.py\u001b[0m in \u001b[0;36m__sub__\u001b[1;34m(self, other)\u001b[0m\n\u001b[0;32m     95\u001b[0m     \u001b[1;33m@\u001b[0m\u001b[0munpack_zerodim_and_defer\u001b[0m\u001b[1;33m(\u001b[0m\u001b[1;34m\"__sub__\"\u001b[0m\u001b[1;33m)\u001b[0m\u001b[1;33m\u001b[0m\u001b[1;33m\u001b[0m\u001b[0m\n\u001b[0;32m     96\u001b[0m     \u001b[1;32mdef\u001b[0m \u001b[0m__sub__\u001b[0m\u001b[1;33m(\u001b[0m\u001b[0mself\u001b[0m\u001b[1;33m,\u001b[0m \u001b[0mother\u001b[0m\u001b[1;33m)\u001b[0m\u001b[1;33m:\u001b[0m\u001b[1;33m\u001b[0m\u001b[1;33m\u001b[0m\u001b[0m\n\u001b[1;32m---> 97\u001b[1;33m         \u001b[1;32mreturn\u001b[0m \u001b[0mself\u001b[0m\u001b[1;33m.\u001b[0m\u001b[0m_arith_method\u001b[0m\u001b[1;33m(\u001b[0m\u001b[0mother\u001b[0m\u001b[1;33m,\u001b[0m \u001b[0moperator\u001b[0m\u001b[1;33m.\u001b[0m\u001b[0msub\u001b[0m\u001b[1;33m)\u001b[0m\u001b[1;33m\u001b[0m\u001b[1;33m\u001b[0m\u001b[0m\n\u001b[0m\u001b[0;32m     98\u001b[0m \u001b[1;33m\u001b[0m\u001b[0m\n\u001b[0;32m     99\u001b[0m     \u001b[1;33m@\u001b[0m\u001b[0munpack_zerodim_and_defer\u001b[0m\u001b[1;33m(\u001b[0m\u001b[1;34m\"__rsub__\"\u001b[0m\u001b[1;33m)\u001b[0m\u001b[1;33m\u001b[0m\u001b[1;33m\u001b[0m\u001b[0m\n",
      "\u001b[1;32m~\\anaconda3\\lib\\site-packages\\pandas\\core\\series.py\u001b[0m in \u001b[0;36m_arith_method\u001b[1;34m(self, other, op)\u001b[0m\n\u001b[0;32m   4996\u001b[0m         \u001b[0mlvalues\u001b[0m \u001b[1;33m=\u001b[0m \u001b[0mextract_array\u001b[0m\u001b[1;33m(\u001b[0m\u001b[0mself\u001b[0m\u001b[1;33m,\u001b[0m \u001b[0mextract_numpy\u001b[0m\u001b[1;33m=\u001b[0m\u001b[1;32mTrue\u001b[0m\u001b[1;33m)\u001b[0m\u001b[1;33m\u001b[0m\u001b[1;33m\u001b[0m\u001b[0m\n\u001b[0;32m   4997\u001b[0m         \u001b[0mrvalues\u001b[0m \u001b[1;33m=\u001b[0m \u001b[0mextract_array\u001b[0m\u001b[1;33m(\u001b[0m\u001b[0mother\u001b[0m\u001b[1;33m,\u001b[0m \u001b[0mextract_numpy\u001b[0m\u001b[1;33m=\u001b[0m\u001b[1;32mTrue\u001b[0m\u001b[1;33m)\u001b[0m\u001b[1;33m\u001b[0m\u001b[1;33m\u001b[0m\u001b[0m\n\u001b[1;32m-> 4998\u001b[1;33m         \u001b[0mresult\u001b[0m \u001b[1;33m=\u001b[0m \u001b[0mops\u001b[0m\u001b[1;33m.\u001b[0m\u001b[0marithmetic_op\u001b[0m\u001b[1;33m(\u001b[0m\u001b[0mlvalues\u001b[0m\u001b[1;33m,\u001b[0m \u001b[0mrvalues\u001b[0m\u001b[1;33m,\u001b[0m \u001b[0mop\u001b[0m\u001b[1;33m)\u001b[0m\u001b[1;33m\u001b[0m\u001b[1;33m\u001b[0m\u001b[0m\n\u001b[0m\u001b[0;32m   4999\u001b[0m \u001b[1;33m\u001b[0m\u001b[0m\n\u001b[0;32m   5000\u001b[0m         \u001b[1;32mreturn\u001b[0m \u001b[0mself\u001b[0m\u001b[1;33m.\u001b[0m\u001b[0m_construct_result\u001b[0m\u001b[1;33m(\u001b[0m\u001b[0mresult\u001b[0m\u001b[1;33m,\u001b[0m \u001b[0mname\u001b[0m\u001b[1;33m=\u001b[0m\u001b[0mres_name\u001b[0m\u001b[1;33m)\u001b[0m\u001b[1;33m\u001b[0m\u001b[1;33m\u001b[0m\u001b[0m\n",
      "\u001b[1;32m~\\anaconda3\\lib\\site-packages\\pandas\\core\\ops\\array_ops.py\u001b[0m in \u001b[0;36marithmetic_op\u001b[1;34m(left, right, op)\u001b[0m\n\u001b[0;32m    187\u001b[0m     \u001b[1;32melse\u001b[0m\u001b[1;33m:\u001b[0m\u001b[1;33m\u001b[0m\u001b[1;33m\u001b[0m\u001b[0m\n\u001b[0;32m    188\u001b[0m         \u001b[1;32mwith\u001b[0m \u001b[0mnp\u001b[0m\u001b[1;33m.\u001b[0m\u001b[0merrstate\u001b[0m\u001b[1;33m(\u001b[0m\u001b[0mall\u001b[0m\u001b[1;33m=\u001b[0m\u001b[1;34m\"ignore\"\u001b[0m\u001b[1;33m)\u001b[0m\u001b[1;33m:\u001b[0m\u001b[1;33m\u001b[0m\u001b[1;33m\u001b[0m\u001b[0m\n\u001b[1;32m--> 189\u001b[1;33m             \u001b[0mres_values\u001b[0m \u001b[1;33m=\u001b[0m \u001b[0m_na_arithmetic_op\u001b[0m\u001b[1;33m(\u001b[0m\u001b[0mlvalues\u001b[0m\u001b[1;33m,\u001b[0m \u001b[0mrvalues\u001b[0m\u001b[1;33m,\u001b[0m \u001b[0mop\u001b[0m\u001b[1;33m)\u001b[0m\u001b[1;33m\u001b[0m\u001b[1;33m\u001b[0m\u001b[0m\n\u001b[0m\u001b[0;32m    190\u001b[0m \u001b[1;33m\u001b[0m\u001b[0m\n\u001b[0;32m    191\u001b[0m     \u001b[1;32mreturn\u001b[0m \u001b[0mres_values\u001b[0m\u001b[1;33m\u001b[0m\u001b[1;33m\u001b[0m\u001b[0m\n",
      "\u001b[1;32m~\\anaconda3\\lib\\site-packages\\pandas\\core\\ops\\array_ops.py\u001b[0m in \u001b[0;36m_na_arithmetic_op\u001b[1;34m(left, right, op, is_cmp)\u001b[0m\n\u001b[0;32m    147\u001b[0m             \u001b[1;31m#  will handle complex numbers incorrectly, see GH#32047\u001b[0m\u001b[1;33m\u001b[0m\u001b[1;33m\u001b[0m\u001b[1;33m\u001b[0m\u001b[0m\n\u001b[0;32m    148\u001b[0m             \u001b[1;32mraise\u001b[0m\u001b[1;33m\u001b[0m\u001b[1;33m\u001b[0m\u001b[0m\n\u001b[1;32m--> 149\u001b[1;33m         \u001b[0mresult\u001b[0m \u001b[1;33m=\u001b[0m \u001b[0m_masked_arith_op\u001b[0m\u001b[1;33m(\u001b[0m\u001b[0mleft\u001b[0m\u001b[1;33m,\u001b[0m \u001b[0mright\u001b[0m\u001b[1;33m,\u001b[0m \u001b[0mop\u001b[0m\u001b[1;33m)\u001b[0m\u001b[1;33m\u001b[0m\u001b[1;33m\u001b[0m\u001b[0m\n\u001b[0m\u001b[0;32m    150\u001b[0m \u001b[1;33m\u001b[0m\u001b[0m\n\u001b[0;32m    151\u001b[0m     \u001b[1;32mif\u001b[0m \u001b[0mis_cmp\u001b[0m \u001b[1;32mand\u001b[0m \u001b[1;33m(\u001b[0m\u001b[0mis_scalar\u001b[0m\u001b[1;33m(\u001b[0m\u001b[0mresult\u001b[0m\u001b[1;33m)\u001b[0m \u001b[1;32mor\u001b[0m \u001b[0mresult\u001b[0m \u001b[1;32mis\u001b[0m \u001b[0mNotImplemented\u001b[0m\u001b[1;33m)\u001b[0m\u001b[1;33m:\u001b[0m\u001b[1;33m\u001b[0m\u001b[1;33m\u001b[0m\u001b[0m\n",
      "\u001b[1;32m~\\anaconda3\\lib\\site-packages\\pandas\\core\\ops\\array_ops.py\u001b[0m in \u001b[0;36m_masked_arith_op\u001b[1;34m(x, y, op)\u001b[0m\n\u001b[0;32m     89\u001b[0m         \u001b[1;32mif\u001b[0m \u001b[0mmask\u001b[0m\u001b[1;33m.\u001b[0m\u001b[0many\u001b[0m\u001b[1;33m(\u001b[0m\u001b[1;33m)\u001b[0m\u001b[1;33m:\u001b[0m\u001b[1;33m\u001b[0m\u001b[1;33m\u001b[0m\u001b[0m\n\u001b[0;32m     90\u001b[0m             \u001b[1;32mwith\u001b[0m \u001b[0mnp\u001b[0m\u001b[1;33m.\u001b[0m\u001b[0merrstate\u001b[0m\u001b[1;33m(\u001b[0m\u001b[0mall\u001b[0m\u001b[1;33m=\u001b[0m\u001b[1;34m\"ignore\"\u001b[0m\u001b[1;33m)\u001b[0m\u001b[1;33m:\u001b[0m\u001b[1;33m\u001b[0m\u001b[1;33m\u001b[0m\u001b[0m\n\u001b[1;32m---> 91\u001b[1;33m                 \u001b[0mresult\u001b[0m\u001b[1;33m[\u001b[0m\u001b[0mmask\u001b[0m\u001b[1;33m]\u001b[0m \u001b[1;33m=\u001b[0m \u001b[0mop\u001b[0m\u001b[1;33m(\u001b[0m\u001b[0mxrav\u001b[0m\u001b[1;33m[\u001b[0m\u001b[0mmask\u001b[0m\u001b[1;33m]\u001b[0m\u001b[1;33m,\u001b[0m \u001b[0myrav\u001b[0m\u001b[1;33m[\u001b[0m\u001b[0mmask\u001b[0m\u001b[1;33m]\u001b[0m\u001b[1;33m)\u001b[0m\u001b[1;33m\u001b[0m\u001b[1;33m\u001b[0m\u001b[0m\n\u001b[0m\u001b[0;32m     92\u001b[0m \u001b[1;33m\u001b[0m\u001b[0m\n\u001b[0;32m     93\u001b[0m     \u001b[1;32melse\u001b[0m\u001b[1;33m:\u001b[0m\u001b[1;33m\u001b[0m\u001b[1;33m\u001b[0m\u001b[0m\n",
      "\u001b[1;31mTypeError\u001b[0m: unsupported operand type(s) for -: 'str' and 'str'"
     ]
    }
   ],
   "source": [
    "tripdata1['ride_length'] = tripdata1['ended_at'] - tripdata1['started_at']"
   ]
  },
  {
   "cell_type": "markdown",
   "id": "limited-conversion",
   "metadata": {},
   "source": [
    "From the error we can see that they type is str, we need to convert it to date data type. \n",
    "\n",
    "Let's do that. "
   ]
  },
  {
   "cell_type": "code",
   "execution_count": 27,
   "id": "adapted-broadway",
   "metadata": {},
   "outputs": [],
   "source": [
    "tripdata1['ended_at'] = pd.to_datetime(tripdata1['ended_at'])\n",
    "tripdata1['started_at'] = pd.to_datetime(tripdata1['started_at'])"
   ]
  },
  {
   "cell_type": "markdown",
   "id": "developmental-interstate",
   "metadata": {},
   "source": [
    "Now let's check the datatype."
   ]
  },
  {
   "cell_type": "code",
   "execution_count": 28,
   "id": "expired-department",
   "metadata": {},
   "outputs": [
    {
     "name": "stdout",
     "output_type": "stream",
     "text": [
      "started_at dataType: datetime64[ns]\n",
      "ended_at dataType: datetime64[ns]\n"
     ]
    }
   ],
   "source": [
    "print(\"started_at dataType:\",tripdata1['started_at'].dtype)\n",
    "print(\"ended_at dataType:\",tripdata1['ended_at'].dtype)"
   ]
  },
  {
   "cell_type": "markdown",
   "id": "packed-graduate",
   "metadata": {},
   "source": [
    "Now we are ready to create a new column."
   ]
  },
  {
   "cell_type": "code",
   "execution_count": 29,
   "id": "textile-minority",
   "metadata": {},
   "outputs": [],
   "source": [
    "tripdata1['ride_length'] = tripdata1['ended_at'] - tripdata1['started_at']"
   ]
  },
  {
   "cell_type": "code",
   "execution_count": 30,
   "id": "renewable-idaho",
   "metadata": {},
   "outputs": [
    {
     "data": {
      "text/plain": [
       "0   0 days 00:26:49\n",
       "1   0 days 00:08:09\n",
       "2   0 days 00:14:23\n",
       "3   0 days 00:12:12\n",
       "4   0 days 00:52:55\n",
       "Name: ride_length, dtype: timedelta64[ns]"
      ]
     },
     "execution_count": 30,
     "metadata": {},
     "output_type": "execute_result"
    }
   ],
   "source": [
    "tripdata1['ride_length'].head()"
   ]
  },
  {
   "cell_type": "code",
   "execution_count": 31,
   "id": "sitting-olive",
   "metadata": {},
   "outputs": [
    {
     "name": "stdout",
     "output_type": "stream",
     "text": [
      "0          2020-04-26\n",
      "1          2020-04-17\n",
      "2          2020-04-01\n",
      "3          2020-04-07\n",
      "4          2020-04-18\n",
      "              ...    \n",
      "2848678    2020-11-20\n",
      "2848679    2020-11-02\n",
      "2848680    2020-11-07\n",
      "2848681    2020-11-08\n",
      "2848682    2020-11-07\n",
      "Name: started_at, Length: 2848683, dtype: object\n"
     ]
    }
   ],
   "source": [
    "#to get date only\n",
    "print(tripdata1['started_at'].dt.date)"
   ]
  },
  {
   "cell_type": "code",
   "execution_count": 32,
   "id": "pacific-waterproof",
   "metadata": {},
   "outputs": [
    {
     "name": "stdout",
     "output_type": "stream",
     "text": [
      "0          17:45:14\n",
      "1          17:08:54\n",
      "2          17:54:13\n",
      "3          12:50:19\n",
      "4          10:22:59\n",
      "             ...   \n",
      "2848678    17:09:08\n",
      "2848679    18:53:59\n",
      "2848680    19:05:03\n",
      "2848681    11:47:53\n",
      "2848682    11:44:43\n",
      "Name: started_at, Length: 2848683, dtype: object\n"
     ]
    }
   ],
   "source": [
    "#to get time only\n",
    "print(tripdata1['started_at'].dt.time)"
   ]
  },
  {
   "cell_type": "code",
   "execution_count": 33,
   "id": "vertical-namibia",
   "metadata": {},
   "outputs": [
    {
     "name": "stdout",
     "output_type": "stream",
     "text": [
      "0          17:45\n",
      "1          17:08\n",
      "2          17:54\n",
      "3          12:50\n",
      "4          10:22\n",
      "           ...  \n",
      "2848678    17:09\n",
      "2848679    18:53\n",
      "2848680    19:05\n",
      "2848681    11:47\n",
      "2848682    11:44\n",
      "Name: started_at, Length: 2848683, dtype: object\n"
     ]
    }
   ],
   "source": [
    "#to get hour and minute\n",
    "print(tripdata1['started_at'].dt.strftime('%H:%M'))"
   ]
  },
  {
   "cell_type": "markdown",
   "id": "determined-fitness",
   "metadata": {},
   "source": [
    "Create a column called “day_of_week,” and calculate the day of the week that each ride started specify 1 Sunday and 7 = Saturday. "
   ]
  },
  {
   "cell_type": "code",
   "execution_count": 34,
   "id": "painful-bibliography",
   "metadata": {},
   "outputs": [
    {
     "data": {
      "text/plain": [
       "0             Sunday\n",
       "1             Friday\n",
       "2          Wednesday\n",
       "3            Tuesday\n",
       "4           Saturday\n",
       "             ...    \n",
       "2848678       Friday\n",
       "2848679       Monday\n",
       "2848680     Saturday\n",
       "2848681       Sunday\n",
       "2848682     Saturday\n",
       "Name: started_at, Length: 2848683, dtype: object"
      ]
     },
     "execution_count": 34,
     "metadata": {},
     "output_type": "execute_result"
    }
   ],
   "source": [
    "tripdata1['started_at'].dt.day_name()"
   ]
  },
  {
   "cell_type": "code",
   "execution_count": 76,
   "id": "matched-socket",
   "metadata": {},
   "outputs": [],
   "source": [
    "tripdata1['day_name'] = tripdata1['started_at'].dt.day_name()"
   ]
  },
  {
   "cell_type": "markdown",
   "id": "molecular-relief",
   "metadata": {},
   "source": [
    "Oh this give us names inseated of number let's use another method.\n",
    "we will use the `dayofweek` method."
   ]
  },
  {
   "cell_type": "code",
   "execution_count": 35,
   "id": "induced-transcription",
   "metadata": {},
   "outputs": [
    {
     "data": {
      "text/plain": [
       "array([6, 4, 2, 1, 5, 3, 0], dtype=int64)"
      ]
     },
     "execution_count": 35,
     "metadata": {},
     "output_type": "execute_result"
    }
   ],
   "source": [
    "tripdata1['day_of_week'] = tripdata1['started_at'].dt.dayofweek\n",
    "tripdata1['day_of_week'].unique()"
   ]
  },
  {
   "cell_type": "markdown",
   "id": "later-deposit",
   "metadata": {},
   "source": [
    "We can see that we got 0 as Monday and 6 as Saturday. But we want Monday = 1 and Saturday = 7, let's solve this issue. For a problem there are different type of solution but we will solve it in a simple way let's add 1 to `tripdata1[day_of_week]` column."
   ]
  },
  {
   "cell_type": "code",
   "execution_count": 36,
   "id": "structural-synthetic",
   "metadata": {},
   "outputs": [
    {
     "data": {
      "text/plain": [
       "array([7, 5, 3, 2, 6, 4, 1], dtype=int64)"
      ]
     },
     "execution_count": 36,
     "metadata": {},
     "output_type": "execute_result"
    }
   ],
   "source": [
    "tripdata1['day_of_week'] = tripdata1['day_of_week'] + 1\n",
    "tripdata1['day_of_week'].unique()"
   ]
  },
  {
   "cell_type": "markdown",
   "id": "numeric-reading",
   "metadata": {},
   "source": [
    "Now let's do for the second tripdataset2 also the same operations. "
   ]
  },
  {
   "cell_type": "code",
   "execution_count": 37,
   "id": "proper-latter",
   "metadata": {},
   "outputs": [
    {
     "data": {
      "text/plain": [
       "array([7, 5, 1, 4, 3, 6, 2], dtype=int64)"
      ]
     },
     "execution_count": 37,
     "metadata": {},
     "output_type": "execute_result"
    }
   ],
   "source": [
    "tripdata2['ended_at'] = pd.to_datetime(tripdata2['ended_at'])\n",
    "tripdata2['started_at'] = pd.to_datetime(tripdata2['started_at'])\n",
    "tripdata2['ride_length'] = tripdata2['ended_at'] - tripdata2['started_at']\n",
    "\n",
    "tripdata2['day_of_week'] = tripdata2['started_at'].dt.dayofweek + 1\n",
    "tripdata2['day_of_week'].unique()"
   ]
  },
  {
   "cell_type": "markdown",
   "id": "ceramic-greenhouse",
   "metadata": {},
   "source": [
    "So now our data is ready for analysis if we face some issue we can clean it during the analysis."
   ]
  },
  {
   "cell_type": "markdown",
   "id": "behind-madness",
   "metadata": {},
   "source": [
    "## Analyze\n",
    "Now that your data is stored appropriately and has been prepared for analysis, start putting it to work. Use the following Case\n",
    "Study Roadmap as a guide:\n",
    "\n",
    "- How should you organize your data to perform analysis on it?\n",
    "\n",
    "- Has your data been properly formatted?\n",
    "\n",
    "- What surprises did you discover in the data?\n",
    "\n",
    "- What trends or relationships have you found in the data?\n",
    "\n",
    "- How do these insights answer your business questions or solve the problems?\n",
    "\n",
    "### Key tasks\n",
    "- Aggregate your data so it’s useful and accessible\n",
    "\n",
    "- Organize and format your data\n",
    "\n",
    "- Perform calculations\n",
    "\n",
    "- Identify trends and relationships\n",
    "\n",
    "### Deliverable\n",
    "\n",
    "- A summary of your analysis\n"
   ]
  },
  {
   "cell_type": "markdown",
   "id": "civil-citizenship",
   "metadata": {},
   "source": [
    "please refer to this if you are using spreadsheet,sql or R programing language for further instruction of analysis. <a href='https://drive.google.com/file/d/1kUKoGLAVX7evl0aW5zAiyUN6EUCzbzWq/view?usp=sharing'>Here</a>."
   ]
  },
  {
   "cell_type": "markdown",
   "id": "unlikely-indication",
   "metadata": {},
   "source": [
    "### Key tasks:\n",
    "   - Aggregate your data so it’s useful and accessible."
   ]
  },
  {
   "cell_type": "markdown",
   "id": "civilian-electric",
   "metadata": {},
   "source": [
    "We laready combine the 12 individual data frames into one large data frame for analysis.\n",
    "\n",
    "Next, we add columns to list the date, month, day, and year of each ride for additional aggregation capabilities."
   ]
  },
  {
   "cell_type": "code",
   "execution_count": 38,
   "id": "threaded-representative",
   "metadata": {},
   "outputs": [
    {
     "data": {
      "text/html": [
       "<div>\n",
       "<style scoped>\n",
       "    .dataframe tbody tr th:only-of-type {\n",
       "        vertical-align: middle;\n",
       "    }\n",
       "\n",
       "    .dataframe tbody tr th {\n",
       "        vertical-align: top;\n",
       "    }\n",
       "\n",
       "    .dataframe thead th {\n",
       "        text-align: right;\n",
       "    }\n",
       "</style>\n",
       "<table border=\"1\" class=\"dataframe\">\n",
       "  <thead>\n",
       "    <tr style=\"text-align: right;\">\n",
       "      <th></th>\n",
       "      <th>ride_id</th>\n",
       "      <th>rideable_type</th>\n",
       "      <th>started_at</th>\n",
       "      <th>ended_at</th>\n",
       "      <th>start_station_name</th>\n",
       "      <th>start_station_id</th>\n",
       "      <th>end_station_name</th>\n",
       "      <th>end_station_id</th>\n",
       "      <th>start_lat</th>\n",
       "      <th>start_lng</th>\n",
       "      <th>end_lat</th>\n",
       "      <th>end_lng</th>\n",
       "      <th>member_casual</th>\n",
       "      <th>ride_length</th>\n",
       "      <th>day_of_week</th>\n",
       "    </tr>\n",
       "  </thead>\n",
       "  <tbody>\n",
       "    <tr>\n",
       "      <th>0</th>\n",
       "      <td>A847FADBBC638E45</td>\n",
       "      <td>docked_bike</td>\n",
       "      <td>2020-04-26 17:45:14</td>\n",
       "      <td>2020-04-26 18:12:03</td>\n",
       "      <td>Eckhart Park</td>\n",
       "      <td>86</td>\n",
       "      <td>Lincoln Ave &amp; Diversey Pkwy</td>\n",
       "      <td>152.0</td>\n",
       "      <td>41.8964</td>\n",
       "      <td>-87.6610</td>\n",
       "      <td>41.9322</td>\n",
       "      <td>-87.6586</td>\n",
       "      <td>member</td>\n",
       "      <td>0 days 00:26:49</td>\n",
       "      <td>7</td>\n",
       "    </tr>\n",
       "    <tr>\n",
       "      <th>1</th>\n",
       "      <td>5405B80E996FF60D</td>\n",
       "      <td>docked_bike</td>\n",
       "      <td>2020-04-17 17:08:54</td>\n",
       "      <td>2020-04-17 17:17:03</td>\n",
       "      <td>Drake Ave &amp; Fullerton Ave</td>\n",
       "      <td>503</td>\n",
       "      <td>Kosciuszko Park</td>\n",
       "      <td>499.0</td>\n",
       "      <td>41.9244</td>\n",
       "      <td>-87.7154</td>\n",
       "      <td>41.9306</td>\n",
       "      <td>-87.7238</td>\n",
       "      <td>member</td>\n",
       "      <td>0 days 00:08:09</td>\n",
       "      <td>5</td>\n",
       "    </tr>\n",
       "  </tbody>\n",
       "</table>\n",
       "</div>"
      ],
      "text/plain": [
       "            ride_id rideable_type          started_at            ended_at  \\\n",
       "0  A847FADBBC638E45   docked_bike 2020-04-26 17:45:14 2020-04-26 18:12:03   \n",
       "1  5405B80E996FF60D   docked_bike 2020-04-17 17:08:54 2020-04-17 17:17:03   \n",
       "\n",
       "          start_station_name  start_station_id             end_station_name  \\\n",
       "0               Eckhart Park                86  Lincoln Ave & Diversey Pkwy   \n",
       "1  Drake Ave & Fullerton Ave               503              Kosciuszko Park   \n",
       "\n",
       "   end_station_id  start_lat  start_lng  end_lat  end_lng member_casual  \\\n",
       "0           152.0    41.8964   -87.6610  41.9322 -87.6586        member   \n",
       "1           499.0    41.9244   -87.7154  41.9306 -87.7238        member   \n",
       "\n",
       "      ride_length  day_of_week  \n",
       "0 0 days 00:26:49            7  \n",
       "1 0 days 00:08:09            5  "
      ]
     },
     "execution_count": 38,
     "metadata": {},
     "output_type": "execute_result"
    }
   ],
   "source": [
    "tripdata1.head(2)"
   ]
  },
  {
   "cell_type": "code",
   "execution_count": 39,
   "id": "surprising-short",
   "metadata": {},
   "outputs": [
    {
     "data": {
      "text/html": [
       "<div>\n",
       "<style scoped>\n",
       "    .dataframe tbody tr th:only-of-type {\n",
       "        vertical-align: middle;\n",
       "    }\n",
       "\n",
       "    .dataframe tbody tr th {\n",
       "        vertical-align: top;\n",
       "    }\n",
       "\n",
       "    .dataframe thead th {\n",
       "        text-align: right;\n",
       "    }\n",
       "</style>\n",
       "<table border=\"1\" class=\"dataframe\">\n",
       "  <thead>\n",
       "    <tr style=\"text-align: right;\">\n",
       "      <th></th>\n",
       "      <th>ride_id</th>\n",
       "      <th>rideable_type</th>\n",
       "      <th>started_at</th>\n",
       "      <th>ended_at</th>\n",
       "      <th>start_station_name</th>\n",
       "      <th>start_station_id</th>\n",
       "      <th>end_station_name</th>\n",
       "      <th>end_station_id</th>\n",
       "      <th>start_lat</th>\n",
       "      <th>start_lng</th>\n",
       "      <th>end_lat</th>\n",
       "      <th>end_lng</th>\n",
       "      <th>member_casual</th>\n",
       "      <th>ride_length</th>\n",
       "      <th>day_of_week</th>\n",
       "    </tr>\n",
       "  </thead>\n",
       "  <tbody>\n",
       "    <tr>\n",
       "      <th>17516</th>\n",
       "      <td>FF4F7C2895AF4127</td>\n",
       "      <td>docked_bike</td>\n",
       "      <td>2020-04-19 20:50:53</td>\n",
       "      <td>2020-05-30 15:30:55</td>\n",
       "      <td>Wabash Ave &amp; Wacker Pl</td>\n",
       "      <td>194</td>\n",
       "      <td>HUBBARD ST BIKE CHECKING (LBS-WH-TEST)</td>\n",
       "      <td>671.0</td>\n",
       "      <td>41.8869</td>\n",
       "      <td>-87.626</td>\n",
       "      <td>41.89</td>\n",
       "      <td>-87.6807</td>\n",
       "      <td>member</td>\n",
       "      <td>40 days 18:40:02</td>\n",
       "      <td>7</td>\n",
       "    </tr>\n",
       "  </tbody>\n",
       "</table>\n",
       "</div>"
      ],
      "text/plain": [
       "                ride_id rideable_type          started_at            ended_at  \\\n",
       "17516  FF4F7C2895AF4127   docked_bike 2020-04-19 20:50:53 2020-05-30 15:30:55   \n",
       "\n",
       "           start_station_name  start_station_id  \\\n",
       "17516  Wabash Ave & Wacker Pl               194   \n",
       "\n",
       "                             end_station_name  end_station_id  start_lat  \\\n",
       "17516  HUBBARD ST BIKE CHECKING (LBS-WH-TEST)           671.0    41.8869   \n",
       "\n",
       "       start_lng  end_lat  end_lng member_casual      ride_length  day_of_week  \n",
       "17516    -87.626    41.89 -87.6807        member 40 days 18:40:02            7  "
      ]
     },
     "execution_count": 39,
     "metadata": {},
     "output_type": "execute_result"
    }
   ],
   "source": [
    "tripdata1[tripdata1['ride_length']> '40 days 00:00:00']"
   ]
  },
  {
   "cell_type": "markdown",
   "id": "thirty-inspector",
   "metadata": {},
   "source": [
    "let's create another column by name time_diff and represent it in minutes."
   ]
  },
  {
   "cell_type": "code",
   "execution_count": 40,
   "id": "equal-emission",
   "metadata": {},
   "outputs": [],
   "source": [
    "import numpy as np\n",
    "tripdata1[\"time_diff\"] = tripdata1[\"ride_length\"]/np.timedelta64(1,'m') #Convert to minutes\n",
    "tripdata2[\"time_diff\"] = tripdata2[\"ride_length\"]/np.timedelta64(1,'m') #Convert to minutes"
   ]
  },
  {
   "cell_type": "code",
   "execution_count": 41,
   "id": "eleven-greenhouse",
   "metadata": {},
   "outputs": [
    {
     "data": {
      "text/plain": [
       "0    26.816667\n",
       "1     8.150000\n",
       "2    14.383333\n",
       "Name: time_diff, dtype: float64"
      ]
     },
     "execution_count": 41,
     "metadata": {},
     "output_type": "execute_result"
    }
   ],
   "source": [
    "tripdata1['time_diff'].head(3)"
   ]
  },
  {
   "cell_type": "code",
   "execution_count": 42,
   "id": "tutorial-friend",
   "metadata": {},
   "outputs": [
    {
     "data": {
      "text/plain": [
       "0    10.616667\n",
       "1     7.833333\n",
       "2     1.800000\n",
       "Name: time_diff, dtype: float64"
      ]
     },
     "execution_count": 42,
     "metadata": {},
     "output_type": "execute_result"
    }
   ],
   "source": [
    "tripdata2['time_diff'].head(3)"
   ]
  },
  {
   "cell_type": "markdown",
   "id": "supposed-fruit",
   "metadata": {},
   "source": [
    "Next, we add columns to list the date, month, day, and year of each ride for additional aggregation capabilities."
   ]
  },
  {
   "cell_type": "markdown",
   "id": "olympic-detail",
   "metadata": {},
   "source": [
    "first we will add `year`"
   ]
  },
  {
   "cell_type": "code",
   "execution_count": 43,
   "id": "russian-image",
   "metadata": {},
   "outputs": [
    {
     "data": {
      "text/plain": [
       "array([2020], dtype=int64)"
      ]
     },
     "execution_count": 43,
     "metadata": {},
     "output_type": "execute_result"
    }
   ],
   "source": [
    "# get a year from corresponding\n",
    "# started_at column value\n",
    "tripdata1['year'] = pd.DatetimeIndex(tripdata1['started_at']).year\n",
    "tripdata1['year'].unique()"
   ]
  },
  {
   "cell_type": "markdown",
   "id": "dedicated-career",
   "metadata": {},
   "source": [
    "Let's use another method to do this for the second data type."
   ]
  },
  {
   "cell_type": "code",
   "execution_count": 44,
   "id": "worldwide-politics",
   "metadata": {},
   "outputs": [],
   "source": [
    "tripdata2['year'] = tripdata2['started_at'].dt.year"
   ]
  },
  {
   "cell_type": "code",
   "execution_count": 45,
   "id": "international-mason",
   "metadata": {},
   "outputs": [
    {
     "data": {
      "text/plain": [
       "array([2020, 2021], dtype=int64)"
      ]
     },
     "execution_count": 45,
     "metadata": {},
     "output_type": "execute_result"
    }
   ],
   "source": [
    "tripdata2['year'].unique()"
   ]
  },
  {
   "cell_type": "markdown",
   "id": "bigger-emerald",
   "metadata": {},
   "source": [
    "Now let's add `month`."
   ]
  },
  {
   "cell_type": "code",
   "execution_count": 46,
   "id": "lesbian-kelly",
   "metadata": {},
   "outputs": [
    {
     "data": {
      "text/plain": [
       "array([ 4,  5,  6,  7,  8,  9, 10, 11], dtype=int64)"
      ]
     },
     "execution_count": 46,
     "metadata": {},
     "output_type": "execute_result"
    }
   ],
   "source": [
    "# get a Month from corresponding\n",
    "# started_at column value\n",
    "tripdata1['Month'] = pd.DatetimeIndex(tripdata1['started_at']).month\n",
    "tripdata1['Month'].unique()"
   ]
  },
  {
   "cell_type": "markdown",
   "id": "still-anaheim",
   "metadata": {},
   "source": [
    "from the output we can see that the dataset is of 8 months. \n",
    "\n",
    "Now let's do for the second datasets."
   ]
  },
  {
   "cell_type": "code",
   "execution_count": 47,
   "id": "promotional-kennedy",
   "metadata": {},
   "outputs": [
    {
     "data": {
      "text/plain": [
       "array([12,  1,  2,  3], dtype=int64)"
      ]
     },
     "execution_count": 47,
     "metadata": {},
     "output_type": "execute_result"
    }
   ],
   "source": [
    "# get a Month from corresponding\n",
    "# started_at column value\n",
    "tripdata2['Month'] = tripdata2['started_at'].dt.month\n",
    "tripdata2['Month'].unique()"
   ]
  },
  {
   "cell_type": "markdown",
   "id": "aquatic-influence",
   "metadata": {},
   "source": [
    "from the ouput we can see this is the second datasets of 4 month data. "
   ]
  },
  {
   "cell_type": "markdown",
   "id": "ultimate-profile",
   "metadata": {},
   "source": [
    "Now let's add `days of month`. "
   ]
  },
  {
   "cell_type": "code",
   "execution_count": 48,
   "id": "alpine-ocean",
   "metadata": {},
   "outputs": [
    {
     "data": {
      "text/plain": [
       "array([26, 17,  1,  7, 18, 30,  2, 15,  4, 25, 24, 11, 20, 19,  5, 10,  6,\n",
       "       12,  8, 23, 28, 13, 21, 27, 16,  3,  9, 22, 29, 14, 31],\n",
       "      dtype=int64)"
      ]
     },
     "execution_count": 48,
     "metadata": {},
     "output_type": "execute_result"
    }
   ],
   "source": [
    "# get a day from corresponding\n",
    "# started_at column value\n",
    "tripdata1['day'] = pd.DatetimeIndex(tripdata1['started_at']).day\n",
    "tripdata1['day'].unique()"
   ]
  },
  {
   "cell_type": "markdown",
   "id": "spanish-window",
   "metadata": {},
   "source": [
    "Now let's do for the second datasets using another method. "
   ]
  },
  {
   "cell_type": "code",
   "execution_count": 49,
   "id": "tender-sucking",
   "metadata": {},
   "outputs": [
    {
     "data": {
      "text/plain": [
       "array([27, 18, 28, 10, 20,  3,  2,  4, 19, 12, 25, 24,  9, 17,  5, 14,  6,\n",
       "        7, 26, 31, 11,  1,  8, 13, 23, 21, 22, 16, 15, 30, 29],\n",
       "      dtype=int64)"
      ]
     },
     "execution_count": 49,
     "metadata": {},
     "output_type": "execute_result"
    }
   ],
   "source": [
    "# get a day from corresponding\n",
    "# started_at column value\n",
    "tripdata2['day'] = tripdata2['started_at'].dt.day\n",
    "tripdata2['day'].unique()"
   ]
  },
  {
   "cell_type": "markdown",
   "id": "residential-apparatus",
   "metadata": {},
   "source": [
    "Now we add extra columns for additional aggregation capabilities. let's check the dataset."
   ]
  },
  {
   "cell_type": "code",
   "execution_count": 50,
   "id": "proper-consciousness",
   "metadata": {},
   "outputs": [
    {
     "data": {
      "text/html": [
       "<div>\n",
       "<style scoped>\n",
       "    .dataframe tbody tr th:only-of-type {\n",
       "        vertical-align: middle;\n",
       "    }\n",
       "\n",
       "    .dataframe tbody tr th {\n",
       "        vertical-align: top;\n",
       "    }\n",
       "\n",
       "    .dataframe thead th {\n",
       "        text-align: right;\n",
       "    }\n",
       "</style>\n",
       "<table border=\"1\" class=\"dataframe\">\n",
       "  <thead>\n",
       "    <tr style=\"text-align: right;\">\n",
       "      <th></th>\n",
       "      <th>ride_id</th>\n",
       "      <th>rideable_type</th>\n",
       "      <th>started_at</th>\n",
       "      <th>ended_at</th>\n",
       "      <th>start_station_name</th>\n",
       "      <th>start_station_id</th>\n",
       "      <th>end_station_name</th>\n",
       "      <th>end_station_id</th>\n",
       "      <th>start_lat</th>\n",
       "      <th>start_lng</th>\n",
       "      <th>end_lat</th>\n",
       "      <th>end_lng</th>\n",
       "      <th>member_casual</th>\n",
       "      <th>ride_length</th>\n",
       "      <th>day_of_week</th>\n",
       "      <th>time_diff</th>\n",
       "      <th>year</th>\n",
       "      <th>Month</th>\n",
       "      <th>day</th>\n",
       "    </tr>\n",
       "  </thead>\n",
       "  <tbody>\n",
       "    <tr>\n",
       "      <th>0</th>\n",
       "      <td>A847FADBBC638E45</td>\n",
       "      <td>docked_bike</td>\n",
       "      <td>2020-04-26 17:45:14</td>\n",
       "      <td>2020-04-26 18:12:03</td>\n",
       "      <td>Eckhart Park</td>\n",
       "      <td>86</td>\n",
       "      <td>Lincoln Ave &amp; Diversey Pkwy</td>\n",
       "      <td>152.0</td>\n",
       "      <td>41.8964</td>\n",
       "      <td>-87.6610</td>\n",
       "      <td>41.9322</td>\n",
       "      <td>-87.6586</td>\n",
       "      <td>member</td>\n",
       "      <td>0 days 00:26:49</td>\n",
       "      <td>7</td>\n",
       "      <td>26.816667</td>\n",
       "      <td>2020</td>\n",
       "      <td>4</td>\n",
       "      <td>26</td>\n",
       "    </tr>\n",
       "    <tr>\n",
       "      <th>1</th>\n",
       "      <td>5405B80E996FF60D</td>\n",
       "      <td>docked_bike</td>\n",
       "      <td>2020-04-17 17:08:54</td>\n",
       "      <td>2020-04-17 17:17:03</td>\n",
       "      <td>Drake Ave &amp; Fullerton Ave</td>\n",
       "      <td>503</td>\n",
       "      <td>Kosciuszko Park</td>\n",
       "      <td>499.0</td>\n",
       "      <td>41.9244</td>\n",
       "      <td>-87.7154</td>\n",
       "      <td>41.9306</td>\n",
       "      <td>-87.7238</td>\n",
       "      <td>member</td>\n",
       "      <td>0 days 00:08:09</td>\n",
       "      <td>5</td>\n",
       "      <td>8.150000</td>\n",
       "      <td>2020</td>\n",
       "      <td>4</td>\n",
       "      <td>17</td>\n",
       "    </tr>\n",
       "    <tr>\n",
       "      <th>2</th>\n",
       "      <td>5DD24A79A4E006F4</td>\n",
       "      <td>docked_bike</td>\n",
       "      <td>2020-04-01 17:54:13</td>\n",
       "      <td>2020-04-01 18:08:36</td>\n",
       "      <td>McClurg Ct &amp; Erie St</td>\n",
       "      <td>142</td>\n",
       "      <td>Indiana Ave &amp; Roosevelt Rd</td>\n",
       "      <td>255.0</td>\n",
       "      <td>41.8945</td>\n",
       "      <td>-87.6179</td>\n",
       "      <td>41.8679</td>\n",
       "      <td>-87.6230</td>\n",
       "      <td>member</td>\n",
       "      <td>0 days 00:14:23</td>\n",
       "      <td>3</td>\n",
       "      <td>14.383333</td>\n",
       "      <td>2020</td>\n",
       "      <td>4</td>\n",
       "      <td>1</td>\n",
       "    </tr>\n",
       "    <tr>\n",
       "      <th>3</th>\n",
       "      <td>2A59BBDF5CDBA725</td>\n",
       "      <td>docked_bike</td>\n",
       "      <td>2020-04-07 12:50:19</td>\n",
       "      <td>2020-04-07 13:02:31</td>\n",
       "      <td>California Ave &amp; Division St</td>\n",
       "      <td>216</td>\n",
       "      <td>Wood St &amp; Augusta Blvd</td>\n",
       "      <td>657.0</td>\n",
       "      <td>41.9030</td>\n",
       "      <td>-87.6975</td>\n",
       "      <td>41.8992</td>\n",
       "      <td>-87.6722</td>\n",
       "      <td>member</td>\n",
       "      <td>0 days 00:12:12</td>\n",
       "      <td>2</td>\n",
       "      <td>12.200000</td>\n",
       "      <td>2020</td>\n",
       "      <td>4</td>\n",
       "      <td>7</td>\n",
       "    </tr>\n",
       "    <tr>\n",
       "      <th>4</th>\n",
       "      <td>27AD306C119C6158</td>\n",
       "      <td>docked_bike</td>\n",
       "      <td>2020-04-18 10:22:59</td>\n",
       "      <td>2020-04-18 11:15:54</td>\n",
       "      <td>Rush St &amp; Hubbard St</td>\n",
       "      <td>125</td>\n",
       "      <td>Sheridan Rd &amp; Lawrence Ave</td>\n",
       "      <td>323.0</td>\n",
       "      <td>41.8902</td>\n",
       "      <td>-87.6262</td>\n",
       "      <td>41.9695</td>\n",
       "      <td>-87.6547</td>\n",
       "      <td>casual</td>\n",
       "      <td>0 days 00:52:55</td>\n",
       "      <td>6</td>\n",
       "      <td>52.916667</td>\n",
       "      <td>2020</td>\n",
       "      <td>4</td>\n",
       "      <td>18</td>\n",
       "    </tr>\n",
       "  </tbody>\n",
       "</table>\n",
       "</div>"
      ],
      "text/plain": [
       "            ride_id rideable_type          started_at            ended_at  \\\n",
       "0  A847FADBBC638E45   docked_bike 2020-04-26 17:45:14 2020-04-26 18:12:03   \n",
       "1  5405B80E996FF60D   docked_bike 2020-04-17 17:08:54 2020-04-17 17:17:03   \n",
       "2  5DD24A79A4E006F4   docked_bike 2020-04-01 17:54:13 2020-04-01 18:08:36   \n",
       "3  2A59BBDF5CDBA725   docked_bike 2020-04-07 12:50:19 2020-04-07 13:02:31   \n",
       "4  27AD306C119C6158   docked_bike 2020-04-18 10:22:59 2020-04-18 11:15:54   \n",
       "\n",
       "             start_station_name  start_station_id  \\\n",
       "0                  Eckhart Park                86   \n",
       "1     Drake Ave & Fullerton Ave               503   \n",
       "2          McClurg Ct & Erie St               142   \n",
       "3  California Ave & Division St               216   \n",
       "4          Rush St & Hubbard St               125   \n",
       "\n",
       "              end_station_name  end_station_id  start_lat  start_lng  end_lat  \\\n",
       "0  Lincoln Ave & Diversey Pkwy           152.0    41.8964   -87.6610  41.9322   \n",
       "1              Kosciuszko Park           499.0    41.9244   -87.7154  41.9306   \n",
       "2   Indiana Ave & Roosevelt Rd           255.0    41.8945   -87.6179  41.8679   \n",
       "3       Wood St & Augusta Blvd           657.0    41.9030   -87.6975  41.8992   \n",
       "4   Sheridan Rd & Lawrence Ave           323.0    41.8902   -87.6262  41.9695   \n",
       "\n",
       "   end_lng member_casual     ride_length  day_of_week  time_diff  year  Month  \\\n",
       "0 -87.6586        member 0 days 00:26:49            7  26.816667  2020      4   \n",
       "1 -87.7238        member 0 days 00:08:09            5   8.150000  2020      4   \n",
       "2 -87.6230        member 0 days 00:14:23            3  14.383333  2020      4   \n",
       "3 -87.6722        member 0 days 00:12:12            2  12.200000  2020      4   \n",
       "4 -87.6547        casual 0 days 00:52:55            6  52.916667  2020      4   \n",
       "\n",
       "   day  \n",
       "0   26  \n",
       "1   17  \n",
       "2    1  \n",
       "3    7  \n",
       "4   18  "
      ]
     },
     "execution_count": 50,
     "metadata": {},
     "output_type": "execute_result"
    }
   ],
   "source": [
    "tripdata1.head()"
   ]
  },
  {
   "cell_type": "markdown",
   "id": "later-james",
   "metadata": {},
   "source": [
    "Now We also remove any unnecessary columns (latitude/longitude fields). "
   ]
  },
  {
   "cell_type": "code",
   "execution_count": 51,
   "id": "contrary-owner",
   "metadata": {},
   "outputs": [],
   "source": [
    "tripdata1.drop(columns=['start_lat','end_lat','start_lng','end_lng'],inplace=True)"
   ]
  },
  {
   "cell_type": "code",
   "execution_count": 52,
   "id": "apparent-router",
   "metadata": {},
   "outputs": [],
   "source": [
    "tripdata2.drop(columns=[ 'start_lat','end_lat','start_lng','end_lng'],inplace=True)"
   ]
  },
  {
   "cell_type": "code",
   "execution_count": 53,
   "id": "female-object",
   "metadata": {},
   "outputs": [
    {
     "data": {
      "text/html": [
       "<div>\n",
       "<style scoped>\n",
       "    .dataframe tbody tr th:only-of-type {\n",
       "        vertical-align: middle;\n",
       "    }\n",
       "\n",
       "    .dataframe tbody tr th {\n",
       "        vertical-align: top;\n",
       "    }\n",
       "\n",
       "    .dataframe thead th {\n",
       "        text-align: right;\n",
       "    }\n",
       "</style>\n",
       "<table border=\"1\" class=\"dataframe\">\n",
       "  <thead>\n",
       "    <tr style=\"text-align: right;\">\n",
       "      <th></th>\n",
       "      <th>ride_id</th>\n",
       "      <th>rideable_type</th>\n",
       "      <th>started_at</th>\n",
       "      <th>ended_at</th>\n",
       "      <th>start_station_name</th>\n",
       "      <th>start_station_id</th>\n",
       "      <th>end_station_name</th>\n",
       "      <th>end_station_id</th>\n",
       "      <th>member_casual</th>\n",
       "      <th>ride_length</th>\n",
       "      <th>day_of_week</th>\n",
       "      <th>time_diff</th>\n",
       "      <th>year</th>\n",
       "      <th>Month</th>\n",
       "      <th>day</th>\n",
       "    </tr>\n",
       "  </thead>\n",
       "  <tbody>\n",
       "    <tr>\n",
       "      <th>0</th>\n",
       "      <td>A847FADBBC638E45</td>\n",
       "      <td>docked_bike</td>\n",
       "      <td>2020-04-26 17:45:14</td>\n",
       "      <td>2020-04-26 18:12:03</td>\n",
       "      <td>Eckhart Park</td>\n",
       "      <td>86</td>\n",
       "      <td>Lincoln Ave &amp; Diversey Pkwy</td>\n",
       "      <td>152.0</td>\n",
       "      <td>member</td>\n",
       "      <td>0 days 00:26:49</td>\n",
       "      <td>7</td>\n",
       "      <td>26.816667</td>\n",
       "      <td>2020</td>\n",
       "      <td>4</td>\n",
       "      <td>26</td>\n",
       "    </tr>\n",
       "    <tr>\n",
       "      <th>1</th>\n",
       "      <td>5405B80E996FF60D</td>\n",
       "      <td>docked_bike</td>\n",
       "      <td>2020-04-17 17:08:54</td>\n",
       "      <td>2020-04-17 17:17:03</td>\n",
       "      <td>Drake Ave &amp; Fullerton Ave</td>\n",
       "      <td>503</td>\n",
       "      <td>Kosciuszko Park</td>\n",
       "      <td>499.0</td>\n",
       "      <td>member</td>\n",
       "      <td>0 days 00:08:09</td>\n",
       "      <td>5</td>\n",
       "      <td>8.150000</td>\n",
       "      <td>2020</td>\n",
       "      <td>4</td>\n",
       "      <td>17</td>\n",
       "    </tr>\n",
       "  </tbody>\n",
       "</table>\n",
       "</div>"
      ],
      "text/plain": [
       "            ride_id rideable_type          started_at            ended_at  \\\n",
       "0  A847FADBBC638E45   docked_bike 2020-04-26 17:45:14 2020-04-26 18:12:03   \n",
       "1  5405B80E996FF60D   docked_bike 2020-04-17 17:08:54 2020-04-17 17:17:03   \n",
       "\n",
       "          start_station_name  start_station_id             end_station_name  \\\n",
       "0               Eckhart Park                86  Lincoln Ave & Diversey Pkwy   \n",
       "1  Drake Ave & Fullerton Ave               503              Kosciuszko Park   \n",
       "\n",
       "   end_station_id member_casual     ride_length  day_of_week  time_diff  year  \\\n",
       "0           152.0        member 0 days 00:26:49            7  26.816667  2020   \n",
       "1           499.0        member 0 days 00:08:09            5   8.150000  2020   \n",
       "\n",
       "   Month  day  \n",
       "0      4   26  \n",
       "1      4   17  "
      ]
     },
     "execution_count": 53,
     "metadata": {},
     "output_type": "execute_result"
    }
   ],
   "source": [
    "tripdata1.head(2)"
   ]
  },
  {
   "cell_type": "markdown",
   "id": "early-clark",
   "metadata": {},
   "source": [
    "The `time_diff` column is not meaningfull let's rename it to `ride_time`. "
   ]
  },
  {
   "cell_type": "code",
   "execution_count": 54,
   "id": "offensive-guyana",
   "metadata": {},
   "outputs": [],
   "source": [
    "tripdata1.rename(columns={'time_diff': 'ride_time'}, inplace=True)"
   ]
  },
  {
   "cell_type": "code",
   "execution_count": 55,
   "id": "sealed-supervisor",
   "metadata": {},
   "outputs": [],
   "source": [
    "tripdata2.rename(columns={'time_diff': 'ride_time'}, inplace=True)"
   ]
  },
  {
   "cell_type": "code",
   "execution_count": 56,
   "id": "critical-prize",
   "metadata": {},
   "outputs": [
    {
     "data": {
      "text/html": [
       "<div>\n",
       "<style scoped>\n",
       "    .dataframe tbody tr th:only-of-type {\n",
       "        vertical-align: middle;\n",
       "    }\n",
       "\n",
       "    .dataframe tbody tr th {\n",
       "        vertical-align: top;\n",
       "    }\n",
       "\n",
       "    .dataframe thead th {\n",
       "        text-align: right;\n",
       "    }\n",
       "</style>\n",
       "<table border=\"1\" class=\"dataframe\">\n",
       "  <thead>\n",
       "    <tr style=\"text-align: right;\">\n",
       "      <th></th>\n",
       "      <th>ride_id</th>\n",
       "      <th>rideable_type</th>\n",
       "      <th>started_at</th>\n",
       "      <th>ended_at</th>\n",
       "      <th>start_station_name</th>\n",
       "      <th>start_station_id</th>\n",
       "      <th>end_station_name</th>\n",
       "      <th>end_station_id</th>\n",
       "      <th>member_casual</th>\n",
       "      <th>ride_length</th>\n",
       "      <th>day_of_week</th>\n",
       "      <th>ride_time</th>\n",
       "      <th>year</th>\n",
       "      <th>Month</th>\n",
       "      <th>day</th>\n",
       "    </tr>\n",
       "  </thead>\n",
       "  <tbody>\n",
       "    <tr>\n",
       "      <th>0</th>\n",
       "      <td>A847FADBBC638E45</td>\n",
       "      <td>docked_bike</td>\n",
       "      <td>2020-04-26 17:45:14</td>\n",
       "      <td>2020-04-26 18:12:03</td>\n",
       "      <td>Eckhart Park</td>\n",
       "      <td>86</td>\n",
       "      <td>Lincoln Ave &amp; Diversey Pkwy</td>\n",
       "      <td>152.0</td>\n",
       "      <td>member</td>\n",
       "      <td>0 days 00:26:49</td>\n",
       "      <td>7</td>\n",
       "      <td>26.816667</td>\n",
       "      <td>2020</td>\n",
       "      <td>4</td>\n",
       "      <td>26</td>\n",
       "    </tr>\n",
       "    <tr>\n",
       "      <th>1</th>\n",
       "      <td>5405B80E996FF60D</td>\n",
       "      <td>docked_bike</td>\n",
       "      <td>2020-04-17 17:08:54</td>\n",
       "      <td>2020-04-17 17:17:03</td>\n",
       "      <td>Drake Ave &amp; Fullerton Ave</td>\n",
       "      <td>503</td>\n",
       "      <td>Kosciuszko Park</td>\n",
       "      <td>499.0</td>\n",
       "      <td>member</td>\n",
       "      <td>0 days 00:08:09</td>\n",
       "      <td>5</td>\n",
       "      <td>8.150000</td>\n",
       "      <td>2020</td>\n",
       "      <td>4</td>\n",
       "      <td>17</td>\n",
       "    </tr>\n",
       "  </tbody>\n",
       "</table>\n",
       "</div>"
      ],
      "text/plain": [
       "            ride_id rideable_type          started_at            ended_at  \\\n",
       "0  A847FADBBC638E45   docked_bike 2020-04-26 17:45:14 2020-04-26 18:12:03   \n",
       "1  5405B80E996FF60D   docked_bike 2020-04-17 17:08:54 2020-04-17 17:17:03   \n",
       "\n",
       "          start_station_name  start_station_id             end_station_name  \\\n",
       "0               Eckhart Park                86  Lincoln Ave & Diversey Pkwy   \n",
       "1  Drake Ave & Fullerton Ave               503              Kosciuszko Park   \n",
       "\n",
       "   end_station_id member_casual     ride_length  day_of_week  ride_time  year  \\\n",
       "0           152.0        member 0 days 00:26:49            7  26.816667  2020   \n",
       "1           499.0        member 0 days 00:08:09            5   8.150000  2020   \n",
       "\n",
       "   Month  day  \n",
       "0      4   26  \n",
       "1      4   17  "
      ]
     },
     "execution_count": 56,
     "metadata": {},
     "output_type": "execute_result"
    }
   ],
   "source": [
    "tripdata1.head(2)"
   ]
  },
  {
   "cell_type": "markdown",
   "id": "protecting-principal",
   "metadata": {},
   "source": [
    "Now it looks nice"
   ]
  },
  {
   "cell_type": "markdown",
   "id": "certified-garbage",
   "metadata": {},
   "source": [
    "Let's next remove the NA rows"
   ]
  },
  {
   "cell_type": "markdown",
   "id": "illegal-rough",
   "metadata": {},
   "source": [
    "Let's check for null values. "
   ]
  },
  {
   "cell_type": "code",
   "execution_count": 57,
   "id": "approved-electricity",
   "metadata": {},
   "outputs": [
    {
     "data": {
      "text/plain": [
       "True"
      ]
     },
     "execution_count": 57,
     "metadata": {},
     "output_type": "execute_result"
    }
   ],
   "source": [
    "tripdata1.isnull().values.any()"
   ]
  },
  {
   "cell_type": "code",
   "execution_count": 58,
   "id": "cultural-falls",
   "metadata": {},
   "outputs": [
    {
     "data": {
      "text/plain": [
       "False"
      ]
     },
     "execution_count": 58,
     "metadata": {},
     "output_type": "execute_result"
    }
   ],
   "source": [
    "tripdata2.isnull().values.any()"
   ]
  },
  {
   "cell_type": "markdown",
   "id": "further-legislation",
   "metadata": {},
   "source": [
    "So we don't have any null vlaues because we remove at the begining that why we don't have any null values"
   ]
  },
  {
   "cell_type": "code",
   "execution_count": 59,
   "id": "swedish-satin",
   "metadata": {},
   "outputs": [
    {
     "data": {
      "text/html": [
       "<div>\n",
       "<style scoped>\n",
       "    .dataframe tbody tr th:only-of-type {\n",
       "        vertical-align: middle;\n",
       "    }\n",
       "\n",
       "    .dataframe tbody tr th {\n",
       "        vertical-align: top;\n",
       "    }\n",
       "\n",
       "    .dataframe thead th {\n",
       "        text-align: right;\n",
       "    }\n",
       "</style>\n",
       "<table border=\"1\" class=\"dataframe\">\n",
       "  <thead>\n",
       "    <tr style=\"text-align: right;\">\n",
       "      <th></th>\n",
       "      <th>ride_id</th>\n",
       "      <th>rideable_type</th>\n",
       "      <th>started_at</th>\n",
       "      <th>ended_at</th>\n",
       "      <th>start_station_name</th>\n",
       "      <th>start_station_id</th>\n",
       "      <th>end_station_name</th>\n",
       "      <th>end_station_id</th>\n",
       "      <th>member_casual</th>\n",
       "      <th>ride_length</th>\n",
       "      <th>day_of_week</th>\n",
       "      <th>ride_time</th>\n",
       "      <th>year</th>\n",
       "      <th>Month</th>\n",
       "      <th>day</th>\n",
       "    </tr>\n",
       "  </thead>\n",
       "  <tbody>\n",
       "    <tr>\n",
       "      <th>2422</th>\n",
       "      <td>7C1E92200AEFF70E</td>\n",
       "      <td>docked_bike</td>\n",
       "      <td>2020-04-27 17:20:30</td>\n",
       "      <td>2020-04-27 17:20:18</td>\n",
       "      <td>St. Clair St &amp; Erie St</td>\n",
       "      <td>211</td>\n",
       "      <td>Clinton St &amp; Washington Blvd</td>\n",
       "      <td>91.0</td>\n",
       "      <td>member</td>\n",
       "      <td>-1 days +23:59:48</td>\n",
       "      <td>1</td>\n",
       "      <td>-0.200000</td>\n",
       "      <td>2020</td>\n",
       "      <td>4</td>\n",
       "      <td>27</td>\n",
       "    </tr>\n",
       "    <tr>\n",
       "      <th>2504</th>\n",
       "      <td>671BB1F73F4CD303</td>\n",
       "      <td>docked_bike</td>\n",
       "      <td>2020-04-20 16:51:18</td>\n",
       "      <td>2020-04-20 16:51:05</td>\n",
       "      <td>Lake Shore Dr &amp; Belmont Ave</td>\n",
       "      <td>334</td>\n",
       "      <td>Buckingham Fountain</td>\n",
       "      <td>2.0</td>\n",
       "      <td>casual</td>\n",
       "      <td>-1 days +23:59:47</td>\n",
       "      <td>1</td>\n",
       "      <td>-0.216667</td>\n",
       "      <td>2020</td>\n",
       "      <td>4</td>\n",
       "      <td>20</td>\n",
       "    </tr>\n",
       "    <tr>\n",
       "      <th>3136</th>\n",
       "      <td>502B972C6B1FCAE6</td>\n",
       "      <td>docked_bike</td>\n",
       "      <td>2020-04-12 19:09:54</td>\n",
       "      <td>2020-04-12 19:09:40</td>\n",
       "      <td>Clark St &amp; Schiller St</td>\n",
       "      <td>301</td>\n",
       "      <td>Wells St &amp; Concord Ln</td>\n",
       "      <td>289.0</td>\n",
       "      <td>member</td>\n",
       "      <td>-1 days +23:59:46</td>\n",
       "      <td>7</td>\n",
       "      <td>-0.233333</td>\n",
       "      <td>2020</td>\n",
       "      <td>4</td>\n",
       "      <td>12</td>\n",
       "    </tr>\n",
       "    <tr>\n",
       "      <th>3542</th>\n",
       "      <td>68E70FDF06F0A439</td>\n",
       "      <td>docked_bike</td>\n",
       "      <td>2020-04-29 17:37:11</td>\n",
       "      <td>2020-04-29 17:37:07</td>\n",
       "      <td>Dearborn St &amp; Adams St</td>\n",
       "      <td>37</td>\n",
       "      <td>California Ave &amp; 23rd Pl</td>\n",
       "      <td>442.0</td>\n",
       "      <td>member</td>\n",
       "      <td>-1 days +23:59:56</td>\n",
       "      <td>3</td>\n",
       "      <td>-0.066667</td>\n",
       "      <td>2020</td>\n",
       "      <td>4</td>\n",
       "      <td>29</td>\n",
       "    </tr>\n",
       "    <tr>\n",
       "      <th>8212</th>\n",
       "      <td>6EB323BCC83A9D1D</td>\n",
       "      <td>docked_bike</td>\n",
       "      <td>2020-04-05 15:46:12</td>\n",
       "      <td>2020-04-05 15:46:11</td>\n",
       "      <td>Francisco Ave &amp; Foster Ave</td>\n",
       "      <td>471</td>\n",
       "      <td>Damen Ave &amp; Clybourn Ave</td>\n",
       "      <td>163.0</td>\n",
       "      <td>member</td>\n",
       "      <td>-1 days +23:59:59</td>\n",
       "      <td>7</td>\n",
       "      <td>-0.016667</td>\n",
       "      <td>2020</td>\n",
       "      <td>4</td>\n",
       "      <td>5</td>\n",
       "    </tr>\n",
       "    <tr>\n",
       "      <th>...</th>\n",
       "      <td>...</td>\n",
       "      <td>...</td>\n",
       "      <td>...</td>\n",
       "      <td>...</td>\n",
       "      <td>...</td>\n",
       "      <td>...</td>\n",
       "      <td>...</td>\n",
       "      <td>...</td>\n",
       "      <td>...</td>\n",
       "      <td>...</td>\n",
       "      <td>...</td>\n",
       "      <td>...</td>\n",
       "      <td>...</td>\n",
       "      <td>...</td>\n",
       "      <td>...</td>\n",
       "    </tr>\n",
       "    <tr>\n",
       "      <th>2847397</th>\n",
       "      <td>2421864442787859</td>\n",
       "      <td>docked_bike</td>\n",
       "      <td>2020-11-08 16:47:16</td>\n",
       "      <td>2020-11-08 16:47:08</td>\n",
       "      <td>Theater on the Lake</td>\n",
       "      <td>177</td>\n",
       "      <td>Clark St &amp; Wellington Ave</td>\n",
       "      <td>156.0</td>\n",
       "      <td>member</td>\n",
       "      <td>-1 days +23:59:52</td>\n",
       "      <td>7</td>\n",
       "      <td>-0.133333</td>\n",
       "      <td>2020</td>\n",
       "      <td>11</td>\n",
       "      <td>8</td>\n",
       "    </tr>\n",
       "    <tr>\n",
       "      <th>2847415</th>\n",
       "      <td>90432BCC4C8CBE7B</td>\n",
       "      <td>docked_bike</td>\n",
       "      <td>2020-11-08 12:17:19</td>\n",
       "      <td>2020-11-08 12:16:48</td>\n",
       "      <td>Clark St &amp; Armitage Ave</td>\n",
       "      <td>94</td>\n",
       "      <td>Ashland Ave &amp; Division St</td>\n",
       "      <td>210.0</td>\n",
       "      <td>casual</td>\n",
       "      <td>-1 days +23:59:29</td>\n",
       "      <td>7</td>\n",
       "      <td>-0.516667</td>\n",
       "      <td>2020</td>\n",
       "      <td>11</td>\n",
       "      <td>8</td>\n",
       "    </tr>\n",
       "    <tr>\n",
       "      <th>2847821</th>\n",
       "      <td>80E99DF91A4790FF</td>\n",
       "      <td>docked_bike</td>\n",
       "      <td>2020-11-22 17:27:58</td>\n",
       "      <td>2020-11-22 17:27:51</td>\n",
       "      <td>Desplaines St &amp; Randolph St</td>\n",
       "      <td>96</td>\n",
       "      <td>Green St &amp; Madison St</td>\n",
       "      <td>198.0</td>\n",
       "      <td>member</td>\n",
       "      <td>-1 days +23:59:53</td>\n",
       "      <td>7</td>\n",
       "      <td>-0.116667</td>\n",
       "      <td>2020</td>\n",
       "      <td>11</td>\n",
       "      <td>22</td>\n",
       "    </tr>\n",
       "    <tr>\n",
       "      <th>2847904</th>\n",
       "      <td>C30F761FFA6954A5</td>\n",
       "      <td>docked_bike</td>\n",
       "      <td>2020-11-10 09:20:05</td>\n",
       "      <td>2020-11-10 09:19:50</td>\n",
       "      <td>Pine Grove Ave &amp; Waveland Ave</td>\n",
       "      <td>232</td>\n",
       "      <td>Streeter Dr &amp; Grand Ave</td>\n",
       "      <td>35.0</td>\n",
       "      <td>casual</td>\n",
       "      <td>-1 days +23:59:45</td>\n",
       "      <td>2</td>\n",
       "      <td>-0.250000</td>\n",
       "      <td>2020</td>\n",
       "      <td>11</td>\n",
       "      <td>10</td>\n",
       "    </tr>\n",
       "    <tr>\n",
       "      <th>2848582</th>\n",
       "      <td>BD4D6E7A0B52E96E</td>\n",
       "      <td>docked_bike</td>\n",
       "      <td>2020-11-14 10:25:00</td>\n",
       "      <td>2020-11-14 10:24:26</td>\n",
       "      <td>Lake Shore Dr &amp; Diversey Pkwy</td>\n",
       "      <td>329</td>\n",
       "      <td>Millennium Park</td>\n",
       "      <td>90.0</td>\n",
       "      <td>member</td>\n",
       "      <td>-1 days +23:59:26</td>\n",
       "      <td>6</td>\n",
       "      <td>-0.566667</td>\n",
       "      <td>2020</td>\n",
       "      <td>11</td>\n",
       "      <td>14</td>\n",
       "    </tr>\n",
       "  </tbody>\n",
       "</table>\n",
       "<p>10082 rows × 15 columns</p>\n",
       "</div>"
      ],
      "text/plain": [
       "                  ride_id rideable_type          started_at  \\\n",
       "2422     7C1E92200AEFF70E   docked_bike 2020-04-27 17:20:30   \n",
       "2504     671BB1F73F4CD303   docked_bike 2020-04-20 16:51:18   \n",
       "3136     502B972C6B1FCAE6   docked_bike 2020-04-12 19:09:54   \n",
       "3542     68E70FDF06F0A439   docked_bike 2020-04-29 17:37:11   \n",
       "8212     6EB323BCC83A9D1D   docked_bike 2020-04-05 15:46:12   \n",
       "...                   ...           ...                 ...   \n",
       "2847397  2421864442787859   docked_bike 2020-11-08 16:47:16   \n",
       "2847415  90432BCC4C8CBE7B   docked_bike 2020-11-08 12:17:19   \n",
       "2847821  80E99DF91A4790FF   docked_bike 2020-11-22 17:27:58   \n",
       "2847904  C30F761FFA6954A5   docked_bike 2020-11-10 09:20:05   \n",
       "2848582  BD4D6E7A0B52E96E   docked_bike 2020-11-14 10:25:00   \n",
       "\n",
       "                   ended_at             start_station_name  start_station_id  \\\n",
       "2422    2020-04-27 17:20:18         St. Clair St & Erie St               211   \n",
       "2504    2020-04-20 16:51:05    Lake Shore Dr & Belmont Ave               334   \n",
       "3136    2020-04-12 19:09:40         Clark St & Schiller St               301   \n",
       "3542    2020-04-29 17:37:07         Dearborn St & Adams St                37   \n",
       "8212    2020-04-05 15:46:11     Francisco Ave & Foster Ave               471   \n",
       "...                     ...                            ...               ...   \n",
       "2847397 2020-11-08 16:47:08            Theater on the Lake               177   \n",
       "2847415 2020-11-08 12:16:48        Clark St & Armitage Ave                94   \n",
       "2847821 2020-11-22 17:27:51    Desplaines St & Randolph St                96   \n",
       "2847904 2020-11-10 09:19:50  Pine Grove Ave & Waveland Ave               232   \n",
       "2848582 2020-11-14 10:24:26  Lake Shore Dr & Diversey Pkwy               329   \n",
       "\n",
       "                     end_station_name  end_station_id member_casual  \\\n",
       "2422     Clinton St & Washington Blvd            91.0        member   \n",
       "2504              Buckingham Fountain             2.0        casual   \n",
       "3136            Wells St & Concord Ln           289.0        member   \n",
       "3542         California Ave & 23rd Pl           442.0        member   \n",
       "8212         Damen Ave & Clybourn Ave           163.0        member   \n",
       "...                               ...             ...           ...   \n",
       "2847397     Clark St & Wellington Ave           156.0        member   \n",
       "2847415     Ashland Ave & Division St           210.0        casual   \n",
       "2847821         Green St & Madison St           198.0        member   \n",
       "2847904       Streeter Dr & Grand Ave            35.0        casual   \n",
       "2848582               Millennium Park            90.0        member   \n",
       "\n",
       "              ride_length  day_of_week  ride_time  year  Month  day  \n",
       "2422    -1 days +23:59:48            1  -0.200000  2020      4   27  \n",
       "2504    -1 days +23:59:47            1  -0.216667  2020      4   20  \n",
       "3136    -1 days +23:59:46            7  -0.233333  2020      4   12  \n",
       "3542    -1 days +23:59:56            3  -0.066667  2020      4   29  \n",
       "8212    -1 days +23:59:59            7  -0.016667  2020      4    5  \n",
       "...                   ...          ...        ...   ...    ...  ...  \n",
       "2847397 -1 days +23:59:52            7  -0.133333  2020     11    8  \n",
       "2847415 -1 days +23:59:29            7  -0.516667  2020     11    8  \n",
       "2847821 -1 days +23:59:53            7  -0.116667  2020     11   22  \n",
       "2847904 -1 days +23:59:45            2  -0.250000  2020     11   10  \n",
       "2848582 -1 days +23:59:26            6  -0.566667  2020     11   14  \n",
       "\n",
       "[10082 rows x 15 columns]"
      ]
     },
     "execution_count": 59,
     "metadata": {},
     "output_type": "execute_result"
    }
   ],
   "source": [
    "tripdata1[tripdata1['ride_length'] < '0 0 00:00:00']"
   ]
  },
  {
   "cell_type": "code",
   "execution_count": 60,
   "id": "specialized-blogger",
   "metadata": {},
   "outputs": [
    {
     "data": {
      "text/html": [
       "<div>\n",
       "<style scoped>\n",
       "    .dataframe tbody tr th:only-of-type {\n",
       "        vertical-align: middle;\n",
       "    }\n",
       "\n",
       "    .dataframe tbody tr th {\n",
       "        vertical-align: top;\n",
       "    }\n",
       "\n",
       "    .dataframe thead th {\n",
       "        text-align: right;\n",
       "    }\n",
       "</style>\n",
       "<table border=\"1\" class=\"dataframe\">\n",
       "  <thead>\n",
       "    <tr style=\"text-align: right;\">\n",
       "      <th></th>\n",
       "      <th>ride_id</th>\n",
       "      <th>rideable_type</th>\n",
       "      <th>started_at</th>\n",
       "      <th>ended_at</th>\n",
       "      <th>start_station_name</th>\n",
       "      <th>start_station_id</th>\n",
       "      <th>end_station_name</th>\n",
       "      <th>end_station_id</th>\n",
       "      <th>member_casual</th>\n",
       "      <th>ride_length</th>\n",
       "      <th>day_of_week</th>\n",
       "      <th>ride_time</th>\n",
       "      <th>year</th>\n",
       "      <th>Month</th>\n",
       "      <th>day</th>\n",
       "    </tr>\n",
       "  </thead>\n",
       "  <tbody>\n",
       "    <tr>\n",
       "      <th>184</th>\n",
       "      <td>43802DDD3A14F821</td>\n",
       "      <td>docked_bike</td>\n",
       "      <td>2020-12-02 08:14:17</td>\n",
       "      <td>2020-12-02 08:14:12</td>\n",
       "      <td>Albany Ave &amp; Bloomingdale Ave</td>\n",
       "      <td>15655</td>\n",
       "      <td>Sheffield Ave &amp; Wellington Ave</td>\n",
       "      <td>TA1307000052</td>\n",
       "      <td>member</td>\n",
       "      <td>-1 days +23:59:55</td>\n",
       "      <td>3</td>\n",
       "      <td>-0.083333</td>\n",
       "      <td>2020</td>\n",
       "      <td>12</td>\n",
       "      <td>2</td>\n",
       "    </tr>\n",
       "    <tr>\n",
       "      <th>322</th>\n",
       "      <td>CDA12952E2FC2D99</td>\n",
       "      <td>docked_bike</td>\n",
       "      <td>2020-12-15 11:39:19</td>\n",
       "      <td>2020-11-25 10:16:59</td>\n",
       "      <td>Damen Ave &amp; Thomas St (Augusta Blvd)</td>\n",
       "      <td>TA1307000070</td>\n",
       "      <td>Morgan St &amp; Polk St</td>\n",
       "      <td>TA1307000130</td>\n",
       "      <td>member</td>\n",
       "      <td>-21 days +22:37:40</td>\n",
       "      <td>2</td>\n",
       "      <td>-28882.333333</td>\n",
       "      <td>2020</td>\n",
       "      <td>12</td>\n",
       "      <td>15</td>\n",
       "    </tr>\n",
       "    <tr>\n",
       "      <th>481</th>\n",
       "      <td>934AEDB1B6C094EC</td>\n",
       "      <td>docked_bike</td>\n",
       "      <td>2020-12-15 11:46:37</td>\n",
       "      <td>2020-11-25 13:16:56</td>\n",
       "      <td>Throop St &amp; Taylor St</td>\n",
       "      <td>13139</td>\n",
       "      <td>Halsted St &amp; Polk St</td>\n",
       "      <td>TA1307000121</td>\n",
       "      <td>member</td>\n",
       "      <td>-20 days +01:30:19</td>\n",
       "      <td>2</td>\n",
       "      <td>-28709.683333</td>\n",
       "      <td>2020</td>\n",
       "      <td>12</td>\n",
       "      <td>15</td>\n",
       "    </tr>\n",
       "    <tr>\n",
       "      <th>832</th>\n",
       "      <td>F9338303AF8415BA</td>\n",
       "      <td>docked_bike</td>\n",
       "      <td>2020-12-15 12:12:41</td>\n",
       "      <td>2020-11-25 13:52:21</td>\n",
       "      <td>Burnham Harbor</td>\n",
       "      <td>15545</td>\n",
       "      <td>Indiana Ave &amp; Roosevelt Rd</td>\n",
       "      <td>SL-005</td>\n",
       "      <td>member</td>\n",
       "      <td>-20 days +01:39:40</td>\n",
       "      <td>2</td>\n",
       "      <td>-28700.333333</td>\n",
       "      <td>2020</td>\n",
       "      <td>12</td>\n",
       "      <td>15</td>\n",
       "    </tr>\n",
       "    <tr>\n",
       "      <th>890</th>\n",
       "      <td>7787906127D4A8FE</td>\n",
       "      <td>electric_bike</td>\n",
       "      <td>2020-12-15 12:00:46</td>\n",
       "      <td>2020-11-25 16:54:15</td>\n",
       "      <td>Albany Ave &amp; Bloomingdale Ave</td>\n",
       "      <td>15655</td>\n",
       "      <td>Damen Ave &amp; Cortland St</td>\n",
       "      <td>13133</td>\n",
       "      <td>member</td>\n",
       "      <td>-20 days +04:53:29</td>\n",
       "      <td>2</td>\n",
       "      <td>-28506.516667</td>\n",
       "      <td>2020</td>\n",
       "      <td>12</td>\n",
       "      <td>15</td>\n",
       "    </tr>\n",
       "    <tr>\n",
       "      <th>...</th>\n",
       "      <td>...</td>\n",
       "      <td>...</td>\n",
       "      <td>...</td>\n",
       "      <td>...</td>\n",
       "      <td>...</td>\n",
       "      <td>...</td>\n",
       "      <td>...</td>\n",
       "      <td>...</td>\n",
       "      <td>...</td>\n",
       "      <td>...</td>\n",
       "      <td>...</td>\n",
       "      <td>...</td>\n",
       "      <td>...</td>\n",
       "      <td>...</td>\n",
       "      <td>...</td>\n",
       "    </tr>\n",
       "    <tr>\n",
       "      <th>112715</th>\n",
       "      <td>7074FF42B83EC6AD</td>\n",
       "      <td>docked_bike</td>\n",
       "      <td>2020-12-15 11:50:14</td>\n",
       "      <td>2020-11-25 13:42:44</td>\n",
       "      <td>Peoria St &amp; Jackson Blvd</td>\n",
       "      <td>13158</td>\n",
       "      <td>Clinton St &amp; Madison St</td>\n",
       "      <td>TA1305000032</td>\n",
       "      <td>member</td>\n",
       "      <td>-20 days +01:52:30</td>\n",
       "      <td>2</td>\n",
       "      <td>-28687.500000</td>\n",
       "      <td>2020</td>\n",
       "      <td>12</td>\n",
       "      <td>15</td>\n",
       "    </tr>\n",
       "    <tr>\n",
       "      <th>113268</th>\n",
       "      <td>7BD7B9F52607DAB3</td>\n",
       "      <td>electric_bike</td>\n",
       "      <td>2020-12-15 11:53:44</td>\n",
       "      <td>2020-11-25 14:50:00</td>\n",
       "      <td>Pine Grove Ave &amp; Irving Park Rd</td>\n",
       "      <td>TA1308000022</td>\n",
       "      <td>Broadway &amp; Barry Ave</td>\n",
       "      <td>13137</td>\n",
       "      <td>member</td>\n",
       "      <td>-20 days +02:56:16</td>\n",
       "      <td>2</td>\n",
       "      <td>-28623.733333</td>\n",
       "      <td>2020</td>\n",
       "      <td>12</td>\n",
       "      <td>15</td>\n",
       "    </tr>\n",
       "    <tr>\n",
       "      <th>113705</th>\n",
       "      <td>70F458C5AAE4C49F</td>\n",
       "      <td>docked_bike</td>\n",
       "      <td>2020-12-15 12:02:17</td>\n",
       "      <td>2020-11-25 18:03:18</td>\n",
       "      <td>Pine Grove Ave &amp; Irving Park Rd</td>\n",
       "      <td>TA1308000022</td>\n",
       "      <td>Pine Grove Ave &amp; Irving Park Rd</td>\n",
       "      <td>TA1308000022</td>\n",
       "      <td>member</td>\n",
       "      <td>-20 days +06:01:01</td>\n",
       "      <td>2</td>\n",
       "      <td>-28438.983333</td>\n",
       "      <td>2020</td>\n",
       "      <td>12</td>\n",
       "      <td>15</td>\n",
       "    </tr>\n",
       "    <tr>\n",
       "      <th>279727</th>\n",
       "      <td>F79335E3A77A57B5</td>\n",
       "      <td>electric_bike</td>\n",
       "      <td>2021-03-29 15:41:21</td>\n",
       "      <td>2021-03-29 15:41:20</td>\n",
       "      <td>Ashland Ave &amp; Belle Plaine Ave</td>\n",
       "      <td>13249</td>\n",
       "      <td>Ashland Ave &amp; Belle Plaine Ave</td>\n",
       "      <td>13249</td>\n",
       "      <td>member</td>\n",
       "      <td>-1 days +23:59:59</td>\n",
       "      <td>1</td>\n",
       "      <td>-0.016667</td>\n",
       "      <td>2021</td>\n",
       "      <td>3</td>\n",
       "      <td>29</td>\n",
       "    </tr>\n",
       "    <tr>\n",
       "      <th>353457</th>\n",
       "      <td>5D2797A8FFA71B49</td>\n",
       "      <td>classic_bike</td>\n",
       "      <td>2021-03-13 18:02:58</td>\n",
       "      <td>2021-03-13 18:02:57</td>\n",
       "      <td>Dayton St &amp; North Ave</td>\n",
       "      <td>13058</td>\n",
       "      <td>Dayton St &amp; North Ave</td>\n",
       "      <td>13058</td>\n",
       "      <td>casual</td>\n",
       "      <td>-1 days +23:59:59</td>\n",
       "      <td>6</td>\n",
       "      <td>-0.016667</td>\n",
       "      <td>2021</td>\n",
       "      <td>3</td>\n",
       "      <td>13</td>\n",
       "    </tr>\n",
       "  </tbody>\n",
       "</table>\n",
       "<p>372 rows × 15 columns</p>\n",
       "</div>"
      ],
      "text/plain": [
       "                 ride_id  rideable_type          started_at  \\\n",
       "184     43802DDD3A14F821    docked_bike 2020-12-02 08:14:17   \n",
       "322     CDA12952E2FC2D99    docked_bike 2020-12-15 11:39:19   \n",
       "481     934AEDB1B6C094EC    docked_bike 2020-12-15 11:46:37   \n",
       "832     F9338303AF8415BA    docked_bike 2020-12-15 12:12:41   \n",
       "890     7787906127D4A8FE  electric_bike 2020-12-15 12:00:46   \n",
       "...                  ...            ...                 ...   \n",
       "112715  7074FF42B83EC6AD    docked_bike 2020-12-15 11:50:14   \n",
       "113268  7BD7B9F52607DAB3  electric_bike 2020-12-15 11:53:44   \n",
       "113705  70F458C5AAE4C49F    docked_bike 2020-12-15 12:02:17   \n",
       "279727  F79335E3A77A57B5  electric_bike 2021-03-29 15:41:21   \n",
       "353457  5D2797A8FFA71B49   classic_bike 2021-03-13 18:02:58   \n",
       "\n",
       "                  ended_at                    start_station_name  \\\n",
       "184    2020-12-02 08:14:12         Albany Ave & Bloomingdale Ave   \n",
       "322    2020-11-25 10:16:59  Damen Ave & Thomas St (Augusta Blvd)   \n",
       "481    2020-11-25 13:16:56                 Throop St & Taylor St   \n",
       "832    2020-11-25 13:52:21                        Burnham Harbor   \n",
       "890    2020-11-25 16:54:15         Albany Ave & Bloomingdale Ave   \n",
       "...                    ...                                   ...   \n",
       "112715 2020-11-25 13:42:44              Peoria St & Jackson Blvd   \n",
       "113268 2020-11-25 14:50:00       Pine Grove Ave & Irving Park Rd   \n",
       "113705 2020-11-25 18:03:18       Pine Grove Ave & Irving Park Rd   \n",
       "279727 2021-03-29 15:41:20        Ashland Ave & Belle Plaine Ave   \n",
       "353457 2021-03-13 18:02:57                 Dayton St & North Ave   \n",
       "\n",
       "       start_station_id                 end_station_name end_station_id  \\\n",
       "184               15655   Sheffield Ave & Wellington Ave   TA1307000052   \n",
       "322        TA1307000070              Morgan St & Polk St   TA1307000130   \n",
       "481               13139             Halsted St & Polk St   TA1307000121   \n",
       "832               15545       Indiana Ave & Roosevelt Rd         SL-005   \n",
       "890               15655          Damen Ave & Cortland St          13133   \n",
       "...                 ...                              ...            ...   \n",
       "112715            13158          Clinton St & Madison St   TA1305000032   \n",
       "113268     TA1308000022             Broadway & Barry Ave          13137   \n",
       "113705     TA1308000022  Pine Grove Ave & Irving Park Rd   TA1308000022   \n",
       "279727            13249   Ashland Ave & Belle Plaine Ave          13249   \n",
       "353457            13058            Dayton St & North Ave          13058   \n",
       "\n",
       "       member_casual        ride_length  day_of_week     ride_time  year  \\\n",
       "184           member  -1 days +23:59:55            3     -0.083333  2020   \n",
       "322           member -21 days +22:37:40            2 -28882.333333  2020   \n",
       "481           member -20 days +01:30:19            2 -28709.683333  2020   \n",
       "832           member -20 days +01:39:40            2 -28700.333333  2020   \n",
       "890           member -20 days +04:53:29            2 -28506.516667  2020   \n",
       "...              ...                ...          ...           ...   ...   \n",
       "112715        member -20 days +01:52:30            2 -28687.500000  2020   \n",
       "113268        member -20 days +02:56:16            2 -28623.733333  2020   \n",
       "113705        member -20 days +06:01:01            2 -28438.983333  2020   \n",
       "279727        member  -1 days +23:59:59            1     -0.016667  2021   \n",
       "353457        casual  -1 days +23:59:59            6     -0.016667  2021   \n",
       "\n",
       "        Month  day  \n",
       "184        12    2  \n",
       "322        12   15  \n",
       "481        12   15  \n",
       "832        12   15  \n",
       "890        12   15  \n",
       "...       ...  ...  \n",
       "112715     12   15  \n",
       "113268     12   15  \n",
       "113705     12   15  \n",
       "279727      3   29  \n",
       "353457      3   13  \n",
       "\n",
       "[372 rows x 15 columns]"
      ]
     },
     "execution_count": 60,
     "metadata": {},
     "output_type": "execute_result"
    }
   ],
   "source": [
    "tripdata2[tripdata2['ride_length'] < '0 days 00:00:00']"
   ]
  },
  {
   "cell_type": "markdown",
   "id": "cardiovascular-terror",
   "metadata": {},
   "source": [
    "Since we don't have negative time we will drop all the rows which ride_length is negative. "
   ]
  },
  {
   "cell_type": "markdown",
   "id": "horizontal-cisco",
   "metadata": {},
   "source": [
    "With the help of the following code we can drop rows based on conditional expression.\n",
    "<code>\n",
    "df = df.drop(some labels)\n",
    "df = df.drop(df[<some boolean condition>].index)</code>\n",
    "    \n",
    "With the help of this let's drop all the rows whihc ride_lenght is less than 0."
   ]
  },
  {
   "cell_type": "code",
   "execution_count": 61,
   "id": "continuing-girlfriend",
   "metadata": {},
   "outputs": [],
   "source": [
    "tripdata1.drop(tripdata1[tripdata1.ride_length < \"0 days 00:00:00\"].index, inplace=True)\n",
    "tripdata2.drop(tripdata2[tripdata2.ride_length < \"0 days 00:00:00\"].index, inplace=True)"
   ]
  },
  {
   "cell_type": "markdown",
   "id": "alpha-franchise",
   "metadata": {},
   "source": [
    "Zero length also dosent' make any sense but we will keep it for now."
   ]
  },
  {
   "cell_type": "code",
   "execution_count": 62,
   "id": "bearing-being",
   "metadata": {},
   "outputs": [
    {
     "data": {
      "text/html": [
       "<div>\n",
       "<style scoped>\n",
       "    .dataframe tbody tr th:only-of-type {\n",
       "        vertical-align: middle;\n",
       "    }\n",
       "\n",
       "    .dataframe tbody tr th {\n",
       "        vertical-align: top;\n",
       "    }\n",
       "\n",
       "    .dataframe thead th {\n",
       "        text-align: right;\n",
       "    }\n",
       "</style>\n",
       "<table border=\"1\" class=\"dataframe\">\n",
       "  <thead>\n",
       "    <tr style=\"text-align: right;\">\n",
       "      <th></th>\n",
       "      <th>ride_id</th>\n",
       "      <th>rideable_type</th>\n",
       "      <th>started_at</th>\n",
       "      <th>ended_at</th>\n",
       "      <th>start_station_name</th>\n",
       "      <th>start_station_id</th>\n",
       "      <th>end_station_name</th>\n",
       "      <th>end_station_id</th>\n",
       "      <th>member_casual</th>\n",
       "      <th>ride_length</th>\n",
       "      <th>day_of_week</th>\n",
       "      <th>ride_time</th>\n",
       "      <th>year</th>\n",
       "      <th>Month</th>\n",
       "      <th>day</th>\n",
       "    </tr>\n",
       "  </thead>\n",
       "  <tbody>\n",
       "  </tbody>\n",
       "</table>\n",
       "</div>"
      ],
      "text/plain": [
       "Empty DataFrame\n",
       "Columns: [ride_id, rideable_type, started_at, ended_at, start_station_name, start_station_id, end_station_name, end_station_id, member_casual, ride_length, day_of_week, ride_time, year, Month, day]\n",
       "Index: []"
      ]
     },
     "execution_count": 62,
     "metadata": {},
     "output_type": "execute_result"
    }
   ],
   "source": [
    "tripdata1[tripdata1['ride_length'] < '0 days 00:00:00']"
   ]
  },
  {
   "cell_type": "markdown",
   "id": "lonely-bumper",
   "metadata": {},
   "source": [
    "We can see that we successfully drop all the rows with the negative ride_lenght."
   ]
  },
  {
   "cell_type": "code",
   "execution_count": 63,
   "id": "occupied-parks",
   "metadata": {},
   "outputs": [
    {
     "data": {
      "text/html": [
       "<div>\n",
       "<style scoped>\n",
       "    .dataframe tbody tr th:only-of-type {\n",
       "        vertical-align: middle;\n",
       "    }\n",
       "\n",
       "    .dataframe tbody tr th {\n",
       "        vertical-align: top;\n",
       "    }\n",
       "\n",
       "    .dataframe thead th {\n",
       "        text-align: right;\n",
       "    }\n",
       "</style>\n",
       "<table border=\"1\" class=\"dataframe\">\n",
       "  <thead>\n",
       "    <tr style=\"text-align: right;\">\n",
       "      <th></th>\n",
       "      <th>ride_id</th>\n",
       "      <th>rideable_type</th>\n",
       "      <th>started_at</th>\n",
       "      <th>ended_at</th>\n",
       "      <th>start_station_name</th>\n",
       "      <th>start_station_id</th>\n",
       "      <th>end_station_name</th>\n",
       "      <th>end_station_id</th>\n",
       "      <th>member_casual</th>\n",
       "      <th>ride_length</th>\n",
       "      <th>day_of_week</th>\n",
       "      <th>ride_time</th>\n",
       "      <th>year</th>\n",
       "      <th>Month</th>\n",
       "      <th>day</th>\n",
       "    </tr>\n",
       "  </thead>\n",
       "  <tbody>\n",
       "    <tr>\n",
       "      <th>0</th>\n",
       "      <td>A847FADBBC638E45</td>\n",
       "      <td>docked_bike</td>\n",
       "      <td>2020-04-26 17:45:14</td>\n",
       "      <td>2020-04-26 18:12:03</td>\n",
       "      <td>Eckhart Park</td>\n",
       "      <td>86</td>\n",
       "      <td>Lincoln Ave &amp; Diversey Pkwy</td>\n",
       "      <td>152.0</td>\n",
       "      <td>member</td>\n",
       "      <td>0 days 00:26:49</td>\n",
       "      <td>7</td>\n",
       "      <td>26.816667</td>\n",
       "      <td>2020</td>\n",
       "      <td>4</td>\n",
       "      <td>26</td>\n",
       "    </tr>\n",
       "    <tr>\n",
       "      <th>1</th>\n",
       "      <td>5405B80E996FF60D</td>\n",
       "      <td>docked_bike</td>\n",
       "      <td>2020-04-17 17:08:54</td>\n",
       "      <td>2020-04-17 17:17:03</td>\n",
       "      <td>Drake Ave &amp; Fullerton Ave</td>\n",
       "      <td>503</td>\n",
       "      <td>Kosciuszko Park</td>\n",
       "      <td>499.0</td>\n",
       "      <td>member</td>\n",
       "      <td>0 days 00:08:09</td>\n",
       "      <td>5</td>\n",
       "      <td>8.150000</td>\n",
       "      <td>2020</td>\n",
       "      <td>4</td>\n",
       "      <td>17</td>\n",
       "    </tr>\n",
       "  </tbody>\n",
       "</table>\n",
       "</div>"
      ],
      "text/plain": [
       "            ride_id rideable_type          started_at            ended_at  \\\n",
       "0  A847FADBBC638E45   docked_bike 2020-04-26 17:45:14 2020-04-26 18:12:03   \n",
       "1  5405B80E996FF60D   docked_bike 2020-04-17 17:08:54 2020-04-17 17:17:03   \n",
       "\n",
       "          start_station_name  start_station_id             end_station_name  \\\n",
       "0               Eckhart Park                86  Lincoln Ave & Diversey Pkwy   \n",
       "1  Drake Ave & Fullerton Ave               503              Kosciuszko Park   \n",
       "\n",
       "   end_station_id member_casual     ride_length  day_of_week  ride_time  year  \\\n",
       "0           152.0        member 0 days 00:26:49            7  26.816667  2020   \n",
       "1           499.0        member 0 days 00:08:09            5   8.150000  2020   \n",
       "\n",
       "   Month  day  \n",
       "0      4   26  \n",
       "1      4   17  "
      ]
     },
     "execution_count": 63,
     "metadata": {},
     "output_type": "execute_result"
    }
   ],
   "source": [
    "tripdata1.head(2)"
   ]
  },
  {
   "cell_type": "markdown",
   "id": "prostate-darkness",
   "metadata": {},
   "source": [
    "It seems like our data is now free of null values and it's look clean but if we face some problem we will resolve it. "
   ]
  },
  {
   "cell_type": "markdown",
   "id": "certain-chorus",
   "metadata": {},
   "source": [
    "## Perform calculation"
   ]
  },
  {
   "cell_type": "markdown",
   "id": "approximate-disaster",
   "metadata": {},
   "source": [
    "From now on we will look at only first 8 months data we will ignore the 4 month data. \n",
    "\n",
    "Let's first look at the structure of the columns."
   ]
  },
  {
   "cell_type": "code",
   "execution_count": 64,
   "id": "quarterly-drawing",
   "metadata": {},
   "outputs": [
    {
     "name": "stdout",
     "output_type": "stream",
     "text": [
      "<class 'pandas.core.frame.DataFrame'>\n",
      "Int64Index: 2838601 entries, 0 to 2848682\n",
      "Data columns (total 15 columns):\n",
      " #   Column              Dtype          \n",
      "---  ------              -----          \n",
      " 0   ride_id             object         \n",
      " 1   rideable_type       object         \n",
      " 2   started_at          datetime64[ns] \n",
      " 3   ended_at            datetime64[ns] \n",
      " 4   start_station_name  object         \n",
      " 5   start_station_id    int64          \n",
      " 6   end_station_name    object         \n",
      " 7   end_station_id      float64        \n",
      " 8   member_casual       object         \n",
      " 9   ride_length         timedelta64[ns]\n",
      " 10  day_of_week         int64          \n",
      " 11  ride_time           float64        \n",
      " 12  year                int64          \n",
      " 13  Month               int64          \n",
      " 14  day                 int64          \n",
      "dtypes: datetime64[ns](2), float64(2), int64(5), object(5), timedelta64[ns](1)\n",
      "memory usage: 346.5+ MB\n"
     ]
    }
   ],
   "source": [
    "tripdata1.info()"
   ]
  },
  {
   "cell_type": "markdown",
   "id": "balanced-writing",
   "metadata": {},
   "source": [
    "Now let's look at a statistical summary of the aggregated and transformed data frame. "
   ]
  },
  {
   "cell_type": "code",
   "execution_count": 65,
   "id": "forced-ireland",
   "metadata": {},
   "outputs": [
    {
     "name": "stderr",
     "output_type": "stream",
     "text": [
      "<ipython-input-65-6139dd9a4696>:1: FutureWarning: Treating datetime data as categorical rather than numeric in `.describe` is deprecated and will be removed in a future version of pandas. Specify `datetime_is_numeric=True` to silence this warning and adopt the future behavior now.\n",
      "  tripdata1.describe(include='all')\n",
      "<ipython-input-65-6139dd9a4696>:1: FutureWarning: Treating datetime data as categorical rather than numeric in `.describe` is deprecated and will be removed in a future version of pandas. Specify `datetime_is_numeric=True` to silence this warning and adopt the future behavior now.\n",
      "  tripdata1.describe(include='all')\n"
     ]
    },
    {
     "data": {
      "text/html": [
       "<div>\n",
       "<style scoped>\n",
       "    .dataframe tbody tr th:only-of-type {\n",
       "        vertical-align: middle;\n",
       "    }\n",
       "\n",
       "    .dataframe tbody tr th {\n",
       "        vertical-align: top;\n",
       "    }\n",
       "\n",
       "    .dataframe thead th {\n",
       "        text-align: right;\n",
       "    }\n",
       "</style>\n",
       "<table border=\"1\" class=\"dataframe\">\n",
       "  <thead>\n",
       "    <tr style=\"text-align: right;\">\n",
       "      <th></th>\n",
       "      <th>ride_id</th>\n",
       "      <th>rideable_type</th>\n",
       "      <th>started_at</th>\n",
       "      <th>ended_at</th>\n",
       "      <th>start_station_name</th>\n",
       "      <th>start_station_id</th>\n",
       "      <th>end_station_name</th>\n",
       "      <th>end_station_id</th>\n",
       "      <th>member_casual</th>\n",
       "      <th>ride_length</th>\n",
       "      <th>day_of_week</th>\n",
       "      <th>ride_time</th>\n",
       "      <th>year</th>\n",
       "      <th>Month</th>\n",
       "      <th>day</th>\n",
       "    </tr>\n",
       "  </thead>\n",
       "  <tbody>\n",
       "    <tr>\n",
       "      <th>count</th>\n",
       "      <td>2838601</td>\n",
       "      <td>2838601</td>\n",
       "      <td>2838601</td>\n",
       "      <td>2838601</td>\n",
       "      <td>2838601</td>\n",
       "      <td>2.838601e+06</td>\n",
       "      <td>2838502</td>\n",
       "      <td>2.838502e+06</td>\n",
       "      <td>2838601</td>\n",
       "      <td>2838601</td>\n",
       "      <td>2.838601e+06</td>\n",
       "      <td>2.838601e+06</td>\n",
       "      <td>2838601.0</td>\n",
       "      <td>2.838601e+06</td>\n",
       "      <td>2.838601e+06</td>\n",
       "    </tr>\n",
       "    <tr>\n",
       "      <th>unique</th>\n",
       "      <td>2838601</td>\n",
       "      <td>2</td>\n",
       "      <td>2454431</td>\n",
       "      <td>2440090</td>\n",
       "      <td>685</td>\n",
       "      <td>NaN</td>\n",
       "      <td>684</td>\n",
       "      <td>NaN</td>\n",
       "      <td>2</td>\n",
       "      <td>NaN</td>\n",
       "      <td>NaN</td>\n",
       "      <td>NaN</td>\n",
       "      <td>NaN</td>\n",
       "      <td>NaN</td>\n",
       "      <td>NaN</td>\n",
       "    </tr>\n",
       "    <tr>\n",
       "      <th>top</th>\n",
       "      <td>07B025CD8E5F9ABE</td>\n",
       "      <td>docked_bike</td>\n",
       "      <td>2020-08-25 17:18:20</td>\n",
       "      <td>2020-07-11 15:35:03</td>\n",
       "      <td>Streeter Dr &amp; Grand Ave</td>\n",
       "      <td>NaN</td>\n",
       "      <td>Streeter Dr &amp; Grand Ave</td>\n",
       "      <td>NaN</td>\n",
       "      <td>member</td>\n",
       "      <td>NaN</td>\n",
       "      <td>NaN</td>\n",
       "      <td>NaN</td>\n",
       "      <td>NaN</td>\n",
       "      <td>NaN</td>\n",
       "      <td>NaN</td>\n",
       "    </tr>\n",
       "    <tr>\n",
       "      <th>freq</th>\n",
       "      <td>1</td>\n",
       "      <td>2512332</td>\n",
       "      <td>8</td>\n",
       "      <td>13</td>\n",
       "      <td>32069</td>\n",
       "      <td>NaN</td>\n",
       "      <td>34354</td>\n",
       "      <td>NaN</td>\n",
       "      <td>1613979</td>\n",
       "      <td>NaN</td>\n",
       "      <td>NaN</td>\n",
       "      <td>NaN</td>\n",
       "      <td>NaN</td>\n",
       "      <td>NaN</td>\n",
       "      <td>NaN</td>\n",
       "    </tr>\n",
       "    <tr>\n",
       "      <th>first</th>\n",
       "      <td>NaN</td>\n",
       "      <td>NaN</td>\n",
       "      <td>2020-04-01 00:00:30</td>\n",
       "      <td>2020-04-01 00:10:45</td>\n",
       "      <td>NaN</td>\n",
       "      <td>NaN</td>\n",
       "      <td>NaN</td>\n",
       "      <td>NaN</td>\n",
       "      <td>NaN</td>\n",
       "      <td>NaN</td>\n",
       "      <td>NaN</td>\n",
       "      <td>NaN</td>\n",
       "      <td>NaN</td>\n",
       "      <td>NaN</td>\n",
       "      <td>NaN</td>\n",
       "    </tr>\n",
       "    <tr>\n",
       "      <th>last</th>\n",
       "      <td>NaN</td>\n",
       "      <td>NaN</td>\n",
       "      <td>2020-11-30 23:56:22</td>\n",
       "      <td>2020-12-01 17:28:22</td>\n",
       "      <td>NaN</td>\n",
       "      <td>NaN</td>\n",
       "      <td>NaN</td>\n",
       "      <td>NaN</td>\n",
       "      <td>NaN</td>\n",
       "      <td>NaN</td>\n",
       "      <td>NaN</td>\n",
       "      <td>NaN</td>\n",
       "      <td>NaN</td>\n",
       "      <td>NaN</td>\n",
       "      <td>NaN</td>\n",
       "    </tr>\n",
       "    <tr>\n",
       "      <th>mean</th>\n",
       "      <td>NaN</td>\n",
       "      <td>NaN</td>\n",
       "      <td>NaN</td>\n",
       "      <td>NaN</td>\n",
       "      <td>NaN</td>\n",
       "      <td>2.247137e+02</td>\n",
       "      <td>NaN</td>\n",
       "      <td>2.255008e+02</td>\n",
       "      <td>NaN</td>\n",
       "      <td>0 days 00:29:26.082641766</td>\n",
       "      <td>4.278255e+00</td>\n",
       "      <td>2.943471e+01</td>\n",
       "      <td>2020.0</td>\n",
       "      <td>7.882972e+00</td>\n",
       "      <td>1.583569e+01</td>\n",
       "    </tr>\n",
       "    <tr>\n",
       "      <th>std</th>\n",
       "      <td>NaN</td>\n",
       "      <td>NaN</td>\n",
       "      <td>NaN</td>\n",
       "      <td>NaN</td>\n",
       "      <td>NaN</td>\n",
       "      <td>1.603175e+02</td>\n",
       "      <td>NaN</td>\n",
       "      <td>1.607308e+02</td>\n",
       "      <td>NaN</td>\n",
       "      <td>0 days 04:33:00.170362510</td>\n",
       "      <td>1.973341e+00</td>\n",
       "      <td>2.730028e+02</td>\n",
       "      <td>0.0</td>\n",
       "      <td>1.768402e+00</td>\n",
       "      <td>8.777275e+00</td>\n",
       "    </tr>\n",
       "    <tr>\n",
       "      <th>min</th>\n",
       "      <td>NaN</td>\n",
       "      <td>NaN</td>\n",
       "      <td>NaN</td>\n",
       "      <td>NaN</td>\n",
       "      <td>NaN</td>\n",
       "      <td>2.000000e+00</td>\n",
       "      <td>NaN</td>\n",
       "      <td>2.000000e+00</td>\n",
       "      <td>NaN</td>\n",
       "      <td>0 days 00:00:00</td>\n",
       "      <td>1.000000e+00</td>\n",
       "      <td>0.000000e+00</td>\n",
       "      <td>2020.0</td>\n",
       "      <td>4.000000e+00</td>\n",
       "      <td>1.000000e+00</td>\n",
       "    </tr>\n",
       "    <tr>\n",
       "      <th>25%</th>\n",
       "      <td>NaN</td>\n",
       "      <td>NaN</td>\n",
       "      <td>NaN</td>\n",
       "      <td>NaN</td>\n",
       "      <td>NaN</td>\n",
       "      <td>9.600000e+01</td>\n",
       "      <td>NaN</td>\n",
       "      <td>9.800000e+01</td>\n",
       "      <td>NaN</td>\n",
       "      <td>0 days 00:08:29</td>\n",
       "      <td>3.000000e+00</td>\n",
       "      <td>8.483333e+00</td>\n",
       "      <td>2020.0</td>\n",
       "      <td>7.000000e+00</td>\n",
       "      <td>8.000000e+00</td>\n",
       "    </tr>\n",
       "    <tr>\n",
       "      <th>50%</th>\n",
       "      <td>NaN</td>\n",
       "      <td>NaN</td>\n",
       "      <td>NaN</td>\n",
       "      <td>NaN</td>\n",
       "      <td>NaN</td>\n",
       "      <td>1.960000e+02</td>\n",
       "      <td>NaN</td>\n",
       "      <td>1.970000e+02</td>\n",
       "      <td>NaN</td>\n",
       "      <td>0 days 00:15:29</td>\n",
       "      <td>4.000000e+00</td>\n",
       "      <td>1.548333e+01</td>\n",
       "      <td>2020.0</td>\n",
       "      <td>8.000000e+00</td>\n",
       "      <td>1.600000e+01</td>\n",
       "    </tr>\n",
       "    <tr>\n",
       "      <th>75%</th>\n",
       "      <td>NaN</td>\n",
       "      <td>NaN</td>\n",
       "      <td>NaN</td>\n",
       "      <td>NaN</td>\n",
       "      <td>NaN</td>\n",
       "      <td>3.120000e+02</td>\n",
       "      <td>NaN</td>\n",
       "      <td>3.120000e+02</td>\n",
       "      <td>NaN</td>\n",
       "      <td>0 days 00:27:56</td>\n",
       "      <td>6.000000e+00</td>\n",
       "      <td>2.793333e+01</td>\n",
       "      <td>2020.0</td>\n",
       "      <td>9.000000e+00</td>\n",
       "      <td>2.400000e+01</td>\n",
       "    </tr>\n",
       "    <tr>\n",
       "      <th>max</th>\n",
       "      <td>NaN</td>\n",
       "      <td>NaN</td>\n",
       "      <td>NaN</td>\n",
       "      <td>NaN</td>\n",
       "      <td>NaN</td>\n",
       "      <td>7.320000e+02</td>\n",
       "      <td>NaN</td>\n",
       "      <td>7.320000e+02</td>\n",
       "      <td>NaN</td>\n",
       "      <td>40 days 18:40:02</td>\n",
       "      <td>7.000000e+00</td>\n",
       "      <td>5.872003e+04</td>\n",
       "      <td>2020.0</td>\n",
       "      <td>1.100000e+01</td>\n",
       "      <td>3.100000e+01</td>\n",
       "    </tr>\n",
       "  </tbody>\n",
       "</table>\n",
       "</div>"
      ],
      "text/plain": [
       "                 ride_id rideable_type           started_at  \\\n",
       "count            2838601       2838601              2838601   \n",
       "unique           2838601             2              2454431   \n",
       "top     07B025CD8E5F9ABE   docked_bike  2020-08-25 17:18:20   \n",
       "freq                   1       2512332                    8   \n",
       "first                NaN           NaN  2020-04-01 00:00:30   \n",
       "last                 NaN           NaN  2020-11-30 23:56:22   \n",
       "mean                 NaN           NaN                  NaN   \n",
       "std                  NaN           NaN                  NaN   \n",
       "min                  NaN           NaN                  NaN   \n",
       "25%                  NaN           NaN                  NaN   \n",
       "50%                  NaN           NaN                  NaN   \n",
       "75%                  NaN           NaN                  NaN   \n",
       "max                  NaN           NaN                  NaN   \n",
       "\n",
       "                   ended_at       start_station_name  start_station_id  \\\n",
       "count               2838601                  2838601      2.838601e+06   \n",
       "unique              2440090                      685               NaN   \n",
       "top     2020-07-11 15:35:03  Streeter Dr & Grand Ave               NaN   \n",
       "freq                     13                    32069               NaN   \n",
       "first   2020-04-01 00:10:45                      NaN               NaN   \n",
       "last    2020-12-01 17:28:22                      NaN               NaN   \n",
       "mean                    NaN                      NaN      2.247137e+02   \n",
       "std                     NaN                      NaN      1.603175e+02   \n",
       "min                     NaN                      NaN      2.000000e+00   \n",
       "25%                     NaN                      NaN      9.600000e+01   \n",
       "50%                     NaN                      NaN      1.960000e+02   \n",
       "75%                     NaN                      NaN      3.120000e+02   \n",
       "max                     NaN                      NaN      7.320000e+02   \n",
       "\n",
       "               end_station_name  end_station_id member_casual  \\\n",
       "count                   2838502    2.838502e+06       2838601   \n",
       "unique                      684             NaN             2   \n",
       "top     Streeter Dr & Grand Ave             NaN        member   \n",
       "freq                      34354             NaN       1613979   \n",
       "first                       NaN             NaN           NaN   \n",
       "last                        NaN             NaN           NaN   \n",
       "mean                        NaN    2.255008e+02           NaN   \n",
       "std                         NaN    1.607308e+02           NaN   \n",
       "min                         NaN    2.000000e+00           NaN   \n",
       "25%                         NaN    9.800000e+01           NaN   \n",
       "50%                         NaN    1.970000e+02           NaN   \n",
       "75%                         NaN    3.120000e+02           NaN   \n",
       "max                         NaN    7.320000e+02           NaN   \n",
       "\n",
       "                      ride_length   day_of_week     ride_time       year  \\\n",
       "count                     2838601  2.838601e+06  2.838601e+06  2838601.0   \n",
       "unique                        NaN           NaN           NaN        NaN   \n",
       "top                           NaN           NaN           NaN        NaN   \n",
       "freq                          NaN           NaN           NaN        NaN   \n",
       "first                         NaN           NaN           NaN        NaN   \n",
       "last                          NaN           NaN           NaN        NaN   \n",
       "mean    0 days 00:29:26.082641766  4.278255e+00  2.943471e+01     2020.0   \n",
       "std     0 days 04:33:00.170362510  1.973341e+00  2.730028e+02        0.0   \n",
       "min               0 days 00:00:00  1.000000e+00  0.000000e+00     2020.0   \n",
       "25%               0 days 00:08:29  3.000000e+00  8.483333e+00     2020.0   \n",
       "50%               0 days 00:15:29  4.000000e+00  1.548333e+01     2020.0   \n",
       "75%               0 days 00:27:56  6.000000e+00  2.793333e+01     2020.0   \n",
       "max              40 days 18:40:02  7.000000e+00  5.872003e+04     2020.0   \n",
       "\n",
       "               Month           day  \n",
       "count   2.838601e+06  2.838601e+06  \n",
       "unique           NaN           NaN  \n",
       "top              NaN           NaN  \n",
       "freq             NaN           NaN  \n",
       "first            NaN           NaN  \n",
       "last             NaN           NaN  \n",
       "mean    7.882972e+00  1.583569e+01  \n",
       "std     1.768402e+00  8.777275e+00  \n",
       "min     4.000000e+00  1.000000e+00  \n",
       "25%     7.000000e+00  8.000000e+00  \n",
       "50%     8.000000e+00  1.600000e+01  \n",
       "75%     9.000000e+00  2.400000e+01  \n",
       "max     1.100000e+01  3.100000e+01  "
      ]
     },
     "execution_count": 65,
     "metadata": {},
     "output_type": "execute_result"
    }
   ],
   "source": [
    "tripdata1.describe(include='all')"
   ]
  },
  {
   "cell_type": "markdown",
   "id": "rocky-record",
   "metadata": {},
   "source": [
    "Let's next focus on the average time of each ride."
   ]
  },
  {
   "cell_type": "code",
   "execution_count": 67,
   "id": "focused-valve",
   "metadata": {},
   "outputs": [
    {
     "data": {
      "text/plain": [
       "count    2.838601e+06\n",
       "mean     2.943471e+01\n",
       "std      2.730028e+02\n",
       "min      0.000000e+00\n",
       "25%      8.483333e+00\n",
       "50%      1.548333e+01\n",
       "75%      2.793333e+01\n",
       "max      5.872003e+04\n",
       "Name: ride_time, dtype: float64"
      ]
     },
     "execution_count": 67,
     "metadata": {},
     "output_type": "execute_result"
    }
   ],
   "source": [
    "tripdata1['ride_time'].describe()"
   ]
  },
  {
   "cell_type": "code",
   "execution_count": 69,
   "id": "resident-forty",
   "metadata": {},
   "outputs": [
    {
     "data": {
      "text/plain": [
       "29.434710696103412"
      ]
     },
     "execution_count": 69,
     "metadata": {},
     "output_type": "execute_result"
    }
   ],
   "source": [
    "tripdata1['ride_time'].mean()"
   ]
  },
  {
   "cell_type": "markdown",
   "id": "clean-adams",
   "metadata": {},
   "source": [
    "We see that on average, each ride is close to 30 minutes. We'll then break that down by casual riders versus members."
   ]
  },
  {
   "cell_type": "markdown",
   "id": "representative-detail",
   "metadata": {},
   "source": [
    "Looking at casual riders versus members, we can see that the average casual ride is about 46 minutes compared to the members' average ride of 16 minutes."
   ]
  },
  {
   "cell_type": "code",
   "execution_count": 71,
   "id": "guided-presence",
   "metadata": {},
   "outputs": [
    {
     "data": {
      "text/plain": [
       "member_casual\n",
       "casual    46.469928\n",
       "member    16.509077\n",
       "Name: ride_time, dtype: float64"
      ]
     },
     "execution_count": 71,
     "metadata": {},
     "output_type": "execute_result"
    }
   ],
   "source": [
    "tripdata1.groupby('member_casual').mean()['ride_time']"
   ]
  },
  {
   "cell_type": "markdown",
   "id": "boring-performer",
   "metadata": {},
   "source": [
    "The median rides are 22 minutes and 12 minutes respectively."
   ]
  },
  {
   "cell_type": "code",
   "execution_count": 72,
   "id": "broadband-practice",
   "metadata": {},
   "outputs": [
    {
     "data": {
      "text/plain": [
       "member_casual\n",
       "casual    22.133333\n",
       "member    12.083333\n",
       "Name: ride_time, dtype: float64"
      ]
     },
     "execution_count": 72,
     "metadata": {},
     "output_type": "execute_result"
    }
   ],
   "source": [
    "tripdata1.groupby('member_casual').median()['ride_time']"
   ]
  },
  {
   "cell_type": "markdown",
   "id": "modern-bread",
   "metadata": {},
   "source": [
    "#### What is the most common day for renting bikes?"
   ]
  },
  {
   "cell_type": "code",
   "execution_count": 83,
   "id": "advisory-california",
   "metadata": {},
   "outputs": [
    {
     "data": {
      "text/plain": [
       "member_casual\n",
       "casual    Saturday\n",
       "member    Saturday\n",
       "Name: day_name, dtype: object"
      ]
     },
     "execution_count": 83,
     "metadata": {},
     "output_type": "execute_result"
    }
   ],
   "source": [
    "tripdata1.groupby(['member_casual'])['day_name'].agg(pd.Series.mode)"
   ]
  },
  {
   "cell_type": "markdown",
   "id": "characteristic-turkish",
   "metadata": {},
   "source": [
    "Using the statistical mode, we see that the most common day for renting bikes is Saturday."
   ]
  },
  {
   "cell_type": "markdown",
   "id": "expired-french",
   "metadata": {},
   "source": [
    "If this is needed as a DataFrame, use"
   ]
  },
  {
   "cell_type": "code",
   "execution_count": 88,
   "id": "private-waterproof",
   "metadata": {},
   "outputs": [
    {
     "data": {
      "text/html": [
       "<div>\n",
       "<style scoped>\n",
       "    .dataframe tbody tr th:only-of-type {\n",
       "        vertical-align: middle;\n",
       "    }\n",
       "\n",
       "    .dataframe tbody tr th {\n",
       "        vertical-align: top;\n",
       "    }\n",
       "\n",
       "    .dataframe thead th {\n",
       "        text-align: right;\n",
       "    }\n",
       "</style>\n",
       "<table border=\"1\" class=\"dataframe\">\n",
       "  <thead>\n",
       "    <tr style=\"text-align: right;\">\n",
       "      <th></th>\n",
       "      <th>day_name</th>\n",
       "    </tr>\n",
       "    <tr>\n",
       "      <th>member_casual</th>\n",
       "      <th></th>\n",
       "    </tr>\n",
       "  </thead>\n",
       "  <tbody>\n",
       "    <tr>\n",
       "      <th>casual</th>\n",
       "      <td>Saturday</td>\n",
       "    </tr>\n",
       "    <tr>\n",
       "      <th>member</th>\n",
       "      <td>Saturday</td>\n",
       "    </tr>\n",
       "  </tbody>\n",
       "</table>\n",
       "</div>"
      ],
      "text/plain": [
       "               day_name\n",
       "member_casual          \n",
       "casual         Saturday\n",
       "member         Saturday"
      ]
     },
     "execution_count": 88,
     "metadata": {},
     "output_type": "execute_result"
    }
   ],
   "source": [
    "tripdata1.groupby(['member_casual'])['day_name'].agg(pd.Series.mode).to_frame()"
   ]
  },
  {
   "cell_type": "code",
   "execution_count": 123,
   "id": "three-cutting",
   "metadata": {},
   "outputs": [
    {
     "data": {
      "text/html": [
       "<div>\n",
       "<style scoped>\n",
       "    .dataframe tbody tr th:only-of-type {\n",
       "        vertical-align: middle;\n",
       "    }\n",
       "\n",
       "    .dataframe tbody tr th {\n",
       "        vertical-align: top;\n",
       "    }\n",
       "\n",
       "    .dataframe thead th {\n",
       "        text-align: right;\n",
       "    }\n",
       "</style>\n",
       "<table border=\"1\" class=\"dataframe\">\n",
       "  <thead>\n",
       "    <tr style=\"text-align: right;\">\n",
       "      <th></th>\n",
       "      <th>average_ride_time</th>\n",
       "      <th>Day_name</th>\n",
       "    </tr>\n",
       "    <tr>\n",
       "      <th>day_of_week</th>\n",
       "      <th></th>\n",
       "      <th></th>\n",
       "    </tr>\n",
       "  </thead>\n",
       "  <tbody>\n",
       "    <tr>\n",
       "      <th>1</th>\n",
       "      <td>27.324941</td>\n",
       "      <td>Sunday</td>\n",
       "    </tr>\n",
       "    <tr>\n",
       "      <th>2</th>\n",
       "      <td>24.985572</td>\n",
       "      <td>Monday</td>\n",
       "    </tr>\n",
       "    <tr>\n",
       "      <th>3</th>\n",
       "      <td>25.280675</td>\n",
       "      <td>Tuesday</td>\n",
       "    </tr>\n",
       "    <tr>\n",
       "      <th>4</th>\n",
       "      <td>26.685197</td>\n",
       "      <td>Wednesday</td>\n",
       "    </tr>\n",
       "    <tr>\n",
       "      <th>5</th>\n",
       "      <td>28.139172</td>\n",
       "      <td>Thursday</td>\n",
       "    </tr>\n",
       "    <tr>\n",
       "      <th>6</th>\n",
       "      <td>33.943831</td>\n",
       "      <td>Friday</td>\n",
       "    </tr>\n",
       "    <tr>\n",
       "      <th>7</th>\n",
       "      <td>36.048899</td>\n",
       "      <td>Saturday</td>\n",
       "    </tr>\n",
       "  </tbody>\n",
       "</table>\n",
       "</div>"
      ],
      "text/plain": [
       "             average_ride_time   Day_name\n",
       "day_of_week                              \n",
       "1                    27.324941     Sunday\n",
       "2                    24.985572     Monday\n",
       "3                    25.280675    Tuesday\n",
       "4                    26.685197  Wednesday\n",
       "5                    28.139172   Thursday\n",
       "6                    33.943831     Friday\n",
       "7                    36.048899   Saturday"
      ]
     },
     "execution_count": 123,
     "metadata": {},
     "output_type": "execute_result"
    }
   ],
   "source": [
    "average_day_ride = pd.DataFrame(tripdata1.groupby('day_of_week').mean()['ride_time'])\n",
    "x = [\"Sunday\", \"Monday\", \"Tuesday\", \"Wednesday\", \"Thursday\", \"Friday\", \"Saturday\"]\n",
    "average_day_ride['Day_name'] = x\n",
    "average_day_ride.rename(columns={'ride_time': 'average_ride_time'}, inplace=True)\n",
    "average_day_ride"
   ]
  },
  {
   "cell_type": "code",
   "execution_count": 90,
   "id": "respective-private",
   "metadata": {},
   "outputs": [
    {
     "data": {
      "text/plain": [
       "member_casual\n",
       "casual    4.556634\n",
       "member    4.067032\n",
       "Name: day_of_week, dtype: float64"
      ]
     },
     "execution_count": 90,
     "metadata": {},
     "output_type": "execute_result"
    }
   ],
   "source": [
    "tripdata1.groupby('member_casual').mean()['day_of_week']"
   ]
  },
  {
   "cell_type": "markdown",
   "id": "specified-passenger",
   "metadata": {},
   "source": [
    "Also, we can take a look at the average ride time by day for members and casual riders with duration again in minutes. Regardless of day of the week, casual users ride longer than members, with both groups riding longer on weekends."
   ]
  },
  {
   "cell_type": "code",
   "execution_count": 210,
   "id": "stuck-catalog",
   "metadata": {},
   "outputs": [
    {
     "data": {
      "text/html": [
       "<div>\n",
       "<style scoped>\n",
       "    .dataframe tbody tr th:only-of-type {\n",
       "        vertical-align: middle;\n",
       "    }\n",
       "\n",
       "    .dataframe tbody tr th {\n",
       "        vertical-align: top;\n",
       "    }\n",
       "\n",
       "    .dataframe thead tr th {\n",
       "        text-align: left;\n",
       "    }\n",
       "\n",
       "    .dataframe thead tr:last-of-type th {\n",
       "        text-align: right;\n",
       "    }\n",
       "</style>\n",
       "<table border=\"1\" class=\"dataframe\">\n",
       "  <thead>\n",
       "    <tr>\n",
       "      <th></th>\n",
       "      <th></th>\n",
       "      <th>ride_time</th>\n",
       "    </tr>\n",
       "    <tr>\n",
       "      <th></th>\n",
       "      <th></th>\n",
       "      <th>mean</th>\n",
       "    </tr>\n",
       "    <tr>\n",
       "      <th>day_name</th>\n",
       "      <th>member_casual</th>\n",
       "      <th></th>\n",
       "    </tr>\n",
       "  </thead>\n",
       "  <tbody>\n",
       "    <tr>\n",
       "      <th rowspan=\"2\" valign=\"top\">Friday</th>\n",
       "      <th>casual</th>\n",
       "      <td>44.195253</td>\n",
       "    </tr>\n",
       "    <tr>\n",
       "      <th>member</th>\n",
       "      <td>16.137315</td>\n",
       "    </tr>\n",
       "    <tr>\n",
       "      <th rowspan=\"2\" valign=\"top\">Monday</th>\n",
       "      <th>casual</th>\n",
       "      <td>46.420619</td>\n",
       "    </tr>\n",
       "    <tr>\n",
       "      <th>member</th>\n",
       "      <td>15.603183</td>\n",
       "    </tr>\n",
       "    <tr>\n",
       "      <th rowspan=\"2\" valign=\"top\">Saturday</th>\n",
       "      <th>casual</th>\n",
       "      <td>47.930144</td>\n",
       "    </tr>\n",
       "    <tr>\n",
       "      <th>member</th>\n",
       "      <td>18.276854</td>\n",
       "    </tr>\n",
       "    <tr>\n",
       "      <th rowspan=\"2\" valign=\"top\">Sunday</th>\n",
       "      <th>casual</th>\n",
       "      <td>52.308475</td>\n",
       "    </tr>\n",
       "    <tr>\n",
       "      <th>member</th>\n",
       "      <td>18.755118</td>\n",
       "    </tr>\n",
       "    <tr>\n",
       "      <th rowspan=\"2\" valign=\"top\">Thursday</th>\n",
       "      <th>casual</th>\n",
       "      <td>45.007104</td>\n",
       "    </tr>\n",
       "    <tr>\n",
       "      <th>member</th>\n",
       "      <td>15.572239</td>\n",
       "    </tr>\n",
       "    <tr>\n",
       "      <th rowspan=\"2\" valign=\"top\">Tuesday</th>\n",
       "      <th>casual</th>\n",
       "      <td>41.939300</td>\n",
       "    </tr>\n",
       "    <tr>\n",
       "      <th>member</th>\n",
       "      <td>15.524317</td>\n",
       "    </tr>\n",
       "    <tr>\n",
       "      <th rowspan=\"2\" valign=\"top\">Wednesday</th>\n",
       "      <th>casual</th>\n",
       "      <td>42.340339</td>\n",
       "    </tr>\n",
       "    <tr>\n",
       "      <th>member</th>\n",
       "      <td>15.593903</td>\n",
       "    </tr>\n",
       "  </tbody>\n",
       "</table>\n",
       "</div>"
      ],
      "text/plain": [
       "                         ride_time\n",
       "                              mean\n",
       "day_name  member_casual           \n",
       "Friday    casual         44.195253\n",
       "          member         16.137315\n",
       "Monday    casual         46.420619\n",
       "          member         15.603183\n",
       "Saturday  casual         47.930144\n",
       "          member         18.276854\n",
       "Sunday    casual         52.308475\n",
       "          member         18.755118\n",
       "Thursday  casual         45.007104\n",
       "          member         15.572239\n",
       "Tuesday   casual         41.939300\n",
       "          member         15.524317\n",
       "Wednesday casual         42.340339\n",
       "          member         15.593903"
      ]
     },
     "execution_count": 210,
     "metadata": {},
     "output_type": "execute_result"
    }
   ],
   "source": [
    "#tripdata1.groupby('day_of_week','member_casual').mean()\n",
    "grop_by_member_and_day = tripdata1.groupby(['day_name', 'member_casual']).agg({'ride_time': ['mean']})\n",
    "grop_by_member_and_day"
   ]
  },
  {
   "cell_type": "code",
   "execution_count": 211,
   "id": "indonesian-vault",
   "metadata": {},
   "outputs": [],
   "source": [
    "index = grop_by_member_and_day.index\n",
    "day = []\n",
    "mem = []\n",
    "\n",
    "for i in index:\n",
    "    day.append(i[0])\n",
    "    mem.append(i[1])"
   ]
  },
  {
   "cell_type": "code",
   "execution_count": 226,
   "id": "adopted-flour",
   "metadata": {},
   "outputs": [],
   "source": [
    "df0  = grop_by_member_and_day['ride_time']\n",
    "df = df0['mean']"
   ]
  },
  {
   "cell_type": "code",
   "execution_count": 232,
   "id": "further-killer",
   "metadata": {},
   "outputs": [
    {
     "data": {
      "text/html": [
       "<div>\n",
       "<style scoped>\n",
       "    .dataframe tbody tr th:only-of-type {\n",
       "        vertical-align: middle;\n",
       "    }\n",
       "\n",
       "    .dataframe tbody tr th {\n",
       "        vertical-align: top;\n",
       "    }\n",
       "\n",
       "    .dataframe thead th {\n",
       "        text-align: right;\n",
       "    }\n",
       "</style>\n",
       "<table border=\"1\" class=\"dataframe\">\n",
       "  <thead>\n",
       "    <tr style=\"text-align: right;\">\n",
       "      <th></th>\n",
       "      <th>average_ride_time</th>\n",
       "      <th>weekdays</th>\n",
       "      <th>member_casual</th>\n",
       "    </tr>\n",
       "  </thead>\n",
       "  <tbody>\n",
       "    <tr>\n",
       "      <th>0</th>\n",
       "      <td>44.195253</td>\n",
       "      <td>Friday</td>\n",
       "      <td>casual</td>\n",
       "    </tr>\n",
       "    <tr>\n",
       "      <th>1</th>\n",
       "      <td>16.137315</td>\n",
       "      <td>Friday</td>\n",
       "      <td>member</td>\n",
       "    </tr>\n",
       "    <tr>\n",
       "      <th>2</th>\n",
       "      <td>46.420619</td>\n",
       "      <td>Monday</td>\n",
       "      <td>casual</td>\n",
       "    </tr>\n",
       "    <tr>\n",
       "      <th>3</th>\n",
       "      <td>15.603183</td>\n",
       "      <td>Monday</td>\n",
       "      <td>member</td>\n",
       "    </tr>\n",
       "    <tr>\n",
       "      <th>4</th>\n",
       "      <td>47.930144</td>\n",
       "      <td>Saturday</td>\n",
       "      <td>casual</td>\n",
       "    </tr>\n",
       "    <tr>\n",
       "      <th>5</th>\n",
       "      <td>18.276854</td>\n",
       "      <td>Saturday</td>\n",
       "      <td>member</td>\n",
       "    </tr>\n",
       "    <tr>\n",
       "      <th>6</th>\n",
       "      <td>52.308475</td>\n",
       "      <td>Sunday</td>\n",
       "      <td>casual</td>\n",
       "    </tr>\n",
       "    <tr>\n",
       "      <th>7</th>\n",
       "      <td>18.755118</td>\n",
       "      <td>Sunday</td>\n",
       "      <td>member</td>\n",
       "    </tr>\n",
       "    <tr>\n",
       "      <th>8</th>\n",
       "      <td>45.007104</td>\n",
       "      <td>Thursday</td>\n",
       "      <td>casual</td>\n",
       "    </tr>\n",
       "    <tr>\n",
       "      <th>9</th>\n",
       "      <td>15.572239</td>\n",
       "      <td>Thursday</td>\n",
       "      <td>member</td>\n",
       "    </tr>\n",
       "    <tr>\n",
       "      <th>10</th>\n",
       "      <td>41.939300</td>\n",
       "      <td>Tuesday</td>\n",
       "      <td>casual</td>\n",
       "    </tr>\n",
       "    <tr>\n",
       "      <th>11</th>\n",
       "      <td>15.524317</td>\n",
       "      <td>Tuesday</td>\n",
       "      <td>member</td>\n",
       "    </tr>\n",
       "    <tr>\n",
       "      <th>12</th>\n",
       "      <td>42.340339</td>\n",
       "      <td>Wednesday</td>\n",
       "      <td>casual</td>\n",
       "    </tr>\n",
       "    <tr>\n",
       "      <th>13</th>\n",
       "      <td>15.593903</td>\n",
       "      <td>Wednesday</td>\n",
       "      <td>member</td>\n",
       "    </tr>\n",
       "  </tbody>\n",
       "</table>\n",
       "</div>"
      ],
      "text/plain": [
       "    average_ride_time   weekdays member_casual\n",
       "0           44.195253     Friday        casual\n",
       "1           16.137315     Friday        member\n",
       "2           46.420619     Monday        casual\n",
       "3           15.603183     Monday        member\n",
       "4           47.930144   Saturday        casual\n",
       "5           18.276854   Saturday        member\n",
       "6           52.308475     Sunday        casual\n",
       "7           18.755118     Sunday        member\n",
       "8           45.007104   Thursday        casual\n",
       "9           15.572239   Thursday        member\n",
       "10          41.939300    Tuesday        casual\n",
       "11          15.524317    Tuesday        member\n",
       "12          42.340339  Wednesday        casual\n",
       "13          15.593903  Wednesday        member"
      ]
     },
     "execution_count": 232,
     "metadata": {},
     "output_type": "execute_result"
    }
   ],
   "source": [
    "df.reset_index(drop=True,inplace=True)\n",
    "df1 = pd.DataFrame(df)\n",
    "df1['weekdays'] = day\n",
    "df1['member_casual'] = mem\n",
    "df1.rename(columns={'mean': 'average_ride_time'}, inplace=True)\n",
    "df1"
   ]
  },
  {
   "cell_type": "code",
   "execution_count": 159,
   "id": "several-russian",
   "metadata": {},
   "outputs": [],
   "source": [
    "df1 = grop_by_member_and_day[['ride_time','day'columnsember_casual']]\n",
    "df1.reset_index(drop=True,inplace=True)"
   ]
  },
  {
   "cell_type": "code",
   "execution_count": 208,
   "id": "spatial-spelling",
   "metadata": {},
   "outputs": [
    {
     "data": {
      "text/plain": [
       "MultiIndex([(    'ride_time', 'mean'),\n",
       "            (          'day',     ''),\n",
       "            ('member_casual',     '')],\n",
       "           )"
      ]
     },
     "execution_count": 208,
     "metadata": {},
     "output_type": "execute_result"
    }
   ],
   "source": [
    "df1.columns"
   ]
  },
  {
   "cell_type": "code",
   "execution_count": 184,
   "id": "radio-cooperative",
   "metadata": {},
   "outputs": [
    {
     "data": {
      "text/html": [
       "<div>\n",
       "<style scoped>\n",
       "    .dataframe tbody tr th:only-of-type {\n",
       "        vertical-align: middle;\n",
       "    }\n",
       "\n",
       "    .dataframe tbody tr th {\n",
       "        vertical-align: top;\n",
       "    }\n",
       "\n",
       "    .dataframe thead th {\n",
       "        text-align: right;\n",
       "    }\n",
       "</style>\n",
       "<table border=\"1\" class=\"dataframe\">\n",
       "  <thead>\n",
       "    <tr style=\"text-align: right;\">\n",
       "      <th></th>\n",
       "      <th>number_of_ride</th>\n",
       "      <th>day</th>\n",
       "      <th>member_casual</th>\n",
       "    </tr>\n",
       "  </thead>\n",
       "  <tbody>\n",
       "    <tr>\n",
       "      <th>0</th>\n",
       "      <td>183369</td>\n",
       "      <td>Friday</td>\n",
       "      <td>casual</td>\n",
       "    </tr>\n",
       "    <tr>\n",
       "      <th>1</th>\n",
       "      <td>245311</td>\n",
       "      <td>Friday</td>\n",
       "      <td>member</td>\n",
       "    </tr>\n",
       "    <tr>\n",
       "      <th>2</th>\n",
       "      <td>126329</td>\n",
       "      <td>Monday</td>\n",
       "      <td>casual</td>\n",
       "    </tr>\n",
       "    <tr>\n",
       "      <th>3</th>\n",
       "      <td>205800</td>\n",
       "      <td>Monday</td>\n",
       "      <td>member</td>\n",
       "    </tr>\n",
       "    <tr>\n",
       "      <th>4</th>\n",
       "      <td>288345</td>\n",
       "      <td>Saturday</td>\n",
       "      <td>casual</td>\n",
       "    </tr>\n",
       "    <tr>\n",
       "      <th>5</th>\n",
       "      <td>257413</td>\n",
       "      <td>Saturday</td>\n",
       "      <td>member</td>\n",
       "    </tr>\n",
       "    <tr>\n",
       "      <th>6</th>\n",
       "      <td>225945</td>\n",
       "      <td>Sunday</td>\n",
       "      <td>casual</td>\n",
       "    </tr>\n",
       "    <tr>\n",
       "      <th>7</th>\n",
       "      <td>212433</td>\n",
       "      <td>Sunday</td>\n",
       "      <td>member</td>\n",
       "    </tr>\n",
       "    <tr>\n",
       "      <th>8</th>\n",
       "      <td>144841</td>\n",
       "      <td>Thursday</td>\n",
       "      <td>casual</td>\n",
       "    </tr>\n",
       "    <tr>\n",
       "      <th>9</th>\n",
       "      <td>238799</td>\n",
       "      <td>Thursday</td>\n",
       "      <td>member</td>\n",
       "    </tr>\n",
       "    <tr>\n",
       "      <th>10</th>\n",
       "      <td>121448</td>\n",
       "      <td>Tuesday</td>\n",
       "      <td>casual</td>\n",
       "    </tr>\n",
       "    <tr>\n",
       "      <th>11</th>\n",
       "      <td>217624</td>\n",
       "      <td>Tuesday</td>\n",
       "      <td>member</td>\n",
       "    </tr>\n",
       "    <tr>\n",
       "      <th>12</th>\n",
       "      <td>134345</td>\n",
       "      <td>Wednesday</td>\n",
       "      <td>casual</td>\n",
       "    </tr>\n",
       "    <tr>\n",
       "      <th>13</th>\n",
       "      <td>236599</td>\n",
       "      <td>Wednesday</td>\n",
       "      <td>member</td>\n",
       "    </tr>\n",
       "  </tbody>\n",
       "</table>\n",
       "</div>"
      ],
      "text/plain": [
       "    number_of_ride        day member_casual\n",
       "0           183369     Friday        casual\n",
       "1           245311     Friday        member\n",
       "2           126329     Monday        casual\n",
       "3           205800     Monday        member\n",
       "4           288345   Saturday        casual\n",
       "5           257413   Saturday        member\n",
       "6           225945     Sunday        casual\n",
       "7           212433     Sunday        member\n",
       "8           144841   Thursday        casual\n",
       "9           238799   Thursday        member\n",
       "10          121448    Tuesday        casual\n",
       "11          217624    Tuesday        member\n",
       "12          134345  Wednesday        casual\n",
       "13          236599  Wednesday        member"
      ]
     },
     "execution_count": 184,
     "metadata": {},
     "output_type": "execute_result"
    }
   ],
   "source": [
    "df2 = tripdata1.groupby(['day_name','member_casual']).size().to_frame()\n",
    "df2.reset_index(drop=True,inplace=True)\n",
    "df2['number_of_ride'] = df2[0]\n",
    "df2['day']= day\n",
    "df2['member_casual'] = mem\n",
    "del df2[0]\n",
    "df2"
   ]
  },
  {
   "cell_type": "markdown",
   "id": "comfortable-gothic",
   "metadata": {},
   "source": [
    "The last column represent the number of ride perday as casual and memebers."
   ]
  },
  {
   "cell_type": "markdown",
   "id": "stretch-syndrome",
   "metadata": {},
   "source": [
    "### Identify trends and relationships.\n",
    "Here are some key observations using the simple analyses above:\n",
    "\n",
    "- Casual riders average longer rides than members. This makes sense as members are likely using the bike rental service for particular commutes (i.e. work or school) whereas casual riders are just that--casual (perhaps they are sightseeing).\n",
    "\n",
    "- The number of rides for both types of users starts off slow on Mondays, gradually increases to a peak on Saturdays with a small drop off on Sundays."
   ]
  },
  {
   "cell_type": "markdown",
   "id": "accomplished-produce",
   "metadata": {},
   "source": [
    "## Share\n",
    "\n",
    "Now that you have performed your analysis and gained some insights into your data, create visualizations to share your findings. Moreno has reminded you that they should be sophisticated and polished in order to effectively  communicate to the executive team. Use the following Case Study Roadmap as a guide:\n",
    "\n",
    "### Guiding questions\n",
    "\n",
    "- Were you able to answer the question of how annual members and casual riders use Cyclistic bikes differently?\n",
    "\n",
    "- What story does your data tell?\n",
    "\n",
    "- How do your findings relate to your original question?\n",
    "\n",
    "- Who is your audience? What is the best way to communicate with them?\n",
    "\n",
    "- Can data visualization help you share your findings?\n",
    "\n",
    "- Is your presentation accessible to your audience?\n",
    "\n",
    "### Key tasks\n",
    "\n",
    "- Determine the best way to share your findings.\n",
    "- Create effective data visualizations.\n",
    "- Create effective data visualizations\n",
    "- Present your findings\n",
    "- Ensure your work is accessible to your audience\n",
    "\n",
    "### Deliverable\n",
    "\n",
    "- Supporting visualizations and key findings\n",
    "\n",
    "### Follow these steps:\n",
    "\n",
    "- Take out a piece of paper and a pen and sketch some ideas for how you will visualize the data.\n",
    "- Once you choose a visual form, open your tool of choice to create your visualization. Use a presentation software, such as PowerPoint or Google Slides; your spreadsheet program; Tableau; or R.\n",
    "- Create your data visualization, remembering that contrast should be used to draw your audience’s attention to the most important insights. Use artistic principles including size, color, and shape.\n",
    "- Ensure clear meaning through the proper use of common elements, such as headlines, subtitles, and labels.\n",
    "- Refine your data visualization by applying deep attention to detail.\n",
    "\n"
   ]
  },
  {
   "cell_type": "markdown",
   "id": "animal-fiber",
   "metadata": {},
   "source": [
    "## Key tasks\n",
    "\n",
    "- determine the best way to share your findings.\n"
   ]
  },
  {
   "cell_type": "markdown",
   "id": "hydraulic-potato",
   "metadata": {},
   "source": [
    "With the help of df1 and df2 let's do some visualization. "
   ]
  },
  {
   "cell_type": "code",
   "execution_count": 185,
   "id": "norwegian-findings",
   "metadata": {},
   "outputs": [],
   "source": [
    "import seaborn as sns      # visualization library for statistical graphics plotting \n",
    "import matplotlib.pyplot as plt   # import matplotlib.pyplot as plt \n",
    "%matplotlib inline"
   ]
  },
  {
   "cell_type": "code",
   "execution_count": 197,
   "id": "serious-beach",
   "metadata": {},
   "outputs": [
    {
     "data": {
      "image/png": "[encoded data removed]",
      "text/plain": [
       "<Figure size 720x432 with 1 Axes>"
      ]
     },
     "metadata": {
      "needs_background": "light"
     },
     "output_type": "display_data"
    }
   ],
   "source": [
    "plt.figure(figsize=(10,6))\n",
    "sns.barplot(x='day' , y = 'number_of_ride',hue='member_casual',data=df2)\n",
    "plt.title(\"Number of Rides by Day and Rider Type\")\n",
    "plt.show()"
   ]
  },
  {
   "cell_type": "markdown",
   "id": "material-ensemble",
   "metadata": {},
   "source": [
    "Now let's check the Average ride duration by day."
   ]
  },
  {
   "cell_type": "code",
   "execution_count": 233,
   "id": "charged-example",
   "metadata": {},
   "outputs": [
    {
     "data": {
      "image/png": "[encoded data removed]",
      "text/plain": [
       "<Figure size 720x432 with 1 Axes>"
      ]
     },
     "metadata": {
      "needs_background": "light"
     },
     "output_type": "display_data"
    }
   ],
   "source": [
    "plt.figure(figsize=(10,6))\n",
    "sns.barplot(x='weekdays', y = 'average_ride_time',hue='member_casual',data=df1)\n",
    "plt.title(\"Average Ride Duration by Day and Rider Type\")\n",
    "plt.show()"
   ]
  },
  {
   "cell_type": "markdown",
   "id": "specified-trustee",
   "metadata": {},
   "source": [
    "Let's plot Number of rides by bike type and rider type"
   ]
  },
  {
   "cell_type": "code",
   "execution_count": 243,
   "id": "defined-surgery",
   "metadata": {},
   "outputs": [
    {
     "data": {
      "text/html": [
       "<div>\n",
       "<style scoped>\n",
       "    .dataframe tbody tr th:only-of-type {\n",
       "        vertical-align: middle;\n",
       "    }\n",
       "\n",
       "    .dataframe tbody tr th {\n",
       "        vertical-align: top;\n",
       "    }\n",
       "\n",
       "    .dataframe thead th {\n",
       "        text-align: right;\n",
       "    }\n",
       "</style>\n",
       "<table border=\"1\" class=\"dataframe\">\n",
       "  <thead>\n",
       "    <tr style=\"text-align: right;\">\n",
       "      <th></th>\n",
       "      <th></th>\n",
       "      <th>ride_id</th>\n",
       "      <th>started_at</th>\n",
       "      <th>ended_at</th>\n",
       "      <th>start_station_name</th>\n",
       "      <th>start_station_id</th>\n",
       "      <th>end_station_name</th>\n",
       "      <th>end_station_id</th>\n",
       "      <th>ride_length</th>\n",
       "      <th>day_of_week</th>\n",
       "      <th>ride_time</th>\n",
       "      <th>year</th>\n",
       "      <th>Month</th>\n",
       "      <th>day</th>\n",
       "      <th>day_name</th>\n",
       "    </tr>\n",
       "    <tr>\n",
       "      <th>rideable_type</th>\n",
       "      <th>member_casual</th>\n",
       "      <th></th>\n",
       "      <th></th>\n",
       "      <th></th>\n",
       "      <th></th>\n",
       "      <th></th>\n",
       "      <th></th>\n",
       "      <th></th>\n",
       "      <th></th>\n",
       "      <th></th>\n",
       "      <th></th>\n",
       "      <th></th>\n",
       "      <th></th>\n",
       "      <th></th>\n",
       "      <th></th>\n",
       "    </tr>\n",
       "  </thead>\n",
       "  <tbody>\n",
       "    <tr>\n",
       "      <th rowspan=\"2\" valign=\"top\">docked_bike</th>\n",
       "      <th>casual</th>\n",
       "      <td>1087520</td>\n",
       "      <td>1087520</td>\n",
       "      <td>1087520</td>\n",
       "      <td>1087520</td>\n",
       "      <td>1087520</td>\n",
       "      <td>1087480</td>\n",
       "      <td>1087480</td>\n",
       "      <td>1087520</td>\n",
       "      <td>1087520</td>\n",
       "      <td>1087520</td>\n",
       "      <td>1087520</td>\n",
       "      <td>1087520</td>\n",
       "      <td>1087520</td>\n",
       "      <td>1087520</td>\n",
       "    </tr>\n",
       "    <tr>\n",
       "      <th>member</th>\n",
       "      <td>1424812</td>\n",
       "      <td>1424812</td>\n",
       "      <td>1424812</td>\n",
       "      <td>1424812</td>\n",
       "      <td>1424812</td>\n",
       "      <td>1424753</td>\n",
       "      <td>1424753</td>\n",
       "      <td>1424812</td>\n",
       "      <td>1424812</td>\n",
       "      <td>1424812</td>\n",
       "      <td>1424812</td>\n",
       "      <td>1424812</td>\n",
       "      <td>1424812</td>\n",
       "      <td>1424812</td>\n",
       "    </tr>\n",
       "    <tr>\n",
       "      <th rowspan=\"2\" valign=\"top\">electric_bike</th>\n",
       "      <th>casual</th>\n",
       "      <td>137102</td>\n",
       "      <td>137102</td>\n",
       "      <td>137102</td>\n",
       "      <td>137102</td>\n",
       "      <td>137102</td>\n",
       "      <td>137102</td>\n",
       "      <td>137102</td>\n",
       "      <td>137102</td>\n",
       "      <td>137102</td>\n",
       "      <td>137102</td>\n",
       "      <td>137102</td>\n",
       "      <td>137102</td>\n",
       "      <td>137102</td>\n",
       "      <td>137102</td>\n",
       "    </tr>\n",
       "    <tr>\n",
       "      <th>member</th>\n",
       "      <td>189167</td>\n",
       "      <td>189167</td>\n",
       "      <td>189167</td>\n",
       "      <td>189167</td>\n",
       "      <td>189167</td>\n",
       "      <td>189167</td>\n",
       "      <td>189167</td>\n",
       "      <td>189167</td>\n",
       "      <td>189167</td>\n",
       "      <td>189167</td>\n",
       "      <td>189167</td>\n",
       "      <td>189167</td>\n",
       "      <td>189167</td>\n",
       "      <td>189167</td>\n",
       "    </tr>\n",
       "  </tbody>\n",
       "</table>\n",
       "</div>"
      ],
      "text/plain": [
       "                             ride_id  started_at  ended_at  \\\n",
       "rideable_type member_casual                                  \n",
       "docked_bike   casual         1087520     1087520   1087520   \n",
       "              member         1424812     1424812   1424812   \n",
       "electric_bike casual          137102      137102    137102   \n",
       "              member          189167      189167    189167   \n",
       "\n",
       "                             start_station_name  start_station_id  \\\n",
       "rideable_type member_casual                                         \n",
       "docked_bike   casual                    1087520           1087520   \n",
       "              member                    1424812           1424812   \n",
       "electric_bike casual                     137102            137102   \n",
       "              member                     189167            189167   \n",
       "\n",
       "                             end_station_name  end_station_id  ride_length  \\\n",
       "rideable_type member_casual                                                  \n",
       "docked_bike   casual                  1087480         1087480      1087520   \n",
       "              member                  1424753         1424753      1424812   \n",
       "electric_bike casual                   137102          137102       137102   \n",
       "              member                   189167          189167       189167   \n",
       "\n",
       "                             day_of_week  ride_time     year    Month  \\\n",
       "rideable_type member_casual                                             \n",
       "docked_bike   casual             1087520    1087520  1087520  1087520   \n",
       "              member             1424812    1424812  1424812  1424812   \n",
       "electric_bike casual              137102     137102   137102   137102   \n",
       "              member              189167     189167   189167   189167   \n",
       "\n",
       "                                 day  day_name  \n",
       "rideable_type member_casual                     \n",
       "docked_bike   casual         1087520   1087520  \n",
       "              member         1424812   1424812  \n",
       "electric_bike casual          137102    137102  \n",
       "              member          189167    189167  "
      ]
     },
     "execution_count": 243,
     "metadata": {},
     "output_type": "execute_result"
    }
   ],
   "source": [
    "df = tripdata1.groupby(['rideable_type', 'member_casual']).agg('count')\n",
    "df"
   ]
  },
  {
   "cell_type": "code",
   "execution_count": 260,
   "id": "divine-chile",
   "metadata": {},
   "outputs": [
    {
     "data": {
      "text/plain": [
       "MultiIndex([(  'docked_bike', 'casual'),\n",
       "            (  'docked_bike', 'member'),\n",
       "            ('electric_bike', 'casual'),\n",
       "            ('electric_bike', 'member')],\n",
       "           names=['rideable_type', 'member_casual'])"
      ]
     },
     "execution_count": 260,
     "metadata": {},
     "output_type": "execute_result"
    }
   ],
   "source": [
    "x = tripdata1.groupby(['rideable_type', 'member_casual']).size().to_frame()\n",
    "x.index"
   ]
  },
  {
   "cell_type": "code",
   "execution_count": 261,
   "id": "leading-dream",
   "metadata": {},
   "outputs": [],
   "source": [
    "index = x.index\n",
    "bike_type = []\n",
    "member_casual = []\n",
    "\n",
    "for i in index:\n",
    "    bike_type.append(i[0])\n",
    "    member_casual.append(i[1])"
   ]
  },
  {
   "cell_type": "code",
   "execution_count": 264,
   "id": "freelance-lemon",
   "metadata": {},
   "outputs": [
    {
     "data": {
      "text/plain": [
       "['docked_bike', 'docked_bike', 'electric_bike', 'electric_bike']"
      ]
     },
     "execution_count": 264,
     "metadata": {},
     "output_type": "execute_result"
    }
   ],
   "source": []
  },
  {
   "cell_type": "code",
   "execution_count": 275,
   "id": "exterior-better",
   "metadata": {},
   "outputs": [
    {
     "data": {
      "text/html": [
       "<div>\n",
       "<style scoped>\n",
       "    .dataframe tbody tr th:only-of-type {\n",
       "        vertical-align: middle;\n",
       "    }\n",
       "\n",
       "    .dataframe tbody tr th {\n",
       "        vertical-align: top;\n",
       "    }\n",
       "\n",
       "    .dataframe thead th {\n",
       "        text-align: right;\n",
       "    }\n",
       "</style>\n",
       "<table border=\"1\" class=\"dataframe\">\n",
       "  <thead>\n",
       "    <tr style=\"text-align: right;\">\n",
       "      <th></th>\n",
       "      <th>bike_type</th>\n",
       "      <th>member_casual</th>\n",
       "      <th>number_of_ride</th>\n",
       "    </tr>\n",
       "  </thead>\n",
       "  <tbody>\n",
       "    <tr>\n",
       "      <th>0</th>\n",
       "      <td>docked_bike</td>\n",
       "      <td>casual</td>\n",
       "      <td>1087520</td>\n",
       "    </tr>\n",
       "    <tr>\n",
       "      <th>1</th>\n",
       "      <td>docked_bike</td>\n",
       "      <td>member</td>\n",
       "      <td>1424812</td>\n",
       "    </tr>\n",
       "    <tr>\n",
       "      <th>2</th>\n",
       "      <td>electric_bike</td>\n",
       "      <td>casual</td>\n",
       "      <td>137102</td>\n",
       "    </tr>\n",
       "    <tr>\n",
       "      <th>3</th>\n",
       "      <td>electric_bike</td>\n",
       "      <td>member</td>\n",
       "      <td>189167</td>\n",
       "    </tr>\n",
       "  </tbody>\n",
       "</table>\n",
       "</div>"
      ],
      "text/plain": [
       "       bike_type member_casual  number_of_ride\n",
       "0    docked_bike        casual         1087520\n",
       "1    docked_bike        member         1424812\n",
       "2  electric_bike        casual          137102\n",
       "3  electric_bike        member          189167"
      ]
     },
     "execution_count": 275,
     "metadata": {},
     "output_type": "execute_result"
    }
   ],
   "source": [
    "x.reset_index(drop=True,inplace=True)\n",
    "bike_df = x\n",
    "bike_df['bike_type'] = bike_type\n",
    "bike_df['member_casual'] = member_casual\n",
    "bike_df['number_of_ride'] = bike_df[0]\n",
    "bike_df.drop(columns=0)"
   ]
  },
  {
   "cell_type": "code",
   "execution_count": 276,
   "id": "molecular-appearance",
   "metadata": {},
   "outputs": [
    {
     "data": {
      "text/html": [
       "<div>\n",
       "<style scoped>\n",
       "    .dataframe tbody tr th:only-of-type {\n",
       "        vertical-align: middle;\n",
       "    }\n",
       "\n",
       "    .dataframe tbody tr th {\n",
       "        vertical-align: top;\n",
       "    }\n",
       "\n",
       "    .dataframe thead th {\n",
       "        text-align: right;\n",
       "    }\n",
       "</style>\n",
       "<table border=\"1\" class=\"dataframe\">\n",
       "  <thead>\n",
       "    <tr style=\"text-align: right;\">\n",
       "      <th></th>\n",
       "      <th>0</th>\n",
       "      <th>bike_type</th>\n",
       "      <th>member_casual</th>\n",
       "      <th>number_of_ride</th>\n",
       "    </tr>\n",
       "  </thead>\n",
       "  <tbody>\n",
       "    <tr>\n",
       "      <th>0</th>\n",
       "      <td>1087520</td>\n",
       "      <td>docked_bike</td>\n",
       "      <td>casual</td>\n",
       "      <td>1087520</td>\n",
       "    </tr>\n",
       "    <tr>\n",
       "      <th>1</th>\n",
       "      <td>1424812</td>\n",
       "      <td>docked_bike</td>\n",
       "      <td>member</td>\n",
       "      <td>1424812</td>\n",
       "    </tr>\n",
       "    <tr>\n",
       "      <th>2</th>\n",
       "      <td>137102</td>\n",
       "      <td>electric_bike</td>\n",
       "      <td>casual</td>\n",
       "      <td>137102</td>\n",
       "    </tr>\n",
       "    <tr>\n",
       "      <th>3</th>\n",
       "      <td>189167</td>\n",
       "      <td>electric_bike</td>\n",
       "      <td>member</td>\n",
       "      <td>189167</td>\n",
       "    </tr>\n",
       "  </tbody>\n",
       "</table>\n",
       "</div>"
      ],
      "text/plain": [
       "         0      bike_type member_casual  number_of_ride\n",
       "0  1087520    docked_bike        casual         1087520\n",
       "1  1424812    docked_bike        member         1424812\n",
       "2   137102  electric_bike        casual          137102\n",
       "3   189167  electric_bike        member          189167"
      ]
     },
     "execution_count": 276,
     "metadata": {},
     "output_type": "execute_result"
    }
   ],
   "source": [
    "bike_df"
   ]
  },
  {
   "cell_type": "code",
   "execution_count": 278,
   "id": "visible-things",
   "metadata": {},
   "outputs": [
    {
     "data": {
      "image/png": "[encoded data removed]",
      "text/plain": [
       "<Figure size 720x432 with 1 Axes>"
      ]
     },
     "metadata": {
      "needs_background": "light"
     },
     "output_type": "display_data"
    }
   ],
   "source": [
    "plt.figure(figsize=(10,6))\n",
    "sns.barplot(x='bike_type', y = 'number_of_ride',hue='member_casual',data=bike_df)\n",
    "plt.title(\"Number of Rides by Bike Type and Rider Type\")\n",
    "plt.show()"
   ]
  },
  {
   "cell_type": "code",
   "execution_count": null,
   "id": "square-median",
   "metadata": {},
   "outputs": [],
   "source": []
  },
  {
   "cell_type": "markdown",
   "id": "careful-volunteer",
   "metadata": {},
   "source": [
    "Now let's plot Number of rides by day and bike type.\n",
    "\n",
    "First we need to prepare our data. "
   ]
  },
  {
   "cell_type": "code",
   "execution_count": 280,
   "id": "excited-smooth",
   "metadata": {},
   "outputs": [
    {
     "data": {
      "text/html": [
       "<div>\n",
       "<style scoped>\n",
       "    .dataframe tbody tr th:only-of-type {\n",
       "        vertical-align: middle;\n",
       "    }\n",
       "\n",
       "    .dataframe tbody tr th {\n",
       "        vertical-align: top;\n",
       "    }\n",
       "\n",
       "    .dataframe thead th {\n",
       "        text-align: right;\n",
       "    }\n",
       "</style>\n",
       "<table border=\"1\" class=\"dataframe\">\n",
       "  <thead>\n",
       "    <tr style=\"text-align: right;\">\n",
       "      <th></th>\n",
       "      <th></th>\n",
       "      <th>0</th>\n",
       "    </tr>\n",
       "    <tr>\n",
       "      <th>rideable_type</th>\n",
       "      <th>day_name</th>\n",
       "      <th></th>\n",
       "    </tr>\n",
       "  </thead>\n",
       "  <tbody>\n",
       "    <tr>\n",
       "      <th rowspan=\"7\" valign=\"top\">docked_bike</th>\n",
       "      <th>Friday</th>\n",
       "      <td>376188</td>\n",
       "    </tr>\n",
       "    <tr>\n",
       "      <th>Monday</th>\n",
       "      <td>292734</td>\n",
       "    </tr>\n",
       "    <tr>\n",
       "      <th>Saturday</th>\n",
       "      <td>489948</td>\n",
       "    </tr>\n",
       "    <tr>\n",
       "      <th>Sunday</th>\n",
       "      <td>394651</td>\n",
       "    </tr>\n",
       "    <tr>\n",
       "      <th>Thursday</th>\n",
       "      <td>334877</td>\n",
       "    </tr>\n",
       "    <tr>\n",
       "      <th>Tuesday</th>\n",
       "      <td>298500</td>\n",
       "    </tr>\n",
       "    <tr>\n",
       "      <th>Wednesday</th>\n",
       "      <td>325434</td>\n",
       "    </tr>\n",
       "    <tr>\n",
       "      <th rowspan=\"7\" valign=\"top\">electric_bike</th>\n",
       "      <th>Friday</th>\n",
       "      <td>52492</td>\n",
       "    </tr>\n",
       "    <tr>\n",
       "      <th>Monday</th>\n",
       "      <td>39395</td>\n",
       "    </tr>\n",
       "    <tr>\n",
       "      <th>Saturday</th>\n",
       "      <td>55810</td>\n",
       "    </tr>\n",
       "    <tr>\n",
       "      <th>Sunday</th>\n",
       "      <td>43727</td>\n",
       "    </tr>\n",
       "    <tr>\n",
       "      <th>Thursday</th>\n",
       "      <td>48763</td>\n",
       "    </tr>\n",
       "    <tr>\n",
       "      <th>Tuesday</th>\n",
       "      <td>40572</td>\n",
       "    </tr>\n",
       "    <tr>\n",
       "      <th>Wednesday</th>\n",
       "      <td>45510</td>\n",
       "    </tr>\n",
       "  </tbody>\n",
       "</table>\n",
       "</div>"
      ],
      "text/plain": [
       "                              0\n",
       "rideable_type day_name         \n",
       "docked_bike   Friday     376188\n",
       "              Monday     292734\n",
       "              Saturday   489948\n",
       "              Sunday     394651\n",
       "              Thursday   334877\n",
       "              Tuesday    298500\n",
       "              Wednesday  325434\n",
       "electric_bike Friday      52492\n",
       "              Monday      39395\n",
       "              Saturday    55810\n",
       "              Sunday      43727\n",
       "              Thursday    48763\n",
       "              Tuesday     40572\n",
       "              Wednesday   45510"
      ]
     },
     "execution_count": 280,
     "metadata": {},
     "output_type": "execute_result"
    }
   ],
   "source": [
    "tripdata1.groupby(['rideable_type', 'day_name']).size().to_frame()"
   ]
  },
  {
   "cell_type": "code",
   "execution_count": 283,
   "id": "celtic-walker",
   "metadata": {},
   "outputs": [
    {
     "data": {
      "text/html": [
       "<div>\n",
       "<style scoped>\n",
       "    .dataframe tbody tr th:only-of-type {\n",
       "        vertical-align: middle;\n",
       "    }\n",
       "\n",
       "    .dataframe tbody tr th {\n",
       "        vertical-align: top;\n",
       "    }\n",
       "\n",
       "    .dataframe thead th {\n",
       "        text-align: right;\n",
       "    }\n",
       "</style>\n",
       "<table border=\"1\" class=\"dataframe\">\n",
       "  <thead>\n",
       "    <tr style=\"text-align: right;\">\n",
       "      <th></th>\n",
       "      <th>bike_type</th>\n",
       "      <th>weekday</th>\n",
       "      <th>number_of_ride</th>\n",
       "    </tr>\n",
       "  </thead>\n",
       "  <tbody>\n",
       "    <tr>\n",
       "      <th>0</th>\n",
       "      <td>docked_bike</td>\n",
       "      <td>Friday</td>\n",
       "      <td>376188</td>\n",
       "    </tr>\n",
       "    <tr>\n",
       "      <th>1</th>\n",
       "      <td>docked_bike</td>\n",
       "      <td>Monday</td>\n",
       "      <td>292734</td>\n",
       "    </tr>\n",
       "    <tr>\n",
       "      <th>2</th>\n",
       "      <td>docked_bike</td>\n",
       "      <td>Saturday</td>\n",
       "      <td>489948</td>\n",
       "    </tr>\n",
       "    <tr>\n",
       "      <th>3</th>\n",
       "      <td>docked_bike</td>\n",
       "      <td>Sunday</td>\n",
       "      <td>394651</td>\n",
       "    </tr>\n",
       "    <tr>\n",
       "      <th>4</th>\n",
       "      <td>docked_bike</td>\n",
       "      <td>Thursday</td>\n",
       "      <td>334877</td>\n",
       "    </tr>\n",
       "    <tr>\n",
       "      <th>5</th>\n",
       "      <td>docked_bike</td>\n",
       "      <td>Tuesday</td>\n",
       "      <td>298500</td>\n",
       "    </tr>\n",
       "    <tr>\n",
       "      <th>6</th>\n",
       "      <td>docked_bike</td>\n",
       "      <td>Wednesday</td>\n",
       "      <td>325434</td>\n",
       "    </tr>\n",
       "    <tr>\n",
       "      <th>7</th>\n",
       "      <td>electric_bike</td>\n",
       "      <td>Friday</td>\n",
       "      <td>52492</td>\n",
       "    </tr>\n",
       "    <tr>\n",
       "      <th>8</th>\n",
       "      <td>electric_bike</td>\n",
       "      <td>Monday</td>\n",
       "      <td>39395</td>\n",
       "    </tr>\n",
       "    <tr>\n",
       "      <th>9</th>\n",
       "      <td>electric_bike</td>\n",
       "      <td>Saturday</td>\n",
       "      <td>55810</td>\n",
       "    </tr>\n",
       "    <tr>\n",
       "      <th>10</th>\n",
       "      <td>electric_bike</td>\n",
       "      <td>Sunday</td>\n",
       "      <td>43727</td>\n",
       "    </tr>\n",
       "    <tr>\n",
       "      <th>11</th>\n",
       "      <td>electric_bike</td>\n",
       "      <td>Thursday</td>\n",
       "      <td>48763</td>\n",
       "    </tr>\n",
       "    <tr>\n",
       "      <th>12</th>\n",
       "      <td>electric_bike</td>\n",
       "      <td>Tuesday</td>\n",
       "      <td>40572</td>\n",
       "    </tr>\n",
       "    <tr>\n",
       "      <th>13</th>\n",
       "      <td>electric_bike</td>\n",
       "      <td>Wednesday</td>\n",
       "      <td>45510</td>\n",
       "    </tr>\n",
       "  </tbody>\n",
       "</table>\n",
       "</div>"
      ],
      "text/plain": [
       "        bike_type    weekday  number_of_ride\n",
       "0     docked_bike     Friday          376188\n",
       "1     docked_bike     Monday          292734\n",
       "2     docked_bike   Saturday          489948\n",
       "3     docked_bike     Sunday          394651\n",
       "4     docked_bike   Thursday          334877\n",
       "5     docked_bike    Tuesday          298500\n",
       "6     docked_bike  Wednesday          325434\n",
       "7   electric_bike     Friday           52492\n",
       "8   electric_bike     Monday           39395\n",
       "9   electric_bike   Saturday           55810\n",
       "10  electric_bike     Sunday           43727\n",
       "11  electric_bike   Thursday           48763\n",
       "12  electric_bike    Tuesday           40572\n",
       "13  electric_bike  Wednesday           45510"
      ]
     },
     "execution_count": 283,
     "metadata": {},
     "output_type": "execute_result"
    }
   ],
   "source": [
    "x = tripdata1.groupby(['rideable_type', 'day_name']).size().to_frame()\n",
    "index = x.index\n",
    "bike_type = []\n",
    "weekdays = []\n",
    "\n",
    "for i in index:\n",
    "    bike_type.append(i[0])\n",
    "    weekdays.append(i[1])\n",
    "    \n",
    "x.reset_index(drop=True,inplace=True)\n",
    "bike_type_df = x\n",
    "bike_type_df['bike_type'] = bike_type\n",
    "bike_type_df['weekday'] = weekdays\n",
    "bike_type_df['number_of_ride'] = bike_type_df[0]\n",
    "bike_type_df.drop(columns=0)"
   ]
  },
  {
   "cell_type": "markdown",
   "id": "three-gender",
   "metadata": {},
   "source": [
    "Now our data is ready let's plot the graph."
   ]
  },
  {
   "cell_type": "code",
   "execution_count": 287,
   "id": "active-professor",
   "metadata": {},
   "outputs": [
    {
     "data": {
      "image/png": "[encoded data removed]",
      "text/plain": [
       "<Figure size 720x432 with 1 Axes>"
      ]
     },
     "metadata": {
      "needs_background": "light"
     },
     "output_type": "display_data"
    }
   ],
   "source": [
    "plt.figure(figsize=(10,6))\n",
    "sns.barplot(x='weekday', y = 'number_of_ride',hue='bike_type',data=bike_type_df)\n",
    "plt.title(\"Number of rides by day and bike type\")\n",
    "plt.show()"
   ]
  },
  {
   "cell_type": "markdown",
   "id": "conceptual-generator",
   "metadata": {},
   "source": [
    "Now let's plot Average duration by bike type. "
   ]
  },
  {
   "cell_type": "code",
   "execution_count": 299,
   "id": "fallen-viewer",
   "metadata": {},
   "outputs": [
    {
     "name": "stderr",
     "output_type": "stream",
     "text": [
      "<ipython-input-299-81ce5cc38e97>:14: SettingWithCopyWarning: \n",
      "A value is trying to be set on a copy of a slice from a DataFrame.\n",
      "Try using .loc[row_indexer,col_indexer] = value instead\n",
      "\n",
      "See the caveats in the documentation: https://pandas.pydata.org/pandas-docs/stable/user_guide/indexing.html#returning-a-view-versus-a-copy\n",
      "  bike_type_df['bike_type'] = bike_type\n",
      "<ipython-input-299-81ce5cc38e97>:15: SettingWithCopyWarning: \n",
      "A value is trying to be set on a copy of a slice from a DataFrame.\n",
      "Try using .loc[row_indexer,col_indexer] = value instead\n",
      "\n",
      "See the caveats in the documentation: https://pandas.pydata.org/pandas-docs/stable/user_guide/indexing.html#returning-a-view-versus-a-copy\n",
      "  bike_type_df['weekday'] = weekdays\n"
     ]
    }
   ],
   "source": [
    "x = tripdata1.groupby(['day_name', 'rideable_type']).agg({'ride_time': ['mean']})\n",
    "index = x.index\n",
    "bike_type = []\n",
    "weekdays = []\n",
    "\n",
    "for i in index:\n",
    "    bike_type.append(i[0])\n",
    "    weekdays.append(i[1])\n",
    "    \n",
    "y = x['ride_time']\n",
    "y.reset_index(drop=True,inplace=True)\n",
    "\n",
    "bike_type_df = y\n",
    "bike_type_df['bike_type'] = bike_type\n",
    "bike_type_df['weekday'] = weekdays\n"
   ]
  },
  {
   "cell_type": "code",
   "execution_count": 300,
   "id": "graphic-prime",
   "metadata": {},
   "outputs": [
    {
     "data": {
      "text/html": [
       "<div>\n",
       "<style scoped>\n",
       "    .dataframe tbody tr th:only-of-type {\n",
       "        vertical-align: middle;\n",
       "    }\n",
       "\n",
       "    .dataframe tbody tr th {\n",
       "        vertical-align: top;\n",
       "    }\n",
       "\n",
       "    .dataframe thead th {\n",
       "        text-align: right;\n",
       "    }\n",
       "</style>\n",
       "<table border=\"1\" class=\"dataframe\">\n",
       "  <thead>\n",
       "    <tr style=\"text-align: right;\">\n",
       "      <th></th>\n",
       "      <th>mean</th>\n",
       "      <th>bike_type</th>\n",
       "      <th>weekday</th>\n",
       "    </tr>\n",
       "  </thead>\n",
       "  <tbody>\n",
       "    <tr>\n",
       "      <th>0</th>\n",
       "      <td>29.814207</td>\n",
       "      <td>Friday</td>\n",
       "      <td>docked_bike</td>\n",
       "    </tr>\n",
       "    <tr>\n",
       "      <th>1</th>\n",
       "      <td>16.134905</td>\n",
       "      <td>Friday</td>\n",
       "      <td>electric_bike</td>\n",
       "    </tr>\n",
       "    <tr>\n",
       "      <th>2</th>\n",
       "      <td>28.931834</td>\n",
       "      <td>Monday</td>\n",
       "      <td>docked_bike</td>\n",
       "    </tr>\n",
       "    <tr>\n",
       "      <th>3</th>\n",
       "      <td>15.384537</td>\n",
       "      <td>Monday</td>\n",
       "      <td>electric_bike</td>\n",
       "    </tr>\n",
       "    <tr>\n",
       "      <th>4</th>\n",
       "      <td>35.560684</td>\n",
       "      <td>Saturday</td>\n",
       "      <td>docked_bike</td>\n",
       "    </tr>\n",
       "    <tr>\n",
       "      <th>5</th>\n",
       "      <td>19.749711</td>\n",
       "      <td>Saturday</td>\n",
       "      <td>electric_bike</td>\n",
       "    </tr>\n",
       "    <tr>\n",
       "      <th>6</th>\n",
       "      <td>37.847801</td>\n",
       "      <td>Sunday</td>\n",
       "      <td>docked_bike</td>\n",
       "    </tr>\n",
       "    <tr>\n",
       "      <th>7</th>\n",
       "      <td>19.813203</td>\n",
       "      <td>Sunday</td>\n",
       "      <td>electric_bike</td>\n",
       "    </tr>\n",
       "    <tr>\n",
       "      <th>8</th>\n",
       "      <td>28.384532</td>\n",
       "      <td>Thursday</td>\n",
       "      <td>docked_bike</td>\n",
       "    </tr>\n",
       "    <tr>\n",
       "      <th>9</th>\n",
       "      <td>15.015115</td>\n",
       "      <td>Thursday</td>\n",
       "      <td>electric_bike</td>\n",
       "    </tr>\n",
       "    <tr>\n",
       "      <th>10</th>\n",
       "      <td>26.378330</td>\n",
       "      <td>Tuesday</td>\n",
       "      <td>docked_bike</td>\n",
       "    </tr>\n",
       "    <tr>\n",
       "      <th>11</th>\n",
       "      <td>14.738653</td>\n",
       "      <td>Tuesday</td>\n",
       "      <td>electric_bike</td>\n",
       "    </tr>\n",
       "    <tr>\n",
       "      <th>12</th>\n",
       "      <td>26.699327</td>\n",
       "      <td>Wednesday</td>\n",
       "      <td>docked_bike</td>\n",
       "    </tr>\n",
       "    <tr>\n",
       "      <th>13</th>\n",
       "      <td>15.136145</td>\n",
       "      <td>Wednesday</td>\n",
       "      <td>electric_bike</td>\n",
       "    </tr>\n",
       "  </tbody>\n",
       "</table>\n",
       "</div>"
      ],
      "text/plain": [
       "         mean  bike_type        weekday\n",
       "0   29.814207     Friday    docked_bike\n",
       "1   16.134905     Friday  electric_bike\n",
       "2   28.931834     Monday    docked_bike\n",
       "3   15.384537     Monday  electric_bike\n",
       "4   35.560684   Saturday    docked_bike\n",
       "5   19.749711   Saturday  electric_bike\n",
       "6   37.847801     Sunday    docked_bike\n",
       "7   19.813203     Sunday  electric_bike\n",
       "8   28.384532   Thursday    docked_bike\n",
       "9   15.015115   Thursday  electric_bike\n",
       "10  26.378330    Tuesday    docked_bike\n",
       "11  14.738653    Tuesday  electric_bike\n",
       "12  26.699327  Wednesday    docked_bike\n",
       "13  15.136145  Wednesday  electric_bike"
      ]
     },
     "execution_count": 300,
     "metadata": {},
     "output_type": "execute_result"
    }
   ],
   "source": [
    "bike_type_df"
   ]
  },
  {
   "cell_type": "code",
   "execution_count": 301,
   "id": "interested-huntington",
   "metadata": {},
   "outputs": [
    {
     "data": {
      "image/png": "[encoded data removed]",
      "text/plain": [
       "<Figure size 720x432 with 1 Axes>"
      ]
     },
     "metadata": {
      "needs_background": "light"
     },
     "output_type": "display_data"
    }
   ],
   "source": [
    "plt.figure(figsize=(10,6))\n",
    "sns.barplot(x='weekday', y = 'mean',hue='bike_type',data=bike_type_df)\n",
    "plt.title(\"Average duration by bike type\")\n",
    "plt.show()"
   ]
  },
  {
   "cell_type": "markdown",
   "id": "irish-print",
   "metadata": {},
   "source": [
    "Let's plot Number of rides by month and rider type."
   ]
  },
  {
   "cell_type": "code",
   "execution_count": 324,
   "id": "harmful-mambo",
   "metadata": {},
   "outputs": [
    {
     "data": {
      "text/html": [
       "<div>\n",
       "<style scoped>\n",
       "    .dataframe tbody tr th:only-of-type {\n",
       "        vertical-align: middle;\n",
       "    }\n",
       "\n",
       "    .dataframe tbody tr th {\n",
       "        vertical-align: top;\n",
       "    }\n",
       "\n",
       "    .dataframe thead th {\n",
       "        text-align: right;\n",
       "    }\n",
       "</style>\n",
       "<table border=\"1\" class=\"dataframe\">\n",
       "  <thead>\n",
       "    <tr style=\"text-align: right;\">\n",
       "      <th></th>\n",
       "      <th>member_casual</th>\n",
       "      <th>Month</th>\n",
       "      <th>number_of_ride</th>\n",
       "    </tr>\n",
       "  </thead>\n",
       "  <tbody>\n",
       "    <tr>\n",
       "      <th>0</th>\n",
       "      <td>casual</td>\n",
       "      <td>4</td>\n",
       "      <td>23610</td>\n",
       "    </tr>\n",
       "    <tr>\n",
       "      <th>1</th>\n",
       "      <td>casual</td>\n",
       "      <td>5</td>\n",
       "      <td>86699</td>\n",
       "    </tr>\n",
       "    <tr>\n",
       "      <th>2</th>\n",
       "      <td>casual</td>\n",
       "      <td>6</td>\n",
       "      <td>154342</td>\n",
       "    </tr>\n",
       "    <tr>\n",
       "      <th>3</th>\n",
       "      <td>casual</td>\n",
       "      <td>7</td>\n",
       "      <td>268125</td>\n",
       "    </tr>\n",
       "    <tr>\n",
       "      <th>4</th>\n",
       "      <td>casual</td>\n",
       "      <td>8</td>\n",
       "      <td>281987</td>\n",
       "    </tr>\n",
       "    <tr>\n",
       "      <th>5</th>\n",
       "      <td>casual</td>\n",
       "      <td>9</td>\n",
       "      <td>214681</td>\n",
       "    </tr>\n",
       "    <tr>\n",
       "      <th>6</th>\n",
       "      <td>casual</td>\n",
       "      <td>10</td>\n",
       "      <td>122328</td>\n",
       "    </tr>\n",
       "    <tr>\n",
       "      <th>7</th>\n",
       "      <td>casual</td>\n",
       "      <td>11</td>\n",
       "      <td>72850</td>\n",
       "    </tr>\n",
       "    <tr>\n",
       "      <th>8</th>\n",
       "      <td>member</td>\n",
       "      <td>4</td>\n",
       "      <td>61115</td>\n",
       "    </tr>\n",
       "    <tr>\n",
       "      <th>9</th>\n",
       "      <td>member</td>\n",
       "      <td>5</td>\n",
       "      <td>113083</td>\n",
       "    </tr>\n",
       "    <tr>\n",
       "      <th>10</th>\n",
       "      <td>member</td>\n",
       "      <td>6</td>\n",
       "      <td>187727</td>\n",
       "    </tr>\n",
       "    <tr>\n",
       "      <th>11</th>\n",
       "      <td>member</td>\n",
       "      <td>7</td>\n",
       "      <td>280556</td>\n",
       "    </tr>\n",
       "    <tr>\n",
       "      <th>12</th>\n",
       "      <td>member</td>\n",
       "      <td>8</td>\n",
       "      <td>323759</td>\n",
       "    </tr>\n",
       "    <tr>\n",
       "      <th>13</th>\n",
       "      <td>member</td>\n",
       "      <td>9</td>\n",
       "      <td>283582</td>\n",
       "    </tr>\n",
       "    <tr>\n",
       "      <th>14</th>\n",
       "      <td>member</td>\n",
       "      <td>10</td>\n",
       "      <td>215072</td>\n",
       "    </tr>\n",
       "    <tr>\n",
       "      <th>15</th>\n",
       "      <td>member</td>\n",
       "      <td>11</td>\n",
       "      <td>149085</td>\n",
       "    </tr>\n",
       "  </tbody>\n",
       "</table>\n",
       "</div>"
      ],
      "text/plain": [
       "   member_casual  Month  number_of_ride\n",
       "0         casual      4           23610\n",
       "1         casual      5           86699\n",
       "2         casual      6          154342\n",
       "3         casual      7          268125\n",
       "4         casual      8          281987\n",
       "5         casual      9          214681\n",
       "6         casual     10          122328\n",
       "7         casual     11           72850\n",
       "8         member      4           61115\n",
       "9         member      5          113083\n",
       "10        member      6          187727\n",
       "11        member      7          280556\n",
       "12        member      8          323759\n",
       "13        member      9          283582\n",
       "14        member     10          215072\n",
       "15        member     11          149085"
      ]
     },
     "execution_count": 324,
     "metadata": {},
     "output_type": "execute_result"
    }
   ],
   "source": [
    "x = tripdata1.groupby(['member_casual', 'Month']).size().to_frame()\n",
    "index = x.index\n",
    "member_casual = []\n",
    "month = []\n",
    "\n",
    "for i in index:\n",
    "    member_casual.append(i[0])\n",
    "    month.append(i[1])\n",
    "\n",
    "x.reset_index(drop=True,inplace=True)\n",
    "bike_type_df = x\n",
    "bike_type_df['member_casual'] = member_casual\n",
    "bike_type_df['Month'] = month\n",
    "bike_type_df['number_of_ride'] = bike_type_df[0]\n",
    "bike_type_df.drop(columns=0)"
   ]
  },
  {
   "cell_type": "code",
   "execution_count": 328,
   "id": "satisfied-causing",
   "metadata": {},
   "outputs": [
    {
     "data": {
      "image/png": "[encoded data removed]",
      "text/plain": [
       "<Figure size 720x432 with 1 Axes>"
      ]
     },
     "metadata": {
      "needs_background": "light"
     },
     "output_type": "display_data"
    }
   ],
   "source": [
    "plt.figure(figsize=(10,6))\n",
    "sns.lineplot(x='Month', y = 'number_of_ride',hue='member_casual',data=bike_type_df,style=\"member_casual\",markers=True, dashes=False)\n",
    "plt.title(\"Average duration by bike type\")\n",
    "plt.show()"
   ]
  },
  {
   "cell_type": "markdown",
   "id": "stock-moisture",
   "metadata": {},
   "source": [
    "    \n",
    "## Present your findings."
   ]
  },
  {
   "cell_type": "markdown",
   "id": "everyday-medication",
   "metadata": {},
   "source": [
    "Here is a summary of the key observations from above:\n",
    "\n",
    "- On average, each ride is about 30 minutes:\n",
    "     - Casual users ride for 46 minutes on average.\n",
    "     - Members ride for 16 minutes on average.\n",
    "- Regardless of being a member or not, the most popular day to rent a bike is Saturday.\n",
    "- Bike rentals start off at a low on Mondays, peak on Saturdays with a slight drop off on Sundays. \n",
    "- Members rent bikes on a more consistent basis throughout the entire week, whereas casual rentals are low Monday through Thursday and peak towards the weekend\n",
    "- On any day of the week, casual users ride longer than members \n",
    "- The docked bike option is far more popular than both classic bikes and electric bikes, both in terms of number of rentals and average ride duration on each type of bike. \n",
    "- Bike rentals follow a seasonal pattern for both types of users\n",
    "- Since Chicago experiences inclement weather, lowest usage is in the winter with rentals starting to ramp up in the spring. Peak usage is in the summer (August) before it starts to decline again during the Fall."
   ]
  },
  {
   "cell_type": "markdown",
   "id": "cellular-proxy",
   "metadata": {},
   "source": [
    "## Act\n",
    "\n",
    "Now that you have finished creating your visualizations, act on your findings. Prepare the deliverables Morena asked you to\n",
    "create, including the three top recommendations based on your analysis. Use the following Case Study Roadmap as a guide:\n",
    "    \n",
    "- What is your final conclusion based on your analysis?\n",
    "- How could your team and business apply your insights?\n",
    "- What next steps would you or your stakeholders take based on your findings?\n",
    "- Is there additional data you could use to expand on your findings?\n",
    "- How can you apply your insights?\n",
    "\n",
    "### Key tasks\n",
    "\n",
    "- Practice presenting your case study to a friend or family member.\n",
    "\n",
    "- Share next steps with your stakeholders\n",
    "\n",
    "- Determine if more data could give you new insights\n",
    "\n",
    "\n",
    "### Deliverable\n",
    "\n",
    "- Your top three recommendations based on your analysis\n",
    "\n"
   ]
  },
  {
   "cell_type": "markdown",
   "id": "valuable-tribune",
   "metadata": {},
   "source": [
    "First, let's revisit the key business task: \n",
    "\n",
    "`discover how casual riders and Cyclistic members use their rental bikes differently?`\n",
    "\n",
    "It appears that members rent bikes for regular commuting---perhaps to work or school. This is based on the observation that the number of rides is fairly consistent day over day as is the average ride duration.\n",
    "\n",
    "Conversely, casual user rentals are lower Monday through Thursday and trend upwards starting on Friday and peaking on the weekend.\n",
    "\n",
    "This seems to indicate using the bikes for leisure activities such as touring the city, sightseeing, etc. Additional data that supports this is the longer average ride duration. \n",
    "\n",
    "#### My three recommendations for the new marketing strategy are as follows:\n",
    "\n",
    "1. Offer a weekend-only membership at a different price point than the full annual membership to entice casual users towards a full annual membership. They can only unlock bikes on Friday, Saturday, or Sunday.\n",
    "2. Create a \"See our City\" campaign targeted to casual users that includes 52 suggested routes that will cover all of the major sights in Chicago---one for each weekend. Casual riders could rent as they go, but they could see their city in one year (and save money!) for the price of an annual membership.\n",
    "3. Be sure that any campaigns are out to the market in the summer when ridership is at its annual peak."
   ]
  },
  {
   "cell_type": "markdown",
   "id": "clear-hacker",
   "metadata": {},
   "source": [
    "### `Note:`  it needes to be improve because my analysis is not completed yet. \n",
    "\n",
    "reference for some helpl: https://www.kaggle.com/codyfreeman/code\n"
   ]
  },
  {
   "cell_type": "code",
   "execution_count": null,
   "id": "broad-april",
   "metadata": {},
   "outputs": [],
   "source": []
  }
 ],
 "metadata": {
  "kernelspec": {
   "display_name": "Python 3",
   "language": "python",
   "name": "python3"
  },
  "language_info": {
   "codemirror_mode": {
    "name": "ipython",
    "version": 3
   },
   "file_extension": ".py",
   "mimetype": "text/x-python",
   "name": "python",
   "nbconvert_exporter": "python",
   "pygments_lexer": "ipython3",
   "version": "3.8.8"
  }
 },
 "nbformat": 4,
 "nbformat_minor": 5
}
